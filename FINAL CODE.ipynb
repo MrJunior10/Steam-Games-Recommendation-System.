{
 "cells": [
  {
   "cell_type": "code",
   "execution_count": 48,
   "id": "724bde7e",
   "metadata": {
    "scrolled": false
   },
   "outputs": [
    {
     "name": "stderr",
     "output_type": "stream",
     "text": [
      "[nltk_data] Downloading package stopwords to\n",
      "[nltk_data]     C:\\Users\\souvick\\AppData\\Roaming\\nltk_data...\n",
      "[nltk_data]   Package stopwords is already up-to-date!\n"
     ]
    },
    {
     "data": {
      "text/plain": [
       "True"
      ]
     },
     "execution_count": 48,
     "metadata": {},
     "output_type": "execute_result"
    }
   ],
   "source": [
    "# Import necessary libraries\n",
    "import pandas as pd\n",
    "import numpy as np\n",
    "from gensim.models.doc2vec import Doc2Vec, TaggedDocument\n",
    "from sklearn.metrics.pairwise import cosine_similarity\n",
    "from scipy.sparse import csr_matrix\n",
    "from scipy.sparse.linalg import svds\n",
    "from sklearn.neighbors import NearestNeighbors\n",
    "from sklearn.cluster import KMeans\n",
    "import re\n",
    "import nltk\n",
    "from nltk.corpus import stopwords\n",
    "\n",
    "import warnings\n",
    "warnings.filterwarnings('ignore')\n",
    "\n",
    "# Ensure nltk stopwords are downloaded\n",
    "nltk.download('stopwords')\n"
   ]
  },
  {
   "cell_type": "markdown",
   "id": "617575c3",
   "metadata": {},
   "source": [
    "This code imports libraries essential for building a hybrid recommendation system for Steam games. `pandas` and `numpy` handle data manipulation and numerical computations, while `gensim.models.doc2vec` processes textual game descriptions and reviews for content-based filtering. `sklearn.metrics.pairwise` provides cosine similarity for item comparisons, and `scipy.sparse` modules enable matrix operations for collaborative filtering techniques like Singular Value Decomposition (SVD). `sklearn.neighbors` supports finding nearest neighbors for recommendations, and `KMeans` aids in clustering similar games. `nltk` and its stopwords enhance natural language processing by cleaning text data, ensuring precise analysis of game descriptions and reviews."
   ]
  },
  {
   "cell_type": "code",
   "execution_count": 49,
   "id": "849fc84a",
   "metadata": {},
   "outputs": [],
   "source": [
    "# Step 1: Load the Data\n",
    "games_description = pd.read_csv(r\"C:\\Users\\souvick\\Downloads\\Recommendation Dataset\\games_description.csv\")\n",
    "steam_game_reviews = pd.read_csv(r\"C:\\Users\\souvick\\Downloads\\Recommendation Dataset\\clean.csv\")\n",
    "games_ranking = pd.read_csv(r\"C:\\Users\\souvick\\Downloads\\Recommendation Dataset\\games_ranking.csv\")\n"
   ]
  },
  {
   "cell_type": "code",
   "execution_count": 50,
   "id": "0a7141a8",
   "metadata": {},
   "outputs": [
    {
     "name": "stdout",
     "output_type": "stream",
     "text": [
      "\n",
      "Data Preprocessing...\n"
     ]
    }
   ],
   "source": [
    "# Step 2: Data Preprocessing\n",
    "print(\"\\nData Preprocessing...\")\n",
    "\n",
    "# Fill missing values\n",
    "games_description['genres'] = games_description['genres'].fillna('')\n",
    "games_description['long_description'] = games_description['long_description'].fillna('')\n",
    "games_description['short_description'] = games_description['short_description'].fillna('')\n",
    "games_description['overall_player_rating'] = games_description['overall_player_rating'].fillna('Unknown')\n"
   ]
  },
  {
   "cell_type": "markdown",
   "id": "2bc6e935",
   "metadata": {},
   "source": [
    "This code preprocesses the game dataset by addressing missing values in key columns to ensure data consistency. Missing genres, long descriptions, and short descriptions are replaced with empty strings, while missing player ratings are filled with the value \"Unknown.\" This step ensures the dataset is clean and ready for further analysis in the recommendation system.\n",
    "\n",
    "Replacing missing values with empty strings or \"Unknown\" avoids introducing potentially inaccurate information that could bias the recommendation system. This approach preserves data integrity, ensuring only meaningful and available information influences the model."
   ]
  },
  {
   "cell_type": "code",
   "execution_count": 51,
   "id": "4429f1a5",
   "metadata": {},
   "outputs": [
    {
     "name": "stdout",
     "output_type": "stream",
     "text": [
      "\n",
      "Unique Usernames After Cleaning:\n",
      "['Sentinowl' 'userpig' 'Imparat0r' ... 'Xukes' 'Iforked' 'Wolfy']\n"
     ]
    }
   ],
   "source": [
    "# Clean usernames by removing newline characters and extra spaces\n",
    "steam_game_reviews['username'] = steam_game_reviews['username'].astype(str).str.replace(r'\\n', ' ', regex=True).str.strip()\n",
    "\n",
    "# Remove any usernames that contain unwanted patterns\n",
    "steam_game_reviews = steam_game_reviews[~steam_game_reviews['username'].str.contains(r'\\d+ products in account', regex=True)]\n",
    "\n",
    "# Verify cleaned usernames\n",
    "print(\"\\nUnique Usernames After Cleaning:\")\n",
    "print(steam_game_reviews['username'].unique())\n"
   ]
  },
  {
   "cell_type": "markdown",
   "id": "15762bd1",
   "metadata": {},
   "source": [
    "This code cleans the username column in steam_game_reviews by removing newline characters, extra spaces, and filtering out usernames containing unwanted patterns like \"products in account.\" It then verifies the cleaning process by displaying the unique usernames."
   ]
  },
  {
   "cell_type": "code",
   "execution_count": 52,
   "id": "e7afdadd",
   "metadata": {},
   "outputs": [
    {
     "name": "stdout",
     "output_type": "stream",
     "text": [
      "Data Preprocessing Completed.\n"
     ]
    }
   ],
   "source": [
    "# Clean text data\n",
    "def preprocess_text(text):\n",
    "    text = re.sub(r'\\W+', ' ', text)  # Remove special characters\n",
    "    text = text.lower()\n",
    "    tokens = text.split()\n",
    "    tokens = [word for word in tokens if word not in stopwords.words('english')]\n",
    "    return ' '.join(tokens)\n",
    "\n",
    "games_description['processed_description'] = games_description['long_description'].apply(preprocess_text)\n",
    "\n",
    "print(\"Data Preprocessing Completed.\")\n"
   ]
  },
  {
   "cell_type": "markdown",
   "id": "2a305fd8",
   "metadata": {},
   "source": [
    "This code defines a function, preprocess_text, to clean text by removing special characters, converting it to lowercase, and eliminating stopwords for better analysis. It applies this function to the long_description column in games_description, creating a new column processed_description with the cleaned text. Finally, it indicates the completion of the data preprocessing step."
   ]
  },
  {
   "cell_type": "code",
   "execution_count": 53,
   "id": "e8e4a484",
   "metadata": {},
   "outputs": [
    {
     "name": "stdout",
     "output_type": "stream",
     "text": [
      "\n",
      "Training Doc2Vec Model...\n",
      "Doc2Vec Model Training Completed.\n"
     ]
    }
   ],
   "source": [
    "# Step 3: Train Doc2Vec Model for Content-Based Filtering\n",
    "# Tag documents for Doc2Vec\n",
    "documents = [TaggedDocument(doc.split(), [i]) for i, doc in enumerate(games_description['processed_description'])]\n",
    "\n",
    "# Train Doc2Vec model\n",
    "print(\"\\nTraining Doc2Vec Model...\")\n",
    "doc2vec_model = Doc2Vec(documents, vector_size=100, window=5, min_count=2, workers=4, epochs=40)\n",
    "print(\"Doc2Vec Model Training Completed.\")\n"
   ]
  },
  {
   "cell_type": "markdown",
   "id": "1013ba75",
   "metadata": {},
   "source": [
    "This code prepares the `processed_description` column for Doc2Vec by tagging each document with an identifier, then trains a Doc2Vec model using the tagged data with specified parameters such as vector size and epochs. Finally, it prints messages indicating the start and completion of the model training process."
   ]
  },
  {
   "cell_type": "code",
   "execution_count": 54,
   "id": "4a10c3c8",
   "metadata": {},
   "outputs": [
    {
     "name": "stdout",
     "output_type": "stream",
     "text": [
      "\n",
      "Generating Vectors for Each Game...\n",
      "Vectors Generated.\n"
     ]
    }
   ],
   "source": [
    "# Generate vectors for each game\n",
    "print(\"\\nGenerating Vectors for Each Game...\")\n",
    "doc_vectors = [doc2vec_model.infer_vector(doc.words) for doc in documents]\n",
    "print(\"Vectors Generated.\")\n"
   ]
  },
  {
   "cell_type": "markdown",
   "id": "03a18a7c",
   "metadata": {},
   "source": [
    "This code generates vectors for each game by inferring vector representations from the trained Doc2Vec model for the tagged documents, and confirms the completion of the process with a print statement."
   ]
  },
  {
   "cell_type": "code",
   "execution_count": 55,
   "id": "d37cc937",
   "metadata": {},
   "outputs": [
    {
     "name": "stdout",
     "output_type": "stream",
     "text": [
      "\n",
      "Computing Similarity Matrix...\n",
      "Similarity Matrix Computed.\n"
     ]
    }
   ],
   "source": [
    "# Compute similarity matrix\n",
    "print(\"\\nComputing Similarity Matrix...\")\n",
    "similarity_matrix = cosine_similarity(doc_vectors)\n",
    "print(\"Similarity Matrix Computed.\")\n"
   ]
  },
  {
   "cell_type": "markdown",
   "id": "d6aa930c",
   "metadata": {},
   "source": [
    "This code computes the similarity matrix using cosine similarity on the generated game vectors, and confirms the computation with a print statement."
   ]
  },
  {
   "cell_type": "code",
   "execution_count": 56,
   "id": "0310dcdb",
   "metadata": {},
   "outputs": [
    {
     "name": "stdout",
     "output_type": "stream",
     "text": [
      "\n",
      "Performing Collaborative Filtering with SVD...\n"
     ]
    }
   ],
   "source": [
    "# Step 4: Collaborative Filtering Setup\n",
    "print(\"\\nPerforming Collaborative Filtering with SVD...\")\n",
    "\n",
    "# Map 'recommendation' to numeric values\n",
    "recommendation_mapping = {'Recommended': 1, 'Not Recommended': 0}\n",
    "steam_game_reviews['recommendation'] = steam_game_reviews['recommendation'].map(recommendation_mapping)\n"
   ]
  },
  {
   "cell_type": "markdown",
   "id": "d061d5b4",
   "metadata": {},
   "source": [
    "This code maps the recommendation column in steam_game_reviews to numeric values (1 for \"Recommended\" and 0 for \"Not Recommended\") to prepare the data for collaborative filtering using SVD, and prints a progress message."
   ]
  },
  {
   "cell_type": "code",
   "execution_count": 57,
   "id": "5c4dbeee",
   "metadata": {},
   "outputs": [
    {
     "name": "stdout",
     "output_type": "stream",
     "text": [
      "User-Game Matrix Shape: (44458, 13)\n"
     ]
    }
   ],
   "source": [
    "# Drop any rows with missing 'recommendation' values after mapping\n",
    "steam_game_reviews.dropna(subset=['recommendation'], inplace=True)\n",
    "# Create user-game interaction matrix\n",
    "user_game_matrix = steam_game_reviews.pivot_table(index='username', columns='game_name', values='recommendation', aggfunc='mean')\n",
    "user_game_matrix.fillna(0, inplace=True)\n",
    "# Step 5: Display the shape of the user-game matrix\n",
    "print(f\"User-Game Matrix Shape: {user_game_matrix.shape}\")\n"
   ]
  },
  {
   "cell_type": "markdown",
   "id": "0be3bd75",
   "metadata": {},
   "source": [
    "This code removes rows with missing `recommendation` values and creates a user-game interaction matrix where each row represents a user and each column represents a game. Missing values in the matrix are filled with 0, and the matrix's shape is displayed to summarize its size."
   ]
  },
  {
   "cell_type": "code",
   "execution_count": 58,
   "id": "9b94a851",
   "metadata": {},
   "outputs": [
    {
     "name": "stdout",
     "output_type": "stream",
     "text": [
      "Adjusted k to 12 based on matrix dimensions.\n"
     ]
    }
   ],
   "source": [
    "# Step 6: Determine the appropriate value for k\n",
    "min_dimension = min(user_game_matrix.shape)\n",
    "k = 20  # Starting with 20\n",
    "\n",
    "# Ensure k is less than min_dimension\n",
    "if k >= min_dimension:\n",
    "    k = min_dimension - 1\n",
    "    print(f\"Adjusted k to {k} based on matrix dimensions.\")\n",
    "else:\n",
    "    print(f\"Using k={k} for SVD.\")\n"
   ]
  },
  {
   "cell_type": "markdown",
   "id": "8902d177",
   "metadata": {},
   "source": [
    "This code initializes `k` as 20 for SVD and adjusts it to be less than the smallest dimension of the user-game matrix if necessary. It then prints whether `k` was adjusted or used as initially set."
   ]
  },
  {
   "cell_type": "code",
   "execution_count": 59,
   "id": "47a86fb7",
   "metadata": {},
   "outputs": [
    {
     "name": "stdout",
     "output_type": "stream",
     "text": [
      "User Behavior Clustering Summary:\n",
      "game_name  Apex Legends™  Black Myth: Wukong  Call of Duty®  Counter-Strike 2  \\\n",
      "cluster                                                                         \n",
      "0               0.072352            0.091031       0.009614          0.064632   \n",
      "1               0.005891            0.011782       0.002946          0.007364   \n",
      "2               0.007410            0.008024       0.000526          0.004473   \n",
      "3               0.018137            0.008220       0.002088          0.015136   \n",
      "4               0.013331            0.012778       0.004315          0.008629   \n",
      "\n",
      "game_name  ELDEN RING  Grand Theft Auto V  NARAKA: BLADEPOINT  Once Human  \\\n",
      "cluster                                                                     \n",
      "0            0.085476            0.060330            0.000063    0.093989   \n",
      "1            0.015218            0.005891            0.005891    0.009573   \n",
      "2            0.008419            0.008682            0.000132    0.009471   \n",
      "3            0.012135            0.014875            0.000261    0.009460   \n",
      "4            0.014271            0.009625            0.998230    0.013608   \n",
      "\n",
      "game_name  Party Animals  Total War: WARHAMMER III  Turbo Golf Racing  \\\n",
      "cluster                                                                 \n",
      "0               0.000068                  0.000042                0.0   \n",
      "1               0.010555                  0.998118                0.0   \n",
      "2               0.999167                  0.000000                0.0   \n",
      "3               0.001566                  0.000000                0.0   \n",
      "4               0.012778                  0.000387                0.0   \n",
      "\n",
      "game_name  Warframe  Warhammer 40,000: Space Marine 2  \n",
      "cluster                                                \n",
      "0          0.000031                          0.081164  \n",
      "1          0.010800                          0.018655  \n",
      "2          0.005262                          0.009208  \n",
      "3          0.999870                          0.008742  \n",
      "4          0.014769                          0.008961  \n"
     ]
    }
   ],
   "source": [
    "from sklearn.cluster import KMeans\n",
    "from sklearn.preprocessing import StandardScaler\n",
    "\n",
    "# Prepare user-game matrix for clustering\n",
    "user_features = user_game_matrix.drop(columns=['cluster'], errors='ignore')\n",
    "scaler = StandardScaler()\n",
    "scaled_user_features = scaler.fit_transform(user_features)\n",
    "\n",
    "# Perform KMeans clustering\n",
    "kmeans = KMeans(n_clusters=5, random_state=42)\n",
    "user_clusters = kmeans.fit_predict(scaled_user_features)\n",
    "\n",
    "# Add cluster labels back to user-game matrix\n",
    "user_game_matrix['cluster'] = user_clusters\n",
    "\n",
    "# Analyze clusters\n",
    "cluster_summary = user_game_matrix.groupby('cluster').mean()\n",
    "print(\"User Behavior Clustering Summary:\")\n",
    "print(cluster_summary)\n"
   ]
  },
  {
   "cell_type": "markdown",
   "id": "b619685c",
   "metadata": {},
   "source": [
    "It Groups users into clusters based on their gaming preferences.\n",
    "Output Insight: Identifies clusters of users with similar behaviors (e.g., RPG fans, shooter fans)."
   ]
  },
  {
   "cell_type": "code",
   "execution_count": 60,
   "id": "01ff89f9",
   "metadata": {},
   "outputs": [
    {
     "name": "stdout",
     "output_type": "stream",
     "text": [
      "SVD-based Collaborative Filtering Completed Successfully.\n"
     ]
    }
   ],
   "source": [
    "# Step 7: Collaborative Filtering with SVD\n",
    "# Perform SVD with the adjusted k\n",
    "U, sigma, Vt = svds(user_game_matrix, k=k)\n",
    "sigma = np.diag(sigma)\n",
    "\n",
    "# Predict ratings by reconstructing the matrix\n",
    "all_user_predicted_ratings = np.dot(np.dot(U, sigma), Vt)\n",
    "\n",
    "# Convert the predicted ratings into a DataFrame\n",
    "preds_df = pd.DataFrame(all_user_predicted_ratings, columns=user_game_matrix.columns, index=user_game_matrix.index)\n",
    "\n",
    "print(\"SVD-based Collaborative Filtering Completed Successfully.\")\n"
   ]
  },
  {
   "cell_type": "markdown",
   "id": "458e53e9",
   "metadata": {},
   "source": [
    "This code performs SVD on the user-game matrix using the adjusted `k` value, reconstructs the matrix to predict user ratings, and converts the predictions into a DataFrame. Finally, it confirms the completion of SVD-based collaborative filtering with a print statement."
   ]
  },
  {
   "cell_type": "code",
   "execution_count": 61,
   "id": "1287e339",
   "metadata": {},
   "outputs": [
    {
     "name": "stdout",
     "output_type": "stream",
     "text": [
      "\n",
      "Incorporating Popularity Metrics...\n",
      "Popularity Metrics Incorporated Successfully.\n"
     ]
    }
   ],
   "source": [
    "# Step 8: Incorporate Popularity Metrics\n",
    "print(\"\\nIncorporating Popularity Metrics...\")\n",
    "\n",
    "# Clean and process games_ranking data\n",
    "games_ranking['rank'] = pd.to_numeric(games_ranking['rank'], errors='coerce')\n",
    "popular_games = games_ranking.groupby('game_name')['rank'].mean().reset_index()\n",
    "popular_games.columns = ['name', 'average_rank']\n",
    "\n",
    "# Merge popularity into games_description\n",
    "games_description = pd.merge(games_description, popular_games, on='name', how='left')\n",
    "\n",
    "# Normalize average_rank to create a popularity score (higher rank means more popular)\n",
    "games_description['popularity_score'] = 1 / games_description['average_rank']\n",
    "games_description['popularity_score'].fillna(0, inplace=True)\n",
    "\n",
    "print(\"Popularity Metrics Incorporated Successfully.\")\n"
   ]
  },
  {
   "cell_type": "markdown",
   "id": "f47193fd",
   "metadata": {},
   "source": [
    "This code processes `games_ranking` to calculate the average rank for each game, merges this information into `games_description`, and normalizes it to compute a `popularity_score`. Higher scores represent more popular games, with missing values replaced by 0."
   ]
  },
  {
   "cell_type": "code",
   "execution_count": 62,
   "id": "3140d1e0",
   "metadata": {},
   "outputs": [
    {
     "name": "stdout",
     "output_type": "stream",
     "text": [
      "\n",
      "Clustering Users...\n",
      "User Clustering Completed Successfully.\n"
     ]
    }
   ],
   "source": [
    "# Step 9: User Clustering with K-Means\n",
    "print(\"\\nClustering Users...\")\n",
    "\n",
    "# Determine the number of clusters (e.g., 10)\n",
    "num_clusters = 10\n",
    "kmeans = KMeans(n_clusters=num_clusters, random_state=42)\n",
    "user_clusters = kmeans.fit_predict(user_game_matrix.drop('cluster', axis=1, errors='ignore'))\n",
    "\n",
    "# Add cluster labels to users\n",
    "user_game_matrix['cluster'] = user_clusters\n",
    "preds_df['cluster'] = user_clusters\n",
    "\n",
    "print(\"User Clustering Completed Successfully.\")\n"
   ]
  },
  {
   "cell_type": "markdown",
   "id": "95fac752",
   "metadata": {},
   "source": [
    "This code applies K-Means clustering to group users in the user-game matrix into 10 clusters, assigns cluster labels to each user, and adds these labels to both the `user_game_matrix` and the predictions DataFrame (`preds_df`). It concludes by confirming the completion of user clustering."
   ]
  },
  {
   "cell_type": "code",
   "execution_count": 63,
   "id": "27474cf0",
   "metadata": {},
   "outputs": [
    {
     "name": "stdout",
     "output_type": "stream",
     "text": [
      "\n",
      "Top 5 Similar Users to 'Poss':\n",
      "1. Asmodai - Similarity Score: 1.0000\n",
      "2. Magiomi - Similarity Score: 1.0000\n",
      "3. AspectAU_ - Similarity Score: 1.0000\n",
      "4. JAC_K - Similarity Score: 1.0000\n",
      "5. bushieoghan - Similarity Score: 1.0000\n"
     ]
    },
    {
     "data": {
      "text/plain": [
       "['Asmodai', 'Magiomi', 'AspectAU_', 'JAC_K', 'bushieoghan']"
      ]
     },
     "execution_count": 63,
     "metadata": {},
     "output_type": "execute_result"
    }
   ],
   "source": [
    "# Step 10: Define the find_similar_users Function\n",
    "# Function to find similar users\n",
    "def find_similar_users(username, num_similar=5):\n",
    "    if username not in user_game_matrix.index:\n",
    "        print(f\"Username '{username}' not found.\")\n",
    "        return []\n",
    "    \n",
    "    # Extract user features (excluding 'cluster')\n",
    "    user_features = user_game_matrix.drop('cluster', axis=1, errors='ignore')\n",
    "    \n",
    "    # Convert to sparse matrix\n",
    "    user_game_sparse = csr_matrix(user_features.values)\n",
    "    \n",
    "    # Initialize NearestNeighbors model\n",
    "    model_knn_users = NearestNeighbors(metric='cosine', algorithm='brute')\n",
    "    model_knn_users.fit(user_game_sparse)\n",
    "    \n",
    "    # Find the index of the target user\n",
    "    user_idx = user_game_matrix.index.get_loc(username)\n",
    "    \n",
    "    # Query for similar users (k + 1 because the user is the first neighbor)\n",
    "    distances, indices = model_knn_users.kneighbors(user_features.iloc[user_idx, :].values.reshape(1, -1), n_neighbors=num_similar + 1)\n",
    "    \n",
    "    # Exclude the user itself from the similar users\n",
    "    similar_indices = indices.flatten()[1:]\n",
    "    similar_users = user_game_matrix.index[similar_indices].tolist()\n",
    "    similar_distances = distances.flatten()[1:]\n",
    "    \n",
    "    print(f\"\\nTop {num_similar} Similar Users to '{username}':\")\n",
    "    for i, (user, dist) in enumerate(zip(similar_users, similar_distances), 1):\n",
    "        similarity_score = 1 - dist  # Convert distance to similarity\n",
    "        print(f\"{i}. {user} - Similarity Score: {similarity_score:.4f}\")\n",
    "    \n",
    "    return similar_users\n",
    "\n",
    "find_similar_users(\"Poss\", num_similar=5)"
   ]
  },
  {
   "cell_type": "markdown",
   "id": "3b0281fc",
   "metadata": {},
   "source": [
    "This function finds similar users to a given username based on their game preferences using a k-Nearest Neighbors model. It computes similarity scores by querying the trained model on user-game interactions, excluding the target user, and returns a list of top similar users with their similarity scores. Finally, it demonstrates the function by finding 5 similar users to the user \"Poss.\""
   ]
  },
  {
   "cell_type": "code",
   "execution_count": 64,
   "id": "21515298",
   "metadata": {},
   "outputs": [
    {
     "name": "stdout",
     "output_type": "stream",
     "text": [
      "\n",
      "Top 3 Similar Users to 'userpig':\n",
      "1. Brunoborne - Similarity Score: 1.0000\n",
      "2. thurlow_matt - Similarity Score: 1.0000\n",
      "3. Scrubington - Similarity Score: 1.0000\n",
      "\n",
      "Advanced Hybrid Recommendations for 'userpig' based on 'Dota 2':\n",
      "1. Apex Legends™ - Score: 0.6087\n",
      "2. Walkabout Mini Golf VR - Score: 0.6054\n",
      "3. Golf Peaks - Score: 0.6036\n",
      "4. Party Animals - Score: 0.5763\n",
      "5. MARVEL SNAP - Score: 0.5659\n",
      "\n",
      "Detailed Recommendations:\n",
      "---\n",
      "Title: Apex Legends™\n",
      "Genres: ['Free to Play', 'Battle Royale', 'Multiplayer', 'FPS', 'Shooter', 'First-Person', 'PvP', 'Action', 'Hero Shooter', 'Team-Based', 'Tactical', 'Sci-fi', 'Survival', 'Loot', 'Character Customization', 'Funny', 'Co-op', 'Lore-Rich', 'Cyberpunk', 'Cinematic']\n",
      "Description: Apex Legends is the award-winning, free-to-play Hero Shooter from Respawn Entertainment. Master an ever-growing roster of legendary characters with powerful abilities, and experience strategic squad play and innovative gameplay in the next evolution of Hero Shooter and Battle Royale.\n",
      "Score: 0.6087\n",
      "\n",
      "---\n",
      "Title: Walkabout Mini Golf VR\n",
      "Genres: ['Sports', 'Golf', 'Mini Golf', 'VR', 'PvP', '3D', 'First-Person', 'Casual', 'Historical', 'Colorful', 'Minimalist', 'Stylized', 'Fantasy', 'Pirates', '6DOF', 'Atmospheric', 'Multiplayer', 'Nature', 'Physics', 'Singleplayer']\n",
      "Description: Escape into a fun and beautiful world filled with the best mini golf courses you’ve ever seen! Play by yourself, meet someone new, or challenge your friends in a private game with up to 8 people. Extremely realistic physics create the perfect experience for hardcore golfers and casual players alike.\n",
      "Score: 0.6054\n",
      "\n",
      "---\n",
      "Title: Golf Peaks\n",
      "Genres: ['Card Game', 'Strategy', 'Sports', 'Casual', 'Isometric', 'Management', 'Golf', 'Colorful', 'Family Friendly', '2D', 'Singleplayer', 'Wholesome', 'Mini Golf', 'Turn-Based', 'Minimalist', 'Puzzle', 'Cozy', 'Stylized', '2.5D', 'Nature']\n",
      "Description: A relaxing puzzle game where you climb mountains by playing golf. Pick the right cards, avoid hazards and conquer over 120 summits!\n",
      "Score: 0.6036\n",
      "\n",
      "---\n",
      "Title: Party Animals\n",
      "Genres: ['Casual', 'Multiplayer', 'Funny', 'Cute', 'Party Game', 'Fighting', 'Action', 'PvP', 'Co-op', 'Party', 'Family Friendly', 'Online Co-Op', 'Local Multiplayer', 'Physics', '3D Fighter', '4 Player Local', 'Indie', 'Local Co-Op', 'Team-Based', 'Action-Adventure']\n",
      "Description: Fight your friends as puppies, kittens and other fuzzy creatures in PARTY ANIMALS! Paw it out with your friends remotely, or huddle together for chaotic fun on the same screen. Interact with the world under our realistic physics engine. Did I mention PUPPIES?\n",
      "Score: 0.5763\n",
      "\n",
      "---\n",
      "Title: MARVEL SNAP\n",
      "Genres: ['Free to Play', 'Card Battler', 'Strategy', 'Card Game', 'Multiplayer', 'Turn-Based Tactics', 'PvP', 'Casual', 'Superhero', 'Deckbuilding', 'Comic Book', 'Stylized', 'Trading Card Game', 'Early Access', 'Co-op', 'Mouse only']\n",
      "Description: MARVEL SNAP is a fast-paced Collectible Card Game that reimagines the genre with innovative mechanics. Winner of multiple awards like 'Best Strategy Game' and 'Breakthrough Game of the Year,' we invite you to join millions of players worldwide – Jump right in!\n",
      "Score: 0.5659\n",
      "\n"
     ]
    }
   ],
   "source": [
    "# Step 11: Enhanced Hybrid Recommendation Function\n",
    "def hybrid_recommendations(game_title, username, num_recommendations=5):\n",
    "    # Check if the game exists\n",
    "    if game_title not in games_description['name'].values:\n",
    "        print(f\"Game '{game_title}' not found in the dataset.\")\n",
    "        return\n",
    "    \n",
    "    # Content-Based Recommendation\n",
    "    idx = games_description[games_description['name'] == game_title].index[0]\n",
    "    sim_scores = list(enumerate(similarity_matrix[idx]))\n",
    "    sim_scores = sorted(sim_scores, key=lambda x: x[1], reverse=True)\n",
    "    content_indices = [i[0] for i in sim_scores[1:51]]  # Top 50 similar games\n",
    "    \n",
    "    content_games = games_description.iloc[content_indices]['name'].tolist()\n",
    "    \n",
    "    # Collaborative Filtering Recommendation\n",
    "    if username in preds_df.index:\n",
    "        user_predictions = preds_df.loc[username].sort_values(ascending=False)\n",
    "        collaborative_games = user_predictions.index.tolist()\n",
    "    else:\n",
    "        collaborative_games = []\n",
    "        print(f\"Username '{username}' not found in the dataset.\")\n",
    "    \n",
    "    # Cluster-Based Recommendations\n",
    "    cluster_games = []\n",
    "    if 'cluster' in user_game_matrix.columns and username in user_game_matrix.index:\n",
    "        cluster = user_game_matrix.loc[username, 'cluster']\n",
    "        cluster_users = user_game_matrix[user_game_matrix['cluster'] == cluster].drop(columns='cluster')\n",
    "        cluster_sum = cluster_users.sum().sort_values(ascending=False)\n",
    "        cluster_games = cluster_sum.index.tolist()\n",
    "    \n",
    "    # Similar Users Influence\n",
    "    similar_users = find_similar_users(username, num_similar=3)\n",
    "    similar_users_games = []\n",
    "    for sim_user in similar_users:\n",
    "        sim_user_reviews = steam_game_reviews[steam_game_reviews['username'] == sim_user]\n",
    "        sim_user_recommendations = sim_user_reviews[sim_user_reviews['recommendation'] == 1]['game_name'].tolist()\n",
    "        similar_users_games.extend(sim_user_recommendations)\n",
    "    \n",
    "    # Combine all recommendations with weights\n",
    "    content_weight = 0.9\n",
    "    collaborative_weight = 0.9\n",
    "    cluster_weight = 0.1\n",
    "    similar_users_weight = 0.1\n",
    "    popularity_weight = 0.1  # Additional weight for popularity\n",
    "    \n",
    "    combined_scores = {}\n",
    "    \n",
    "    # Content-Based Scores\n",
    "    for game in content_games:\n",
    "        if game in combined_scores:\n",
    "            combined_scores[game] += similarity_matrix[idx][games_description[games_description['name'] == game].index[0]] * content_weight\n",
    "        else:\n",
    "            combined_scores[game] = similarity_matrix[idx][games_description[games_description['name'] == game].index[0]] * content_weight\n",
    "    \n",
    "    # Collaborative Filtering Scores\n",
    "    for game in collaborative_games:\n",
    "        combined_scores[game] = combined_scores.get(game, 0) + preds_df.loc[username][game] * collaborative_weight\n",
    "    \n",
    "    # Cluster-Based Scores\n",
    "    for game in cluster_games:\n",
    "        combined_scores[game] = combined_scores.get(game, 0) + 1 * cluster_weight  # Assuming binary addition\n",
    "    \n",
    "    # Similar Users Influence\n",
    "    for game in similar_users_games:\n",
    "        combined_scores[game] = combined_scores.get(game, 0) + 1 * similar_users_weight  # Assuming binary addition\n",
    "    \n",
    "    # Incorporate Popularity\n",
    "    for game in combined_scores.keys():\n",
    "        popularity = games_description[games_description['name'] == game]['popularity_score'].values\n",
    "        if len(popularity) > 0:\n",
    "            combined_scores[game] += popularity[0] * popularity_weight\n",
    "        else:\n",
    "            combined_scores[game] += 0\n",
    "    \n",
    "    # Sort combined scores\n",
    "    sorted_games = sorted(combined_scores.items(), key=lambda x: x[1], reverse=True)\n",
    "    \n",
    "    # Exclude the game_title itself and any invalid entries\n",
    "    sorted_games = [game for game in sorted_games if game[0] != game_title and game[0] in games_description['name'].values]\n",
    "    \n",
    "    # Remove already played or reviewed games\n",
    "    already_played = steam_game_reviews[steam_game_reviews['username'] == username]['game_name'].unique().tolist()\n",
    "    sorted_games = [game for game in sorted_games if game[0] not in already_played]\n",
    "    \n",
    "    # Get top N recommendations\n",
    "    top_recommendations = sorted_games[:num_recommendations]\n",
    "    \n",
    "    print(f\"\\nAdvanced Hybrid Recommendations for '{username}' based on '{game_title}':\")\n",
    "    for i, (game, score) in enumerate(top_recommendations, 1):\n",
    "        print(f\"{i}. {game} - Score: {score:.4f}\")\n",
    "    \n",
    "    # Detailed Recommendations with Similar Users\n",
    "    print(\"\\nDetailed Recommendations:\")\n",
    "    for i, (game, score) in enumerate(top_recommendations, 1):\n",
    "        # Fetch game details\n",
    "        game_info = games_description[games_description['name'] == game].iloc[0]\n",
    "        \n",
    "        # Find similar users who liked this game\n",
    "        similar_users_who_liked = steam_game_reviews[\n",
    "            (steam_game_reviews['game_name'] == game) &\n",
    "            (steam_game_reviews['username'].isin(similar_users)) &\n",
    "            (steam_game_reviews['recommendation'] == 1)\n",
    "        ]['username'].unique().tolist()\n",
    "        \n",
    "        similar_users_str = ', '.join(similar_users_who_liked) if similar_users_who_liked else 'None'\n",
    "        \n",
    "        print(f\"---\\nTitle: {game_info['name']}\\nGenres: {game_info['genres']}\\nDescription: {game_info['short_description']}\\nScore: {score:.4f}\\n\")\n",
    "\n",
    "hybrid_recommendations(\"Dota 2\", \"userpig\", num_recommendations=5)"
   ]
  },
  {
   "cell_type": "markdown",
   "id": "0684721c",
   "metadata": {},
   "source": [
    "This advanced hybrid recommendation function combines content-based, collaborative filtering, cluster-based, and similar user influences, along with popularity metrics, to generate personalized game recommendations. It calculates weighted scores for each recommendation source, sorts and filters the results, and excludes games already reviewed or played. Finally, it prints the top recommendations with detailed game information, demonstrated here for the game \"Dota 2\" and user \"userpig.\""
   ]
  },
  {
   "cell_type": "code",
   "execution_count": 65,
   "id": "66983324",
   "metadata": {},
   "outputs": [
    {
     "data": {
      "application/vnd.plotly.v1+json": {
       "config": {
        "plotlyServerURL": "https://plot.ly"
       },
       "data": [
        {
         "hovertemplate": "<b>%{hovertext}</b><br><br>Popularity Score=%{x}<br>Avg Recommendation=%{y}<extra></extra>",
         "hovertext": [
          "Black Myth: Wukong",
          "Counter-Strike 2",
          "Warhammer 40,000: Space Marine 2",
          "Cyberpunk 2077",
          "ELDEN RING",
          "PUBG: BATTLEGROUNDS",
          "Apex Legends™",
          "Dota 2",
          "Party Animals",
          "Total War: WARHAMMER III",
          "Cyberpunk 2077: Phantom Liberty",
          "Once Human",
          "NARAKA: BLADEPOINT",
          "Warframe",
          "Grounded",
          "Tom Clancy's Rainbow Six® Siege",
          "Grand Theft Auto V",
          "Call of Duty®: Black Ops III",
          "Like a Dragon: Infinite Wealth",
          "Dead by Daylight",
          "Call of Duty®",
          "Street Fighter™ 6",
          "The First Descendant",
          "Call of Duty®: Modern Warfare® III - BlackCell (Season 6)",
          "The Crew™ 2",
          "Battlefield™ V",
          "Sea of Thieves: 2024 Edition",
          "Halo: The Master Chief Collection",
          "Call of Duty®: Modern Warfare® III",
          "The Witcher 3: Wild Hunt",
          "LOCKDOWN Protocol",
          "Call of Duty®: Warzone™",
          "Rust",
          "Noita",
          "Dead Rising Deluxe Remaster",
          "ELDEN RING Shadow of the Erdtree",
          "Diablo® IV",
          "FINAL FANTASY XIV Online",
          "Wallpaper Engine",
          "Destiny 2",
          "Team Fortress 2",
          "The Elder Scrolls® Online",
          "Red Dead Redemption 2",
          "Black Desert",
          "Call of Duty®: Black Ops II",
          "Risk of Rain 2",
          "Terraria",
          "Left 4 Dead 2",
          "The Forest",
          "Among Us",
          "Portal 2",
          "Sekiro™: Shadows Die Twice - GOTY Edition",
          "PAYDAY 2",
          "Hades",
          "Dying Light",
          "Hollow Knight",
          "Unturned",
          "Deep Rock Galactic",
          "Valheim",
          "Titanfall® 2",
          "Borderlands 2",
          "ARK: Survival Evolved",
          "Vampire Survivors",
          "Devil May Cry 5",
          "Monster Hunter: World",
          "Half-Life 2",
          "Tomb Raider",
          "Resident Evil 4",
          "Satisfactory",
          "Persona 3 Reload",
          "Baldur's Gate 3",
          "Shin Megami Tensei V: Vengeance",
          "Microsoft Flight Simulator 40th Anniversary Edition",
          "Dragon's Dogma 2",
          "Lies of P",
          "UFO 50",
          "FINAL FANTASY VII REMAKE INTERGRADE",
          "Gunfire Reborn",
          "Core Keeper",
          "STAR WARS Jedi: Survivor™",
          "DEATH STRANDING DIRECTOR'S CUT",
          "Palworld",
          "Little Nightmares II",
          "Little Nightmares",
          "Sonic Frontiers",
          "Warhammer 40,000: Space Marine 2 - Season Pass",
          "Alien: Isolation",
          "Lost Judgment",
          "Lethal Company",
          "Thank Goodness You're Here!",
          "STAR WARS™ Battlefront™ II",
          "Chained Together",
          "Forza Horizon 5",
          "ARK: Survival Ascended",
          "Sons Of The Forest",
          "DREDGE",
          "Crime Scene Cleaner",
          "Subnautica",
          "Crusader Kings III",
          "Persona 5 Royal",
          "Dale & Dawson Stationery Supplies",
          "Path of Exile",
          "Stardew Valley",
          "STAR WARS™: The Old Republic™",
          "Fallout 76",
          "Project Zomboid",
          "Dark and Darker",
          "Visions of Mana",
          "Limbus Company",
          "Divinity: Original Sin 2 - Definitive Edition",
          "Fallout: New Vegas",
          "Undertale",
          "Persona 4 Golden",
          "DARK SOULS™ III",
          "Hogwarts Legacy",
          "OMORI",
          "Slay the Spire",
          "Symphony of War: The Nephilim Saga",
          "God of War",
          "Fallout 4",
          "TROUBLESHOOTER: Abandoned Children",
          "DAVE THE DIVER",
          "The Elder Scrolls V: Skyrim Special Edition",
          "Yakuza 0",
          "Mount & Blade: Warband",
          "Mount & Blade II: Bannerlord",
          "Kenshi",
          "EA SPORTS FC™ 25",
          "Frostpunk 2",
          "NBA 2K25",
          "TCG Card Shop Simulator",
          "The Sims™ 4",
          "War Thunder",
          "Euro Truck Simulator 2",
          "Anno 1800",
          "American Truck Simulator",
          "Yu-Gi-Oh! Master Duel",
          "BeamNG.drive",
          "eFootball™",
          "Two Point Campus",
          "Assetto Corsa",
          "EA SPORTS™ Madden NFL 25",
          "RimWorld",
          "theHunter: Call of the Wild™",
          "Shawarma Legend",
          "Stellaris",
          "World of Warships",
          "Assetto Corsa Competizione",
          "World of Tanks",
          "Dyson Sphere Program",
          "Jurassic World Evolution 2",
          "DCS World Steam Edition",
          "American Truck Simulator - Arkansas",
          "Train Sim World® 5",
          "Crusader Kings III: Tours & Tournaments",
          "Cities: Skylines II",
          "Fields of Mistria",
          "Supermarket Simulator",
          "CarX Street",
          "Hearts of Iron IV",
          "shapez 2",
          "Ale & Tale Tavern",
          "7 Days to Die",
          "Garry's Mod",
          "People Playground",
          "Cities: Skylines",
          "Totally Accurate Battle Simulator",
          "Kerbal Space Program",
          "Oxygen Not Included",
          "Arma 3",
          "Papers, Please",
          "Sid Meier’s Civilization® VI",
          "Teardown",
          "Game Dev Tycoon",
          "CarX Drift Racing Online",
          "Slime Rancher",
          "Car Mechanic Simulator 2021",
          "Tabletop Simulator",
          "PowerWash Simulator",
          "Aimlabs",
          "My Summer Car",
          "House Flipper",
          "Plague Inc: Evolved",
          "Age of Mythology: Retold",
          "Magic: The Gathering Arena",
          "Total War: WARHAMMER II",
          "Total War: WARHAMMER",
          "Total War: WARHAMMER III - Shadows of Change",
          "Total War: THREE KINGDOMS",
          "Total War: PHARAOH",
          "Inscryption",
          "Two Point Hospital",
          "Company of Heroes 3",
          "Total War: ROME II - Emperor Edition",
          "Bloons TD 6",
          "Manor Lords",
          "Transport Fever 2",
          "Warhammer 40,000: Rogue Trader",
          "Stolen Realm",
          "Sins of a Solar Empire II",
          "Summoners War",
          "Frostpunk",
          "Age of Empires IV: Anniversary Edition",
          "Europa Universalis IV",
          "Balatro",
          "Age of Empires II: Definitive Edition",
          "MARVEL SNAP",
          "Tactical Breach Wizards",
          "Total War: MEDIEVAL II – Definitive Edition",
          "Sid Meier's Civilization® V",
          "Plants vs. Zombies GOTY Edition",
          "Age of Empires II (Retired)",
          "Ultimate General: Civil War",
          "Dune: Imperium",
          "STAR WARS™ Empire at War - Gold Pack",
          "For The King",
          "Armello",
          "Stacklands",
          "ENDLESS™ Legend",
          "Dorfromantik",
          "Warhammer 40,000: Gladius - Relics of War",
          "Northgard",
          "Age of Wonders 4",
          "Scythe: Digital Edition",
          "The Crew Motorfest",
          "Need for Speed™ Heat",
          "Need for Speed™ Unbound",
          "iRacing",
          "WWE 2K24",
          "F1® 24",
          "Fishing Planet",
          "Golf With Your Friends",
          "EA SPORTS™ WRC",
          "Tony Hawk's™ Pro Skater™ 1 + 2",
          "Season 1 MyCAREER Bonus Offer",
          "Russian Fishing 4",
          "Football Manager 2024",
          "NBA 2K25 Hall of Fame Pass: Season 1",
          "F1® Manager 2024",
          "Rooftops & Alleys: The Parkour Game",
          "Liftoff®: FPV Drone Racing",
          "EA SPORTS FC™ 24",
          "Undisputed",
          "Need for Speed™ Payback",
          "PGA TOUR 2K23",
          "DiRT Rally 2.0",
          "Assetto Corsa Competizione - 24H Nürburgring Pack",
          "Automobilista 2",
          "NBA 2K24",
          "Steep™",
          "Riders Republic",
          "Season 1 MyTEAM Bonus Offer",
          "All-In-One Sports VR",
          "Downhill Pro Racer",
          "MX vs ATV Legends",
          "All In One Sports - Hockey DLC",
          "Slime Volley",
          "All In One Sports - Soccer DLC",
          "Descenders",
          "RIDE 5",
          "Golf It!",
          "Motordoom",
          "Sledders",
          "The Ramp",
          "Monster Energy Supercross - The Official Videogame",
          "Skater XL - The Ultimate Skateboarding Game",
          "TrackDayR",
          "69 Balls",
          "MX vs. ATV Reflex",
          "MXGP 2021 - The Official Motocross Videogame",
          "Session: Skate Sim",
          "MXGP3 - The Official Motocross Videogame",
          "MXGP - The Official Motocross Videogame",
          "Walkabout Mini Golf VR",
          "MX vs ATV All Out",
          "Driftwood",
          "RIDE 4",
          "Gym Simulator 24",
          "Wrestling Empire",
          "RIDE 3",
          "Golf Gang",
          "Lonely Mountains: Downhill",
          "GP Bikes",
          "Golf Peaks",
          "PIPE by BMX Streets",
          "MXGP PRO",
          "MXGP 2019 - The Official Motocross Videogame",
          "Ride 2",
          "Tanuki Sunset",
          "Grand Mountain Adventure: Wonderlands"
         ],
         "legendgroup": "",
         "marker": {
          "color": "#636efa",
          "line": {
           "color": "DarkSlateGrey",
           "width": 1
          },
          "opacity": 0.7,
          "size": 10,
          "symbol": "circle"
         },
         "mode": "markers",
         "name": "",
         "orientation": "v",
         "showlegend": false,
         "type": "scatter",
         "x": [
          0.3333333333333333,
          0.6,
          0.8,
          0.14285714285714285,
          0.1764705882352941,
          0.18181818181818182,
          0.11764705882352941,
          0.21951219512195122,
          0.05405405405405406,
          0.1111111111111111,
          0.08888888888888889,
          0.13333333333333333,
          0.07692307692307693,
          0.0923076923076923,
          0.06382978723404256,
          0.07894736842105264,
          0.13043478260869565,
          0.058823529411764705,
          0.055045871559633024,
          0.04225352112676056,
          0.047619047619047616,
          0.05714285714285714,
          0.07228915662650602,
          0.03773584905660377,
          0.04,
          0.037037037037037035,
          0.04672897196261683,
          0.034482758620689655,
          0.03333333333333333,
          0.06666666666666667,
          0.03636363636363636,
          0.030303030303030304,
          0.058823529411764705,
          0.03225806451612903,
          0.045454545454545456,
          0.03669724770642202,
          0.043478260869565216,
          0.052083333333333336,
          0.05128205128205128,
          0.047058823529411764,
          0.045454545454545456,
          0.0390625,
          0.05333333333333334,
          0.0423728813559322,
          0.02564102564102564,
          0.025,
          0.4,
          0.125,
          0.11538461538461539,
          0.0625,
          0.058823529411764705,
          0.05263157894736842,
          0.05,
          0.058823529411764705,
          0.047619047619047616,
          0.058823529411764705,
          0.05555555555555555,
          0.037037037037037035,
          0.03571428571428571,
          0.03333333333333333,
          0.045454545454545456,
          0.03225806451612903,
          0.044444444444444446,
          0.029411764705882353,
          0.0379746835443038,
          0.02702702702702703,
          0.02631578947368421,
          0.029411764705882353,
          0.17857142857142858,
          0.10144927536231883,
          0.1935483870967742,
          0.08,
          0.06557377049180328,
          0.047058823529411764,
          0.038834951456310676,
          0.03508771929824561,
          0.0390625,
          0.0379746835443038,
          0.04878048780487805,
          0.030303030303030304,
          0.037037037037037035,
          0.036036036036036036,
          0.03333333333333333,
          0.03225806451612903,
          0.03125,
          0.03125,
          0.029411764705882353,
          0.02857142857142857,
          0.03896103896103896,
          0.02564102564102564,
          0.025,
          0.05,
          0.06140350877192983,
          0.034482758620689655,
          0.03125,
          0.034482758620689655,
          0.03225806451612903,
          0.08333333333333333,
          0.14285714285714285,
          0.06593406593406594,
          0.047619047619047616,
          0.05405405405405406,
          0.07575757575757576,
          0.044444444444444446,
          0.03225806451612903,
          0.043478260869565216,
          0.027777777777777776,
          0.02631578947368421,
          0.03191489361702128,
          0.15384615384615385,
          0.0625,
          0.05555555555555555,
          0.03333333333333333,
          0.05,
          0.038461538461538464,
          0.037037037037037035,
          0.05128205128205128,
          0.034482758620689655,
          0.03333333333333333,
          0.03225806451612903,
          0.03125,
          0.04081632653061224,
          0.02857142857142857,
          0.02702702702702703,
          0.02631578947368421,
          0.028985507246376812,
          0.03092783505154639,
          1,
          0.4444444444444444,
          0.3076923076923077,
          0.2857142857142857,
          0.06818181818181819,
          0.14285714285714285,
          0.13636363636363638,
          0.07547169811320754,
          0.0967741935483871,
          0.08333333333333333,
          0.09090909090909091,
          0.09090909090909091,
          0.0425531914893617,
          0.057692307692307696,
          0.07407407407407407,
          0.058252427184466014,
          0.03260869565217391,
          0.037037037037037035,
          0.048,
          0.03508771929824561,
          0.047058823529411764,
          0.03225806451612903,
          0.043478260869565216,
          0.033707865168539325,
          0.028985507246376812,
          0.027777777777777776,
          0.0273972602739726,
          0.02631578947368421,
          0.03389830508474576,
          0.037037037037037035,
          0.03278688524590164,
          0.06,
          0.051546391752577324,
          0.02631578947368421,
          0.02564102564102564,
          0.03571428571428571,
          1,
          0.16666666666666666,
          0.07692307692307693,
          0.1,
          0.08333333333333333,
          0.058823529411764705,
          0.07142857142857142,
          0.05,
          0.0547945205479452,
          0.045454545454545456,
          0.038461538461538464,
          0.043478260869565216,
          0.037037037037037035,
          0.03571428571428571,
          0.041666666666666664,
          0.029411764705882353,
          0.027777777777777776,
          0.02702702702702703,
          0.02631578947368421,
          0.02564102564102564,
          0.125,
          0.09090909090909091,
          0.09090909090909091,
          0.05555555555555555,
          0.05,
          0.03488372093023256,
          0.046511627906976744,
          0.037037037037037035,
          0.03571428571428571,
          0.034482758620689655,
          0.03225806451612903,
          0.047619047619047616,
          0.038461538461538464,
          0.027777777777777776,
          0.02666666666666667,
          0.025,
          0.05263157894736842,
          0.041666666666666664,
          0.031746031746031744,
          0.030303030303030304,
          0.031746031746031744,
          0.03225806451612903,
          0.04081632653061224,
          0.02631578947368421,
          0.025,
          0.08333333333333333,
          0.3333333333333333,
          0.0625,
          0.05263157894736842,
          0.047619047619047616,
          0.045454545454545456,
          0.041666666666666664,
          0.043478260869565216,
          0.04,
          0.038461538461538464,
          0.03333333333333333,
          0.03225806451612903,
          0.030303030303030304,
          0.02857142857142857,
          0.027777777777777776,
          0.02564102564102564,
          0.18181818181818182,
          0.05263157894736842,
          0.06451612903225806,
          0.08333333333333333,
          0.07407407407407407,
          0.06896551724137931,
          0.05,
          0.08108108108108107,
          0.034482758620689655,
          0.05263157894736842,
          0.05,
          0.047619047619047616,
          0.05,
          0.043478260869565216,
          0.04081632653061224,
          0.03333333333333333,
          0.03076923076923077,
          0.044444444444444446,
          0.03571428571428571,
          0.034482758620689655,
          0.03076923076923077,
          0.03125,
          0.030303030303030304,
          0.029411764705882353,
          0.02702702702702703,
          0.04,
          0.06818181818181819,
          0.025,
          0.16666666666666666,
          0.045454545454545456,
          0.037037037037037035,
          0.03571428571428571,
          0.038461538461538464,
          0.034482758620689655,
          0.058823529411764705,
          0.03125,
          0.04,
          0.04878048780487805,
          0.046511627906976744,
          0.04878048780487805,
          0.14285714285714285,
          0.1111111111111111,
          0.1,
          0.09090909090909091,
          0.07142857142857142,
          0.06666666666666667,
          0.05555555555555555,
          0.05263157894736842,
          0.05,
          0.047619047619047616,
          0.045454545454545456,
          0.043478260869565216,
          0.04,
          0.038461538461538464,
          0.037037037037037035,
          0.03571428571428571,
          0.03225806451612903,
          0.03125,
          0.030303030303030304,
          0.029411764705882353,
          0.02857142857142857,
          0.027777777777777776,
          0.02702702702702703,
          0.02631578947368421,
          0.02564102564102564,
          0.025
         ],
         "xaxis": "x",
         "y": [
          0.06785616935711346,
          0.048795815699097696,
          0.06100705780736219,
          null,
          0.06451439016790526,
          null,
          0.055075498129264294,
          null,
          0.08755427573691972,
          0.046075215955555054,
          null,
          0.07015659702029968,
          0.0692059081020027,
          0.0890482955445408,
          null,
          null,
          0.046060851325305525,
          null,
          null,
          null,
          0.007496734626017334,
          null,
          null,
          null,
          null,
          null,
          null,
          null,
          null,
          null,
          null,
          null,
          null,
          null,
          null,
          null,
          null,
          null,
          null,
          null,
          null,
          null,
          null,
          null,
          null,
          null,
          null,
          null,
          null,
          null,
          null,
          null,
          null,
          null,
          null,
          null,
          null,
          null,
          null,
          null,
          null,
          null,
          null,
          null,
          null,
          null,
          null,
          null,
          null,
          null,
          null,
          null,
          null,
          null,
          null,
          null,
          null,
          null,
          null,
          null,
          null,
          null,
          null,
          null,
          null,
          null,
          null,
          null,
          null,
          null,
          null,
          null,
          null,
          null,
          null,
          null,
          null,
          null,
          null,
          null,
          null,
          null,
          null,
          null,
          null,
          null,
          null,
          null,
          null,
          null,
          null,
          null,
          null,
          null,
          null,
          null,
          null,
          null,
          null,
          null,
          null,
          null,
          null,
          null,
          null,
          null,
          null,
          null,
          null,
          null,
          null,
          null,
          null,
          null,
          null,
          null,
          null,
          null,
          null,
          null,
          null,
          null,
          null,
          null,
          null,
          null,
          null,
          null,
          null,
          null,
          null,
          null,
          null,
          null,
          null,
          null,
          null,
          null,
          null,
          null,
          null,
          null,
          null,
          null,
          null,
          null,
          null,
          null,
          null,
          null,
          null,
          null,
          null,
          null,
          null,
          null,
          null,
          null,
          null,
          null,
          null,
          null,
          null,
          null,
          null,
          null,
          null,
          null,
          null,
          null,
          null,
          null,
          null,
          null,
          null,
          null,
          null,
          null,
          null,
          null,
          null,
          null,
          null,
          null,
          null,
          null,
          null,
          null,
          null,
          null,
          null,
          null,
          null,
          null,
          null,
          null,
          null,
          null,
          null,
          null,
          null,
          null,
          null,
          null,
          null,
          null,
          null,
          null,
          null,
          null,
          null,
          null,
          null,
          null,
          null,
          null,
          null,
          null,
          null,
          null,
          null,
          null,
          null,
          null,
          null,
          null,
          null,
          null,
          null,
          null,
          null,
          null,
          null,
          null,
          null,
          null,
          null,
          null,
          null,
          null,
          null,
          null,
          null,
          null,
          null,
          null,
          null,
          null,
          null,
          null,
          null,
          null,
          null,
          null,
          null,
          null,
          null,
          null,
          null,
          null,
          null,
          null,
          null,
          null,
          null,
          null,
          null,
          null,
          null,
          null
         ],
         "yaxis": "y"
        }
       ],
       "layout": {
        "legend": {
         "title": {
          "font": {
           "size": 14
          }
         },
         "tracegroupgap": 0
        },
        "template": {
         "data": {
          "bar": [
           {
            "error_x": {
             "color": "#f2f5fa"
            },
            "error_y": {
             "color": "#f2f5fa"
            },
            "marker": {
             "line": {
              "color": "rgb(17,17,17)",
              "width": 0.5
             },
             "pattern": {
              "fillmode": "overlay",
              "size": 10,
              "solidity": 0.2
             }
            },
            "type": "bar"
           }
          ],
          "barpolar": [
           {
            "marker": {
             "line": {
              "color": "rgb(17,17,17)",
              "width": 0.5
             },
             "pattern": {
              "fillmode": "overlay",
              "size": 10,
              "solidity": 0.2
             }
            },
            "type": "barpolar"
           }
          ],
          "carpet": [
           {
            "aaxis": {
             "endlinecolor": "#A2B1C6",
             "gridcolor": "#506784",
             "linecolor": "#506784",
             "minorgridcolor": "#506784",
             "startlinecolor": "#A2B1C6"
            },
            "baxis": {
             "endlinecolor": "#A2B1C6",
             "gridcolor": "#506784",
             "linecolor": "#506784",
             "minorgridcolor": "#506784",
             "startlinecolor": "#A2B1C6"
            },
            "type": "carpet"
           }
          ],
          "choropleth": [
           {
            "colorbar": {
             "outlinewidth": 0,
             "ticks": ""
            },
            "type": "choropleth"
           }
          ],
          "contour": [
           {
            "colorbar": {
             "outlinewidth": 0,
             "ticks": ""
            },
            "colorscale": [
             [
              0,
              "#0d0887"
             ],
             [
              0.1111111111111111,
              "#46039f"
             ],
             [
              0.2222222222222222,
              "#7201a8"
             ],
             [
              0.3333333333333333,
              "#9c179e"
             ],
             [
              0.4444444444444444,
              "#bd3786"
             ],
             [
              0.5555555555555556,
              "#d8576b"
             ],
             [
              0.6666666666666666,
              "#ed7953"
             ],
             [
              0.7777777777777778,
              "#fb9f3a"
             ],
             [
              0.8888888888888888,
              "#fdca26"
             ],
             [
              1,
              "#f0f921"
             ]
            ],
            "type": "contour"
           }
          ],
          "contourcarpet": [
           {
            "colorbar": {
             "outlinewidth": 0,
             "ticks": ""
            },
            "type": "contourcarpet"
           }
          ],
          "heatmap": [
           {
            "colorbar": {
             "outlinewidth": 0,
             "ticks": ""
            },
            "colorscale": [
             [
              0,
              "#0d0887"
             ],
             [
              0.1111111111111111,
              "#46039f"
             ],
             [
              0.2222222222222222,
              "#7201a8"
             ],
             [
              0.3333333333333333,
              "#9c179e"
             ],
             [
              0.4444444444444444,
              "#bd3786"
             ],
             [
              0.5555555555555556,
              "#d8576b"
             ],
             [
              0.6666666666666666,
              "#ed7953"
             ],
             [
              0.7777777777777778,
              "#fb9f3a"
             ],
             [
              0.8888888888888888,
              "#fdca26"
             ],
             [
              1,
              "#f0f921"
             ]
            ],
            "type": "heatmap"
           }
          ],
          "heatmapgl": [
           {
            "colorbar": {
             "outlinewidth": 0,
             "ticks": ""
            },
            "colorscale": [
             [
              0,
              "#0d0887"
             ],
             [
              0.1111111111111111,
              "#46039f"
             ],
             [
              0.2222222222222222,
              "#7201a8"
             ],
             [
              0.3333333333333333,
              "#9c179e"
             ],
             [
              0.4444444444444444,
              "#bd3786"
             ],
             [
              0.5555555555555556,
              "#d8576b"
             ],
             [
              0.6666666666666666,
              "#ed7953"
             ],
             [
              0.7777777777777778,
              "#fb9f3a"
             ],
             [
              0.8888888888888888,
              "#fdca26"
             ],
             [
              1,
              "#f0f921"
             ]
            ],
            "type": "heatmapgl"
           }
          ],
          "histogram": [
           {
            "marker": {
             "pattern": {
              "fillmode": "overlay",
              "size": 10,
              "solidity": 0.2
             }
            },
            "type": "histogram"
           }
          ],
          "histogram2d": [
           {
            "colorbar": {
             "outlinewidth": 0,
             "ticks": ""
            },
            "colorscale": [
             [
              0,
              "#0d0887"
             ],
             [
              0.1111111111111111,
              "#46039f"
             ],
             [
              0.2222222222222222,
              "#7201a8"
             ],
             [
              0.3333333333333333,
              "#9c179e"
             ],
             [
              0.4444444444444444,
              "#bd3786"
             ],
             [
              0.5555555555555556,
              "#d8576b"
             ],
             [
              0.6666666666666666,
              "#ed7953"
             ],
             [
              0.7777777777777778,
              "#fb9f3a"
             ],
             [
              0.8888888888888888,
              "#fdca26"
             ],
             [
              1,
              "#f0f921"
             ]
            ],
            "type": "histogram2d"
           }
          ],
          "histogram2dcontour": [
           {
            "colorbar": {
             "outlinewidth": 0,
             "ticks": ""
            },
            "colorscale": [
             [
              0,
              "#0d0887"
             ],
             [
              0.1111111111111111,
              "#46039f"
             ],
             [
              0.2222222222222222,
              "#7201a8"
             ],
             [
              0.3333333333333333,
              "#9c179e"
             ],
             [
              0.4444444444444444,
              "#bd3786"
             ],
             [
              0.5555555555555556,
              "#d8576b"
             ],
             [
              0.6666666666666666,
              "#ed7953"
             ],
             [
              0.7777777777777778,
              "#fb9f3a"
             ],
             [
              0.8888888888888888,
              "#fdca26"
             ],
             [
              1,
              "#f0f921"
             ]
            ],
            "type": "histogram2dcontour"
           }
          ],
          "mesh3d": [
           {
            "colorbar": {
             "outlinewidth": 0,
             "ticks": ""
            },
            "type": "mesh3d"
           }
          ],
          "parcoords": [
           {
            "line": {
             "colorbar": {
              "outlinewidth": 0,
              "ticks": ""
             }
            },
            "type": "parcoords"
           }
          ],
          "pie": [
           {
            "automargin": true,
            "type": "pie"
           }
          ],
          "scatter": [
           {
            "marker": {
             "line": {
              "color": "#283442"
             }
            },
            "type": "scatter"
           }
          ],
          "scatter3d": [
           {
            "line": {
             "colorbar": {
              "outlinewidth": 0,
              "ticks": ""
             }
            },
            "marker": {
             "colorbar": {
              "outlinewidth": 0,
              "ticks": ""
             }
            },
            "type": "scatter3d"
           }
          ],
          "scattercarpet": [
           {
            "marker": {
             "colorbar": {
              "outlinewidth": 0,
              "ticks": ""
             }
            },
            "type": "scattercarpet"
           }
          ],
          "scattergeo": [
           {
            "marker": {
             "colorbar": {
              "outlinewidth": 0,
              "ticks": ""
             }
            },
            "type": "scattergeo"
           }
          ],
          "scattergl": [
           {
            "marker": {
             "line": {
              "color": "#283442"
             }
            },
            "type": "scattergl"
           }
          ],
          "scattermapbox": [
           {
            "marker": {
             "colorbar": {
              "outlinewidth": 0,
              "ticks": ""
             }
            },
            "type": "scattermapbox"
           }
          ],
          "scatterpolar": [
           {
            "marker": {
             "colorbar": {
              "outlinewidth": 0,
              "ticks": ""
             }
            },
            "type": "scatterpolar"
           }
          ],
          "scatterpolargl": [
           {
            "marker": {
             "colorbar": {
              "outlinewidth": 0,
              "ticks": ""
             }
            },
            "type": "scatterpolargl"
           }
          ],
          "scatterternary": [
           {
            "marker": {
             "colorbar": {
              "outlinewidth": 0,
              "ticks": ""
             }
            },
            "type": "scatterternary"
           }
          ],
          "surface": [
           {
            "colorbar": {
             "outlinewidth": 0,
             "ticks": ""
            },
            "colorscale": [
             [
              0,
              "#0d0887"
             ],
             [
              0.1111111111111111,
              "#46039f"
             ],
             [
              0.2222222222222222,
              "#7201a8"
             ],
             [
              0.3333333333333333,
              "#9c179e"
             ],
             [
              0.4444444444444444,
              "#bd3786"
             ],
             [
              0.5555555555555556,
              "#d8576b"
             ],
             [
              0.6666666666666666,
              "#ed7953"
             ],
             [
              0.7777777777777778,
              "#fb9f3a"
             ],
             [
              0.8888888888888888,
              "#fdca26"
             ],
             [
              1,
              "#f0f921"
             ]
            ],
            "type": "surface"
           }
          ],
          "table": [
           {
            "cells": {
             "fill": {
              "color": "#506784"
             },
             "line": {
              "color": "rgb(17,17,17)"
             }
            },
            "header": {
             "fill": {
              "color": "#2a3f5f"
             },
             "line": {
              "color": "rgb(17,17,17)"
             }
            },
            "type": "table"
           }
          ]
         },
         "layout": {
          "annotationdefaults": {
           "arrowcolor": "#f2f5fa",
           "arrowhead": 0,
           "arrowwidth": 1
          },
          "autotypenumbers": "strict",
          "coloraxis": {
           "colorbar": {
            "outlinewidth": 0,
            "ticks": ""
           }
          },
          "colorscale": {
           "diverging": [
            [
             0,
             "#8e0152"
            ],
            [
             0.1,
             "#c51b7d"
            ],
            [
             0.2,
             "#de77ae"
            ],
            [
             0.3,
             "#f1b6da"
            ],
            [
             0.4,
             "#fde0ef"
            ],
            [
             0.5,
             "#f7f7f7"
            ],
            [
             0.6,
             "#e6f5d0"
            ],
            [
             0.7,
             "#b8e186"
            ],
            [
             0.8,
             "#7fbc41"
            ],
            [
             0.9,
             "#4d9221"
            ],
            [
             1,
             "#276419"
            ]
           ],
           "sequential": [
            [
             0,
             "#0d0887"
            ],
            [
             0.1111111111111111,
             "#46039f"
            ],
            [
             0.2222222222222222,
             "#7201a8"
            ],
            [
             0.3333333333333333,
             "#9c179e"
            ],
            [
             0.4444444444444444,
             "#bd3786"
            ],
            [
             0.5555555555555556,
             "#d8576b"
            ],
            [
             0.6666666666666666,
             "#ed7953"
            ],
            [
             0.7777777777777778,
             "#fb9f3a"
            ],
            [
             0.8888888888888888,
             "#fdca26"
            ],
            [
             1,
             "#f0f921"
            ]
           ],
           "sequentialminus": [
            [
             0,
             "#0d0887"
            ],
            [
             0.1111111111111111,
             "#46039f"
            ],
            [
             0.2222222222222222,
             "#7201a8"
            ],
            [
             0.3333333333333333,
             "#9c179e"
            ],
            [
             0.4444444444444444,
             "#bd3786"
            ],
            [
             0.5555555555555556,
             "#d8576b"
            ],
            [
             0.6666666666666666,
             "#ed7953"
            ],
            [
             0.7777777777777778,
             "#fb9f3a"
            ],
            [
             0.8888888888888888,
             "#fdca26"
            ],
            [
             1,
             "#f0f921"
            ]
           ]
          },
          "colorway": [
           "#636efa",
           "#EF553B",
           "#00cc96",
           "#ab63fa",
           "#FFA15A",
           "#19d3f3",
           "#FF6692",
           "#B6E880",
           "#FF97FF",
           "#FECB52"
          ],
          "font": {
           "color": "#f2f5fa"
          },
          "geo": {
           "bgcolor": "rgb(17,17,17)",
           "lakecolor": "rgb(17,17,17)",
           "landcolor": "rgb(17,17,17)",
           "showlakes": true,
           "showland": true,
           "subunitcolor": "#506784"
          },
          "hoverlabel": {
           "align": "left"
          },
          "hovermode": "closest",
          "mapbox": {
           "style": "dark"
          },
          "paper_bgcolor": "rgb(17,17,17)",
          "plot_bgcolor": "rgb(17,17,17)",
          "polar": {
           "angularaxis": {
            "gridcolor": "#506784",
            "linecolor": "#506784",
            "ticks": ""
           },
           "bgcolor": "rgb(17,17,17)",
           "radialaxis": {
            "gridcolor": "#506784",
            "linecolor": "#506784",
            "ticks": ""
           }
          },
          "scene": {
           "xaxis": {
            "backgroundcolor": "rgb(17,17,17)",
            "gridcolor": "#506784",
            "gridwidth": 2,
            "linecolor": "#506784",
            "showbackground": true,
            "ticks": "",
            "zerolinecolor": "#C8D4E3"
           },
           "yaxis": {
            "backgroundcolor": "rgb(17,17,17)",
            "gridcolor": "#506784",
            "gridwidth": 2,
            "linecolor": "#506784",
            "showbackground": true,
            "ticks": "",
            "zerolinecolor": "#C8D4E3"
           },
           "zaxis": {
            "backgroundcolor": "rgb(17,17,17)",
            "gridcolor": "#506784",
            "gridwidth": 2,
            "linecolor": "#506784",
            "showbackground": true,
            "ticks": "",
            "zerolinecolor": "#C8D4E3"
           }
          },
          "shapedefaults": {
           "line": {
            "color": "#f2f5fa"
           }
          },
          "sliderdefaults": {
           "bgcolor": "#C8D4E3",
           "bordercolor": "rgb(17,17,17)",
           "borderwidth": 1,
           "tickwidth": 0
          },
          "ternary": {
           "aaxis": {
            "gridcolor": "#506784",
            "linecolor": "#506784",
            "ticks": ""
           },
           "baxis": {
            "gridcolor": "#506784",
            "linecolor": "#506784",
            "ticks": ""
           },
           "bgcolor": "rgb(17,17,17)",
           "caxis": {
            "gridcolor": "#506784",
            "linecolor": "#506784",
            "ticks": ""
           }
          },
          "title": {
           "x": 0.05
          },
          "updatemenudefaults": {
           "bgcolor": "#506784",
           "borderwidth": 0
          },
          "xaxis": {
           "automargin": true,
           "gridcolor": "#283442",
           "linecolor": "#506784",
           "ticks": "",
           "title": {
            "standoff": 15
           },
           "zerolinecolor": "#283442",
           "zerolinewidth": 2
          },
          "yaxis": {
           "automargin": true,
           "gridcolor": "#283442",
           "linecolor": "#506784",
           "ticks": "",
           "title": {
            "standoff": 15
           },
           "zerolinecolor": "#283442",
           "zerolinewidth": 2
          }
         }
        },
        "title": {
         "font": {
          "size": 20
         },
         "text": "Game Popularity vs. Average Recommendation Score"
        },
        "xaxis": {
         "anchor": "y",
         "domain": [
          0,
          1
         ],
         "title": {
          "text": "Popularity Score"
         }
        },
        "yaxis": {
         "anchor": "x",
         "domain": [
          0,
          1
         ],
         "title": {
          "text": "Avg Recommendation"
         }
        }
       }
      },
      "text/html": [
       "<div>                            <div id=\"6ed250aa-18b9-4e0c-9549-0bb264b8deed\" class=\"plotly-graph-div\" style=\"height:525px; width:100%;\"></div>            <script type=\"text/javascript\">                require([\"plotly\"], function(Plotly) {                    window.PLOTLYENV=window.PLOTLYENV || {};                                    if (document.getElementById(\"6ed250aa-18b9-4e0c-9549-0bb264b8deed\")) {                    Plotly.newPlot(                        \"6ed250aa-18b9-4e0c-9549-0bb264b8deed\",                        [{\"hovertemplate\":\"\\u003cb\\u003e%{hovertext}\\u003c\\u002fb\\u003e\\u003cbr\\u003e\\u003cbr\\u003ePopularity Score=%{x}\\u003cbr\\u003eAvg Recommendation=%{y}\\u003cextra\\u003e\\u003c\\u002fextra\\u003e\",\"hovertext\":[\"Black Myth: Wukong\",\"Counter-Strike 2\",\"Warhammer 40,000: Space Marine 2\",\"Cyberpunk 2077\",\"ELDEN RING\",\"PUBG: BATTLEGROUNDS\",\"Apex Legends\\u2122\",\"Dota 2\",\"Party Animals\",\"Total War: WARHAMMER III\",\"Cyberpunk 2077: Phantom Liberty\",\"Once Human\",\"NARAKA: BLADEPOINT\",\"Warframe\",\"Grounded\",\"Tom Clancy's Rainbow Six\\u00ae Siege\",\"Grand Theft Auto V\",\"Call of Duty\\u00ae: Black Ops III\",\"Like a Dragon: Infinite Wealth\",\"Dead by Daylight\",\"Call of Duty\\u00ae\",\"Street Fighter\\u2122 6\",\"The First Descendant\",\"Call of Duty\\u00ae: Modern Warfare\\u00ae III - BlackCell (Season 6)\",\"The Crew\\u2122 2\",\"Battlefield\\u2122 V\",\"Sea of Thieves: 2024 Edition\",\"Halo: The Master Chief Collection\",\"Call of Duty\\u00ae: Modern Warfare\\u00ae III\",\"The Witcher 3: Wild Hunt\",\"LOCKDOWN Protocol\",\"Call of Duty\\u00ae: Warzone\\u2122\",\"Rust\",\"Noita\",\"Dead Rising Deluxe Remaster\",\"ELDEN RING Shadow of the Erdtree\",\"Diablo\\u00ae IV\",\"FINAL FANTASY XIV Online\",\"Wallpaper Engine\",\"Destiny 2\",\"Team Fortress 2\",\"The Elder Scrolls\\u00ae Online\",\"Red Dead Redemption 2\",\"Black Desert\",\"Call of Duty\\u00ae: Black Ops II\",\"Risk of Rain 2\",\"Terraria\",\"Left 4 Dead 2\",\"The Forest\",\"Among Us\",\"Portal 2\",\"Sekiro\\u2122: Shadows Die Twice - GOTY Edition\",\"PAYDAY 2\",\"Hades\",\"Dying Light\",\"Hollow Knight\",\"Unturned\",\"Deep Rock Galactic\",\"Valheim\",\"Titanfall\\u00ae 2\",\"Borderlands 2\",\"ARK: Survival Evolved\",\"Vampire Survivors\",\"Devil May Cry 5\",\"Monster Hunter: World\",\"Half-Life 2\",\"Tomb Raider\",\"Resident Evil 4\",\"Satisfactory\",\"Persona 3 Reload\",\"Baldur's Gate 3\",\"Shin Megami Tensei V: Vengeance\",\"Microsoft Flight Simulator 40th Anniversary Edition\",\"Dragon's Dogma 2\",\"Lies of P\",\"UFO 50\",\"FINAL FANTASY VII REMAKE INTERGRADE\",\"Gunfire Reborn\",\"Core Keeper\",\"STAR WARS Jedi: Survivor\\u2122\",\"DEATH STRANDING DIRECTOR'S CUT\",\"Palworld\",\"Little Nightmares II\",\"Little Nightmares\",\"Sonic Frontiers\",\"Warhammer 40,000: Space Marine 2 - Season Pass\",\"Alien: Isolation\",\"Lost Judgment\",\"Lethal Company\",\"Thank Goodness You're Here!\",\"STAR WARS\\u2122 Battlefront\\u2122 II\",\"Chained Together\",\"Forza Horizon 5\",\"ARK: Survival Ascended\",\"Sons Of The Forest\",\"DREDGE\",\"Crime Scene Cleaner\",\"Subnautica\",\"Crusader Kings III\",\"Persona 5 Royal\",\"Dale & Dawson Stationery Supplies\",\"Path of Exile\",\"Stardew Valley\",\"STAR WARS\\u2122: The Old Republic\\u2122\",\"Fallout 76\",\"Project Zomboid\",\"Dark and Darker\",\"Visions of Mana\",\"Limbus Company\",\"Divinity: Original Sin 2 - Definitive Edition\",\"Fallout: New Vegas\",\"Undertale\",\"Persona 4 Golden\",\"DARK SOULS\\u2122 III\",\"Hogwarts Legacy\",\"OMORI\",\"Slay the Spire\",\"Symphony of War: The Nephilim Saga\",\"God of War\",\"Fallout 4\",\"TROUBLESHOOTER: Abandoned Children\",\"DAVE THE DIVER\",\"The Elder Scrolls V: Skyrim Special Edition\",\"Yakuza 0\",\"Mount & Blade: Warband\",\"Mount & Blade II: Bannerlord\",\"Kenshi\",\"EA SPORTS FC\\u2122 25\",\"Frostpunk 2\",\"NBA 2K25\",\"TCG Card Shop Simulator\",\"The Sims\\u2122 4\",\"War Thunder\",\"Euro Truck Simulator 2\",\"Anno 1800\",\"American Truck Simulator\",\"Yu-Gi-Oh! Master Duel\",\"BeamNG.drive\",\"eFootball\\u2122\",\"Two Point Campus\",\"Assetto Corsa\",\"EA SPORTS\\u2122 Madden NFL 25\",\"RimWorld\",\"theHunter: Call of the Wild\\u2122\",\"Shawarma Legend\",\"Stellaris\",\"World of Warships\",\"Assetto Corsa Competizione\",\"World of Tanks\",\"Dyson Sphere Program\",\"Jurassic World Evolution 2\",\"DCS World Steam Edition\",\"American Truck Simulator - Arkansas\",\"Train Sim World\\u00ae 5\",\"Crusader Kings III: Tours & Tournaments\",\"Cities: Skylines II\",\"Fields of Mistria\",\"Supermarket Simulator\",\"CarX Street\",\"Hearts of Iron IV\",\"shapez 2\",\"Ale & Tale Tavern\",\"7 Days to Die\",\"Garry's Mod\",\"People Playground\",\"Cities: Skylines\",\"Totally Accurate Battle Simulator\",\"Kerbal Space Program\",\"Oxygen Not Included\",\"Arma 3\",\"Papers, Please\",\"Sid Meier\\u2019s Civilization\\u00ae VI\",\"Teardown\",\"Game Dev Tycoon\",\"CarX Drift Racing Online\",\"Slime Rancher\",\"Car Mechanic Simulator 2021\",\"Tabletop Simulator\",\"PowerWash Simulator\",\"Aimlabs\",\"My Summer Car\",\"House Flipper\",\"Plague Inc: Evolved\",\"Age of Mythology: Retold\",\"Magic: The Gathering Arena\",\"Total War: WARHAMMER II\",\"Total War: WARHAMMER\",\"Total War: WARHAMMER III - Shadows of Change\",\"Total War: THREE KINGDOMS\",\"Total War: PHARAOH\",\"Inscryption\",\"Two Point Hospital\",\"Company of Heroes 3\",\"Total War: ROME II - Emperor Edition\",\"Bloons TD 6\",\"Manor Lords\",\"Transport Fever 2\",\"Warhammer 40,000: Rogue Trader\",\"Stolen Realm\",\"Sins of a Solar Empire II\",\"Summoners War\",\"Frostpunk\",\"Age of Empires IV: Anniversary Edition\",\"Europa Universalis IV\",\"Balatro\",\"Age of Empires II: Definitive Edition\",\"MARVEL SNAP\",\"Tactical Breach Wizards\",\"Total War: MEDIEVAL II \\u2013 Definitive Edition\",\"Sid Meier's Civilization\\u00ae V\",\"Plants vs. Zombies GOTY Edition\",\"Age of Empires II (Retired)\",\"Ultimate General: Civil War\",\"Dune: Imperium\",\"STAR WARS\\u2122 Empire at War - Gold Pack\",\"For The King\",\"Armello\",\"Stacklands\",\"ENDLESS\\u2122 Legend\",\"Dorfromantik\",\"Warhammer 40,000: Gladius - Relics of War\",\"Northgard\",\"Age of Wonders 4\",\"Scythe: Digital Edition\",\"The Crew Motorfest\",\"Need for Speed\\u2122 Heat\",\"Need for Speed\\u2122 Unbound\",\"iRacing\",\"WWE 2K24\",\"F1\\u00ae 24\",\"Fishing Planet\",\"Golf With Your Friends\",\"EA SPORTS\\u2122 WRC\",\"Tony Hawk's\\u2122 Pro Skater\\u2122 1 + 2\",\"Season 1 MyCAREER Bonus Offer\",\"Russian Fishing 4\",\"Football Manager 2024\",\"NBA 2K25 Hall of Fame Pass: Season 1\",\"F1\\u00ae Manager 2024\",\"Rooftops & Alleys: The Parkour Game\",\"Liftoff\\u00ae: FPV Drone Racing\",\"EA SPORTS FC\\u2122 24\",\"Undisputed\",\"Need for Speed\\u2122 Payback\",\"PGA TOUR 2K23\",\"DiRT Rally 2.0\",\"Assetto Corsa Competizione - 24H N\\u00fcrburgring Pack\",\"Automobilista 2\",\"NBA 2K24\",\"Steep\\u2122\",\"Riders Republic\",\"Season 1 MyTEAM Bonus Offer\",\"All-In-One Sports VR\",\"Downhill Pro Racer\",\"MX vs ATV Legends\",\"All In One Sports - Hockey DLC\",\"Slime Volley\",\"All In One Sports - Soccer DLC\",\"Descenders\",\"RIDE 5\",\"Golf It!\",\"Motordoom\",\"Sledders\",\"The Ramp\",\"Monster Energy Supercross - The Official Videogame\",\"Skater XL - The Ultimate Skateboarding Game\",\"TrackDayR\",\"69 Balls\",\"MX vs. ATV Reflex\",\"MXGP 2021 - The Official Motocross Videogame\",\"Session: Skate Sim\",\"MXGP3 - The Official Motocross Videogame\",\"MXGP - The Official Motocross Videogame\",\"Walkabout Mini Golf VR\",\"MX vs ATV All Out\",\"Driftwood\",\"RIDE 4\",\"Gym Simulator 24\",\"Wrestling Empire\",\"RIDE 3\",\"Golf Gang\",\"Lonely Mountains: Downhill\",\"GP Bikes\",\"Golf Peaks\",\"PIPE by BMX Streets\",\"MXGP PRO\",\"MXGP 2019 - The Official Motocross Videogame\",\"Ride 2\",\"Tanuki Sunset\",\"Grand Mountain Adventure: Wonderlands\"],\"legendgroup\":\"\",\"marker\":{\"color\":\"#636efa\",\"symbol\":\"circle\",\"line\":{\"color\":\"DarkSlateGrey\",\"width\":1},\"opacity\":0.7,\"size\":10},\"mode\":\"markers\",\"name\":\"\",\"orientation\":\"v\",\"showlegend\":false,\"x\":[0.3333333333333333,0.6,0.8,0.14285714285714285,0.1764705882352941,0.18181818181818182,0.11764705882352941,0.21951219512195122,0.05405405405405406,0.1111111111111111,0.08888888888888889,0.13333333333333333,0.07692307692307693,0.0923076923076923,0.06382978723404256,0.07894736842105264,0.13043478260869565,0.058823529411764705,0.055045871559633024,0.04225352112676056,0.047619047619047616,0.05714285714285714,0.07228915662650602,0.03773584905660377,0.04,0.037037037037037035,0.04672897196261683,0.034482758620689655,0.03333333333333333,0.06666666666666667,0.03636363636363636,0.030303030303030304,0.058823529411764705,0.03225806451612903,0.045454545454545456,0.03669724770642202,0.043478260869565216,0.052083333333333336,0.05128205128205128,0.047058823529411764,0.045454545454545456,0.0390625,0.05333333333333334,0.0423728813559322,0.02564102564102564,0.025,0.4,0.125,0.11538461538461539,0.0625,0.058823529411764705,0.05263157894736842,0.05,0.058823529411764705,0.047619047619047616,0.058823529411764705,0.05555555555555555,0.037037037037037035,0.03571428571428571,0.03333333333333333,0.045454545454545456,0.03225806451612903,0.044444444444444446,0.029411764705882353,0.0379746835443038,0.02702702702702703,0.02631578947368421,0.029411764705882353,0.17857142857142858,0.10144927536231883,0.1935483870967742,0.08,0.06557377049180328,0.047058823529411764,0.038834951456310676,0.03508771929824561,0.0390625,0.0379746835443038,0.04878048780487805,0.030303030303030304,0.037037037037037035,0.036036036036036036,0.03333333333333333,0.03225806451612903,0.03125,0.03125,0.029411764705882353,0.02857142857142857,0.03896103896103896,0.02564102564102564,0.025,0.05,0.06140350877192983,0.034482758620689655,0.03125,0.034482758620689655,0.03225806451612903,0.08333333333333333,0.14285714285714285,0.06593406593406594,0.047619047619047616,0.05405405405405406,0.07575757575757576,0.044444444444444446,0.03225806451612903,0.043478260869565216,0.027777777777777776,0.02631578947368421,0.03191489361702128,0.15384615384615385,0.0625,0.05555555555555555,0.03333333333333333,0.05,0.038461538461538464,0.037037037037037035,0.05128205128205128,0.034482758620689655,0.03333333333333333,0.03225806451612903,0.03125,0.04081632653061224,0.02857142857142857,0.02702702702702703,0.02631578947368421,0.028985507246376812,0.03092783505154639,1.0,0.4444444444444444,0.3076923076923077,0.2857142857142857,0.06818181818181819,0.14285714285714285,0.13636363636363638,0.07547169811320754,0.0967741935483871,0.08333333333333333,0.09090909090909091,0.09090909090909091,0.0425531914893617,0.057692307692307696,0.07407407407407407,0.058252427184466014,0.03260869565217391,0.037037037037037035,0.048,0.03508771929824561,0.047058823529411764,0.03225806451612903,0.043478260869565216,0.033707865168539325,0.028985507246376812,0.027777777777777776,0.0273972602739726,0.02631578947368421,0.03389830508474576,0.037037037037037035,0.03278688524590164,0.06,0.051546391752577324,0.02631578947368421,0.02564102564102564,0.03571428571428571,1.0,0.16666666666666666,0.07692307692307693,0.1,0.08333333333333333,0.058823529411764705,0.07142857142857142,0.05,0.0547945205479452,0.045454545454545456,0.038461538461538464,0.043478260869565216,0.037037037037037035,0.03571428571428571,0.041666666666666664,0.029411764705882353,0.027777777777777776,0.02702702702702703,0.02631578947368421,0.02564102564102564,0.125,0.09090909090909091,0.09090909090909091,0.05555555555555555,0.05,0.03488372093023256,0.046511627906976744,0.037037037037037035,0.03571428571428571,0.034482758620689655,0.03225806451612903,0.047619047619047616,0.038461538461538464,0.027777777777777776,0.02666666666666667,0.025,0.05263157894736842,0.041666666666666664,0.031746031746031744,0.030303030303030304,0.031746031746031744,0.03225806451612903,0.04081632653061224,0.02631578947368421,0.025,0.08333333333333333,0.3333333333333333,0.0625,0.05263157894736842,0.047619047619047616,0.045454545454545456,0.041666666666666664,0.043478260869565216,0.04,0.038461538461538464,0.03333333333333333,0.03225806451612903,0.030303030303030304,0.02857142857142857,0.027777777777777776,0.02564102564102564,0.18181818181818182,0.05263157894736842,0.06451612903225806,0.08333333333333333,0.07407407407407407,0.06896551724137931,0.05,0.08108108108108107,0.034482758620689655,0.05263157894736842,0.05,0.047619047619047616,0.05,0.043478260869565216,0.04081632653061224,0.03333333333333333,0.03076923076923077,0.044444444444444446,0.03571428571428571,0.034482758620689655,0.03076923076923077,0.03125,0.030303030303030304,0.029411764705882353,0.02702702702702703,0.04,0.06818181818181819,0.025,0.16666666666666666,0.045454545454545456,0.037037037037037035,0.03571428571428571,0.038461538461538464,0.034482758620689655,0.058823529411764705,0.03125,0.04,0.04878048780487805,0.046511627906976744,0.04878048780487805,0.14285714285714285,0.1111111111111111,0.1,0.09090909090909091,0.07142857142857142,0.06666666666666667,0.05555555555555555,0.05263157894736842,0.05,0.047619047619047616,0.045454545454545456,0.043478260869565216,0.04,0.038461538461538464,0.037037037037037035,0.03571428571428571,0.03225806451612903,0.03125,0.030303030303030304,0.029411764705882353,0.02857142857142857,0.027777777777777776,0.02702702702702703,0.02631578947368421,0.02564102564102564,0.025],\"xaxis\":\"x\",\"y\":[0.06785616935711346,0.048795815699097696,0.06100705780736219,null,0.06451439016790526,null,0.055075498129264294,null,0.08755427573691972,0.046075215955555054,null,0.07015659702029968,0.0692059081020027,0.0890482955445408,null,null,0.046060851325305525,null,null,null,0.007496734626017334,null,null,null,null,null,null,null,null,null,null,null,null,null,null,null,null,null,null,null,null,null,null,null,null,null,null,null,null,null,null,null,null,null,null,null,null,null,null,null,null,null,null,null,null,null,null,null,null,null,null,null,null,null,null,null,null,null,null,null,null,null,null,null,null,null,null,null,null,null,null,null,null,null,null,null,null,null,null,null,null,null,null,null,null,null,null,null,null,null,null,null,null,null,null,null,null,null,null,null,null,null,null,null,null,null,null,null,null,null,null,null,null,null,null,null,null,null,null,null,null,null,null,null,null,null,null,null,null,null,null,null,null,null,null,null,null,null,null,null,null,null,null,null,null,null,null,null,null,null,null,null,null,null,null,null,null,null,null,null,null,null,null,null,null,null,null,null,null,null,null,null,null,null,null,null,null,null,null,null,null,null,null,null,null,null,null,null,null,null,null,null,null,null,null,null,null,null,null,null,null,null,null,null,null,null,null,null,null,null,null,null,null,null,null,null,null,null,null,null,null,null,null,null,null,null,null,null,null,null,null,null,null,null,null,null,null,null,null,null,null,null,null,null,null,null,null,null,null,null,null,null,null,null,null,null,null,null,null,null,null,null,null,null,null,null,null,null,null,null],\"yaxis\":\"y\",\"type\":\"scatter\"}],                        {\"template\":{\"data\":{\"barpolar\":[{\"marker\":{\"line\":{\"color\":\"rgb(17,17,17)\",\"width\":0.5},\"pattern\":{\"fillmode\":\"overlay\",\"size\":10,\"solidity\":0.2}},\"type\":\"barpolar\"}],\"bar\":[{\"error_x\":{\"color\":\"#f2f5fa\"},\"error_y\":{\"color\":\"#f2f5fa\"},\"marker\":{\"line\":{\"color\":\"rgb(17,17,17)\",\"width\":0.5},\"pattern\":{\"fillmode\":\"overlay\",\"size\":10,\"solidity\":0.2}},\"type\":\"bar\"}],\"carpet\":[{\"aaxis\":{\"endlinecolor\":\"#A2B1C6\",\"gridcolor\":\"#506784\",\"linecolor\":\"#506784\",\"minorgridcolor\":\"#506784\",\"startlinecolor\":\"#A2B1C6\"},\"baxis\":{\"endlinecolor\":\"#A2B1C6\",\"gridcolor\":\"#506784\",\"linecolor\":\"#506784\",\"minorgridcolor\":\"#506784\",\"startlinecolor\":\"#A2B1C6\"},\"type\":\"carpet\"}],\"choropleth\":[{\"colorbar\":{\"outlinewidth\":0,\"ticks\":\"\"},\"type\":\"choropleth\"}],\"contourcarpet\":[{\"colorbar\":{\"outlinewidth\":0,\"ticks\":\"\"},\"type\":\"contourcarpet\"}],\"contour\":[{\"colorbar\":{\"outlinewidth\":0,\"ticks\":\"\"},\"colorscale\":[[0.0,\"#0d0887\"],[0.1111111111111111,\"#46039f\"],[0.2222222222222222,\"#7201a8\"],[0.3333333333333333,\"#9c179e\"],[0.4444444444444444,\"#bd3786\"],[0.5555555555555556,\"#d8576b\"],[0.6666666666666666,\"#ed7953\"],[0.7777777777777778,\"#fb9f3a\"],[0.8888888888888888,\"#fdca26\"],[1.0,\"#f0f921\"]],\"type\":\"contour\"}],\"heatmapgl\":[{\"colorbar\":{\"outlinewidth\":0,\"ticks\":\"\"},\"colorscale\":[[0.0,\"#0d0887\"],[0.1111111111111111,\"#46039f\"],[0.2222222222222222,\"#7201a8\"],[0.3333333333333333,\"#9c179e\"],[0.4444444444444444,\"#bd3786\"],[0.5555555555555556,\"#d8576b\"],[0.6666666666666666,\"#ed7953\"],[0.7777777777777778,\"#fb9f3a\"],[0.8888888888888888,\"#fdca26\"],[1.0,\"#f0f921\"]],\"type\":\"heatmapgl\"}],\"heatmap\":[{\"colorbar\":{\"outlinewidth\":0,\"ticks\":\"\"},\"colorscale\":[[0.0,\"#0d0887\"],[0.1111111111111111,\"#46039f\"],[0.2222222222222222,\"#7201a8\"],[0.3333333333333333,\"#9c179e\"],[0.4444444444444444,\"#bd3786\"],[0.5555555555555556,\"#d8576b\"],[0.6666666666666666,\"#ed7953\"],[0.7777777777777778,\"#fb9f3a\"],[0.8888888888888888,\"#fdca26\"],[1.0,\"#f0f921\"]],\"type\":\"heatmap\"}],\"histogram2dcontour\":[{\"colorbar\":{\"outlinewidth\":0,\"ticks\":\"\"},\"colorscale\":[[0.0,\"#0d0887\"],[0.1111111111111111,\"#46039f\"],[0.2222222222222222,\"#7201a8\"],[0.3333333333333333,\"#9c179e\"],[0.4444444444444444,\"#bd3786\"],[0.5555555555555556,\"#d8576b\"],[0.6666666666666666,\"#ed7953\"],[0.7777777777777778,\"#fb9f3a\"],[0.8888888888888888,\"#fdca26\"],[1.0,\"#f0f921\"]],\"type\":\"histogram2dcontour\"}],\"histogram2d\":[{\"colorbar\":{\"outlinewidth\":0,\"ticks\":\"\"},\"colorscale\":[[0.0,\"#0d0887\"],[0.1111111111111111,\"#46039f\"],[0.2222222222222222,\"#7201a8\"],[0.3333333333333333,\"#9c179e\"],[0.4444444444444444,\"#bd3786\"],[0.5555555555555556,\"#d8576b\"],[0.6666666666666666,\"#ed7953\"],[0.7777777777777778,\"#fb9f3a\"],[0.8888888888888888,\"#fdca26\"],[1.0,\"#f0f921\"]],\"type\":\"histogram2d\"}],\"histogram\":[{\"marker\":{\"pattern\":{\"fillmode\":\"overlay\",\"size\":10,\"solidity\":0.2}},\"type\":\"histogram\"}],\"mesh3d\":[{\"colorbar\":{\"outlinewidth\":0,\"ticks\":\"\"},\"type\":\"mesh3d\"}],\"parcoords\":[{\"line\":{\"colorbar\":{\"outlinewidth\":0,\"ticks\":\"\"}},\"type\":\"parcoords\"}],\"pie\":[{\"automargin\":true,\"type\":\"pie\"}],\"scatter3d\":[{\"line\":{\"colorbar\":{\"outlinewidth\":0,\"ticks\":\"\"}},\"marker\":{\"colorbar\":{\"outlinewidth\":0,\"ticks\":\"\"}},\"type\":\"scatter3d\"}],\"scattercarpet\":[{\"marker\":{\"colorbar\":{\"outlinewidth\":0,\"ticks\":\"\"}},\"type\":\"scattercarpet\"}],\"scattergeo\":[{\"marker\":{\"colorbar\":{\"outlinewidth\":0,\"ticks\":\"\"}},\"type\":\"scattergeo\"}],\"scattergl\":[{\"marker\":{\"line\":{\"color\":\"#283442\"}},\"type\":\"scattergl\"}],\"scattermapbox\":[{\"marker\":{\"colorbar\":{\"outlinewidth\":0,\"ticks\":\"\"}},\"type\":\"scattermapbox\"}],\"scatterpolargl\":[{\"marker\":{\"colorbar\":{\"outlinewidth\":0,\"ticks\":\"\"}},\"type\":\"scatterpolargl\"}],\"scatterpolar\":[{\"marker\":{\"colorbar\":{\"outlinewidth\":0,\"ticks\":\"\"}},\"type\":\"scatterpolar\"}],\"scatter\":[{\"marker\":{\"line\":{\"color\":\"#283442\"}},\"type\":\"scatter\"}],\"scatterternary\":[{\"marker\":{\"colorbar\":{\"outlinewidth\":0,\"ticks\":\"\"}},\"type\":\"scatterternary\"}],\"surface\":[{\"colorbar\":{\"outlinewidth\":0,\"ticks\":\"\"},\"colorscale\":[[0.0,\"#0d0887\"],[0.1111111111111111,\"#46039f\"],[0.2222222222222222,\"#7201a8\"],[0.3333333333333333,\"#9c179e\"],[0.4444444444444444,\"#bd3786\"],[0.5555555555555556,\"#d8576b\"],[0.6666666666666666,\"#ed7953\"],[0.7777777777777778,\"#fb9f3a\"],[0.8888888888888888,\"#fdca26\"],[1.0,\"#f0f921\"]],\"type\":\"surface\"}],\"table\":[{\"cells\":{\"fill\":{\"color\":\"#506784\"},\"line\":{\"color\":\"rgb(17,17,17)\"}},\"header\":{\"fill\":{\"color\":\"#2a3f5f\"},\"line\":{\"color\":\"rgb(17,17,17)\"}},\"type\":\"table\"}]},\"layout\":{\"annotationdefaults\":{\"arrowcolor\":\"#f2f5fa\",\"arrowhead\":0,\"arrowwidth\":1},\"autotypenumbers\":\"strict\",\"coloraxis\":{\"colorbar\":{\"outlinewidth\":0,\"ticks\":\"\"}},\"colorscale\":{\"diverging\":[[0,\"#8e0152\"],[0.1,\"#c51b7d\"],[0.2,\"#de77ae\"],[0.3,\"#f1b6da\"],[0.4,\"#fde0ef\"],[0.5,\"#f7f7f7\"],[0.6,\"#e6f5d0\"],[0.7,\"#b8e186\"],[0.8,\"#7fbc41\"],[0.9,\"#4d9221\"],[1,\"#276419\"]],\"sequential\":[[0.0,\"#0d0887\"],[0.1111111111111111,\"#46039f\"],[0.2222222222222222,\"#7201a8\"],[0.3333333333333333,\"#9c179e\"],[0.4444444444444444,\"#bd3786\"],[0.5555555555555556,\"#d8576b\"],[0.6666666666666666,\"#ed7953\"],[0.7777777777777778,\"#fb9f3a\"],[0.8888888888888888,\"#fdca26\"],[1.0,\"#f0f921\"]],\"sequentialminus\":[[0.0,\"#0d0887\"],[0.1111111111111111,\"#46039f\"],[0.2222222222222222,\"#7201a8\"],[0.3333333333333333,\"#9c179e\"],[0.4444444444444444,\"#bd3786\"],[0.5555555555555556,\"#d8576b\"],[0.6666666666666666,\"#ed7953\"],[0.7777777777777778,\"#fb9f3a\"],[0.8888888888888888,\"#fdca26\"],[1.0,\"#f0f921\"]]},\"colorway\":[\"#636efa\",\"#EF553B\",\"#00cc96\",\"#ab63fa\",\"#FFA15A\",\"#19d3f3\",\"#FF6692\",\"#B6E880\",\"#FF97FF\",\"#FECB52\"],\"font\":{\"color\":\"#f2f5fa\"},\"geo\":{\"bgcolor\":\"rgb(17,17,17)\",\"lakecolor\":\"rgb(17,17,17)\",\"landcolor\":\"rgb(17,17,17)\",\"showlakes\":true,\"showland\":true,\"subunitcolor\":\"#506784\"},\"hoverlabel\":{\"align\":\"left\"},\"hovermode\":\"closest\",\"mapbox\":{\"style\":\"dark\"},\"paper_bgcolor\":\"rgb(17,17,17)\",\"plot_bgcolor\":\"rgb(17,17,17)\",\"polar\":{\"angularaxis\":{\"gridcolor\":\"#506784\",\"linecolor\":\"#506784\",\"ticks\":\"\"},\"bgcolor\":\"rgb(17,17,17)\",\"radialaxis\":{\"gridcolor\":\"#506784\",\"linecolor\":\"#506784\",\"ticks\":\"\"}},\"scene\":{\"xaxis\":{\"backgroundcolor\":\"rgb(17,17,17)\",\"gridcolor\":\"#506784\",\"gridwidth\":2,\"linecolor\":\"#506784\",\"showbackground\":true,\"ticks\":\"\",\"zerolinecolor\":\"#C8D4E3\"},\"yaxis\":{\"backgroundcolor\":\"rgb(17,17,17)\",\"gridcolor\":\"#506784\",\"gridwidth\":2,\"linecolor\":\"#506784\",\"showbackground\":true,\"ticks\":\"\",\"zerolinecolor\":\"#C8D4E3\"},\"zaxis\":{\"backgroundcolor\":\"rgb(17,17,17)\",\"gridcolor\":\"#506784\",\"gridwidth\":2,\"linecolor\":\"#506784\",\"showbackground\":true,\"ticks\":\"\",\"zerolinecolor\":\"#C8D4E3\"}},\"shapedefaults\":{\"line\":{\"color\":\"#f2f5fa\"}},\"sliderdefaults\":{\"bgcolor\":\"#C8D4E3\",\"bordercolor\":\"rgb(17,17,17)\",\"borderwidth\":1,\"tickwidth\":0},\"ternary\":{\"aaxis\":{\"gridcolor\":\"#506784\",\"linecolor\":\"#506784\",\"ticks\":\"\"},\"baxis\":{\"gridcolor\":\"#506784\",\"linecolor\":\"#506784\",\"ticks\":\"\"},\"bgcolor\":\"rgb(17,17,17)\",\"caxis\":{\"gridcolor\":\"#506784\",\"linecolor\":\"#506784\",\"ticks\":\"\"}},\"title\":{\"x\":0.05},\"updatemenudefaults\":{\"bgcolor\":\"#506784\",\"borderwidth\":0},\"xaxis\":{\"automargin\":true,\"gridcolor\":\"#283442\",\"linecolor\":\"#506784\",\"ticks\":\"\",\"title\":{\"standoff\":15},\"zerolinecolor\":\"#283442\",\"zerolinewidth\":2},\"yaxis\":{\"automargin\":true,\"gridcolor\":\"#283442\",\"linecolor\":\"#506784\",\"ticks\":\"\",\"title\":{\"standoff\":15},\"zerolinecolor\":\"#283442\",\"zerolinewidth\":2}}},\"xaxis\":{\"anchor\":\"y\",\"domain\":[0.0,1.0],\"title\":{\"text\":\"Popularity Score\"}},\"yaxis\":{\"anchor\":\"x\",\"domain\":[0.0,1.0],\"title\":{\"text\":\"Avg Recommendation\"}},\"legend\":{\"tracegroupgap\":0,\"title\":{\"font\":{\"size\":14}}},\"title\":{\"text\":\"Game Popularity vs. Average Recommendation Score\",\"font\":{\"size\":20}}},                        {\"responsive\": true}                    ).then(function(){\n",
       "                            \n",
       "var gd = document.getElementById('6ed250aa-18b9-4e0c-9549-0bb264b8deed');\n",
       "var x = new MutationObserver(function (mutations, observer) {{\n",
       "        var display = window.getComputedStyle(gd).display;\n",
       "        if (!display || display === 'none') {{\n",
       "            console.log([gd, 'removed!']);\n",
       "            Plotly.purge(gd);\n",
       "            observer.disconnect();\n",
       "        }}\n",
       "}});\n",
       "\n",
       "// Listen for the removal of the full notebook cells\n",
       "var notebookContainer = gd.closest('#notebook-container');\n",
       "if (notebookContainer) {{\n",
       "    x.observe(notebookContainer, {childList: true});\n",
       "}}\n",
       "\n",
       "// Listen for the clearing of the current output cell\n",
       "var outputEl = gd.closest('.output');\n",
       "if (outputEl) {{\n",
       "    x.observe(outputEl, {childList: true});\n",
       "}}\n",
       "\n",
       "                        })                };                });            </script>        </div>"
      ]
     },
     "metadata": {},
     "output_type": "display_data"
    }
   ],
   "source": [
    "import pandas as pd\n",
    "import plotly.express as px\n",
    "\n",
    "# Calculate the average recommendation score for each game\n",
    "average_recommendations = preds_df.drop(columns='cluster', errors='ignore').mean().reset_index()\n",
    "average_recommendations.columns = ['name', 'avg_recommendation']\n",
    "\n",
    "# Merge with games_description based on the 'name' column\n",
    "popularity_recommendation = games_description.merge(\n",
    "    average_recommendations,\n",
    "    on='name',\n",
    "    how='left'\n",
    ")\n",
    "popularity_recommendation['popularity_score'].fillna(0, inplace=True)\n",
    "\n",
    "# Scatter plot of popularity vs. average recommendation score\n",
    "fig = px.scatter(\n",
    "    popularity_recommendation,\n",
    "    x='popularity_score',\n",
    "    y='avg_recommendation',\n",
    "    hover_name='name',\n",
    "    title='Game Popularity vs. Average Recommendation Score',\n",
    "    labels={'popularity_score': 'Popularity Score', 'avg_recommendation': 'Avg Recommendation'},\n",
    "    template='plotly_dark'\n",
    ")\n",
    "fig.update_traces(marker=dict(size=10, opacity=0.7, line=dict(width=1, color='DarkSlateGrey')))\n",
    "fig.update_layout(title_font_size=20, legend_title_font_size=14)\n",
    "fig.show()\n"
   ]
  },
  {
   "cell_type": "markdown",
   "id": "4849f050",
   "metadata": {},
   "source": [
    "This code computes the average recommendation score for each game, merges it with the popularity scores from games_description, and fills missing popularity scores with 0. It then creates a scatter plot using Plotly to visualize the relationship between game popularity and average recommendation scores, highlighting game names interactively."
   ]
  },
  {
   "cell_type": "code",
   "execution_count": 66,
   "id": "b4ac94e7",
   "metadata": {},
   "outputs": [
    {
     "data": {
      "image/png": "[encoded data removed]",
      "text/plain": [
       "<Figure size 864x720 with 2 Axes>"
      ]
     },
     "metadata": {
      "needs_background": "light"
     },
     "output_type": "display_data"
    }
   ],
   "source": [
    "import seaborn as sns\n",
    "import matplotlib.pyplot as plt\n",
    "\n",
    "# Select top 10 games by average recommendation scores\n",
    "top_games = preds_df.drop(columns='cluster', errors='ignore').mean().sort_values(ascending=False).head(10).index\n",
    "\n",
    "# Create a co-recommendation matrix for the top 10 games\n",
    "co_recommendation_matrix = preds_df[top_games].T.dot(preds_df[top_games] > 0)\n",
    "\n",
    "# Enhanced Heatmap Styling\n",
    "plt.figure(figsize=(12, 10))  # Larger size for better readability\n",
    "sns.heatmap(\n",
    "    co_recommendation_matrix, \n",
    "    annot=True, \n",
    "    fmt=\".0f\", \n",
    "    cmap=\"coolwarm\",  # Modern color palette\n",
    "    linewidths=0.5,   # Add lines between cells for clarity\n",
    "    linecolor='white',  # White lines for a clean look\n",
    "    cbar_kws={'shrink': 0.8, 'label': 'Co-Recommendation Frequency'}  # Custom color bar\n",
    ")\n",
    "plt.title(\"Co-Recommendation Heatmap for Top 10 Games\", fontsize=20, fontweight='bold')\n",
    "plt.xlabel(\"Games\", fontsize=14)\n",
    "plt.ylabel(\"Games\", fontsize=14)\n",
    "plt.xticks(rotation=45, ha='right', fontsize=12)\n",
    "plt.yticks(fontsize=12)\n",
    "plt.tight_layout()\n",
    "plt.show()\n"
   ]
  },
  {
   "cell_type": "markdown",
   "id": "37ee11cd",
   "metadata": {},
   "source": [
    "This code identifies the top 10 games with the highest average recommendation scores, computes a co-recommendation matrix showing how frequently they are recommended together, and visualizes it using an enhanced heatmap with modern styling, clear annotations, and a clean, readable layout."
   ]
  },
  {
   "cell_type": "code",
   "execution_count": 67,
   "id": "1e15b369",
   "metadata": {},
   "outputs": [
    {
     "data": {
      "application/vnd.plotly.v1+json": {
       "config": {
        "plotlyServerURL": "https://plot.ly"
       },
       "data": [
        {
         "alignmentgroup": "True",
         "hovertemplate": "Genre=%{x}<br>Number of Games=%{text}<extra></extra>",
         "legendgroup": "",
         "marker": {
          "color": "cyan",
          "pattern": {
           "shape": ""
          }
         },
         "name": "",
         "offsetgroup": "",
         "orientation": "v",
         "showlegend": false,
         "text": [
          215,
          182,
          147,
          118,
          111,
          105,
          100,
          91,
          86,
          77,
          76,
          74,
          72,
          72,
          70
         ],
         "textposition": "outside",
         "type": "bar",
         "x": [
          "'Singleplayer'",
          "'Multiplayer'",
          "'Action'",
          "'Simulation'",
          "'Adventure'",
          "'Co-op'",
          "'Open World'",
          "'First-Person'",
          "'Atmospheric'",
          "'PvP'",
          "'Online Co-Op'",
          "'RPG'",
          "'Realistic'",
          "'Sandbox'",
          "'Third Person'"
         ],
         "xaxis": "x",
         "y": [
          215,
          182,
          147,
          118,
          111,
          105,
          100,
          91,
          86,
          77,
          76,
          74,
          72,
          72,
          70
         ],
         "yaxis": "y"
        }
       ],
       "layout": {
        "barmode": "relative",
        "legend": {
         "tracegroupgap": 0
        },
        "template": {
         "data": {
          "bar": [
           {
            "error_x": {
             "color": "#f2f5fa"
            },
            "error_y": {
             "color": "#f2f5fa"
            },
            "marker": {
             "line": {
              "color": "rgb(17,17,17)",
              "width": 0.5
             },
             "pattern": {
              "fillmode": "overlay",
              "size": 10,
              "solidity": 0.2
             }
            },
            "type": "bar"
           }
          ],
          "barpolar": [
           {
            "marker": {
             "line": {
              "color": "rgb(17,17,17)",
              "width": 0.5
             },
             "pattern": {
              "fillmode": "overlay",
              "size": 10,
              "solidity": 0.2
             }
            },
            "type": "barpolar"
           }
          ],
          "carpet": [
           {
            "aaxis": {
             "endlinecolor": "#A2B1C6",
             "gridcolor": "#506784",
             "linecolor": "#506784",
             "minorgridcolor": "#506784",
             "startlinecolor": "#A2B1C6"
            },
            "baxis": {
             "endlinecolor": "#A2B1C6",
             "gridcolor": "#506784",
             "linecolor": "#506784",
             "minorgridcolor": "#506784",
             "startlinecolor": "#A2B1C6"
            },
            "type": "carpet"
           }
          ],
          "choropleth": [
           {
            "colorbar": {
             "outlinewidth": 0,
             "ticks": ""
            },
            "type": "choropleth"
           }
          ],
          "contour": [
           {
            "colorbar": {
             "outlinewidth": 0,
             "ticks": ""
            },
            "colorscale": [
             [
              0,
              "#0d0887"
             ],
             [
              0.1111111111111111,
              "#46039f"
             ],
             [
              0.2222222222222222,
              "#7201a8"
             ],
             [
              0.3333333333333333,
              "#9c179e"
             ],
             [
              0.4444444444444444,
              "#bd3786"
             ],
             [
              0.5555555555555556,
              "#d8576b"
             ],
             [
              0.6666666666666666,
              "#ed7953"
             ],
             [
              0.7777777777777778,
              "#fb9f3a"
             ],
             [
              0.8888888888888888,
              "#fdca26"
             ],
             [
              1,
              "#f0f921"
             ]
            ],
            "type": "contour"
           }
          ],
          "contourcarpet": [
           {
            "colorbar": {
             "outlinewidth": 0,
             "ticks": ""
            },
            "type": "contourcarpet"
           }
          ],
          "heatmap": [
           {
            "colorbar": {
             "outlinewidth": 0,
             "ticks": ""
            },
            "colorscale": [
             [
              0,
              "#0d0887"
             ],
             [
              0.1111111111111111,
              "#46039f"
             ],
             [
              0.2222222222222222,
              "#7201a8"
             ],
             [
              0.3333333333333333,
              "#9c179e"
             ],
             [
              0.4444444444444444,
              "#bd3786"
             ],
             [
              0.5555555555555556,
              "#d8576b"
             ],
             [
              0.6666666666666666,
              "#ed7953"
             ],
             [
              0.7777777777777778,
              "#fb9f3a"
             ],
             [
              0.8888888888888888,
              "#fdca26"
             ],
             [
              1,
              "#f0f921"
             ]
            ],
            "type": "heatmap"
           }
          ],
          "heatmapgl": [
           {
            "colorbar": {
             "outlinewidth": 0,
             "ticks": ""
            },
            "colorscale": [
             [
              0,
              "#0d0887"
             ],
             [
              0.1111111111111111,
              "#46039f"
             ],
             [
              0.2222222222222222,
              "#7201a8"
             ],
             [
              0.3333333333333333,
              "#9c179e"
             ],
             [
              0.4444444444444444,
              "#bd3786"
             ],
             [
              0.5555555555555556,
              "#d8576b"
             ],
             [
              0.6666666666666666,
              "#ed7953"
             ],
             [
              0.7777777777777778,
              "#fb9f3a"
             ],
             [
              0.8888888888888888,
              "#fdca26"
             ],
             [
              1,
              "#f0f921"
             ]
            ],
            "type": "heatmapgl"
           }
          ],
          "histogram": [
           {
            "marker": {
             "pattern": {
              "fillmode": "overlay",
              "size": 10,
              "solidity": 0.2
             }
            },
            "type": "histogram"
           }
          ],
          "histogram2d": [
           {
            "colorbar": {
             "outlinewidth": 0,
             "ticks": ""
            },
            "colorscale": [
             [
              0,
              "#0d0887"
             ],
             [
              0.1111111111111111,
              "#46039f"
             ],
             [
              0.2222222222222222,
              "#7201a8"
             ],
             [
              0.3333333333333333,
              "#9c179e"
             ],
             [
              0.4444444444444444,
              "#bd3786"
             ],
             [
              0.5555555555555556,
              "#d8576b"
             ],
             [
              0.6666666666666666,
              "#ed7953"
             ],
             [
              0.7777777777777778,
              "#fb9f3a"
             ],
             [
              0.8888888888888888,
              "#fdca26"
             ],
             [
              1,
              "#f0f921"
             ]
            ],
            "type": "histogram2d"
           }
          ],
          "histogram2dcontour": [
           {
            "colorbar": {
             "outlinewidth": 0,
             "ticks": ""
            },
            "colorscale": [
             [
              0,
              "#0d0887"
             ],
             [
              0.1111111111111111,
              "#46039f"
             ],
             [
              0.2222222222222222,
              "#7201a8"
             ],
             [
              0.3333333333333333,
              "#9c179e"
             ],
             [
              0.4444444444444444,
              "#bd3786"
             ],
             [
              0.5555555555555556,
              "#d8576b"
             ],
             [
              0.6666666666666666,
              "#ed7953"
             ],
             [
              0.7777777777777778,
              "#fb9f3a"
             ],
             [
              0.8888888888888888,
              "#fdca26"
             ],
             [
              1,
              "#f0f921"
             ]
            ],
            "type": "histogram2dcontour"
           }
          ],
          "mesh3d": [
           {
            "colorbar": {
             "outlinewidth": 0,
             "ticks": ""
            },
            "type": "mesh3d"
           }
          ],
          "parcoords": [
           {
            "line": {
             "colorbar": {
              "outlinewidth": 0,
              "ticks": ""
             }
            },
            "type": "parcoords"
           }
          ],
          "pie": [
           {
            "automargin": true,
            "type": "pie"
           }
          ],
          "scatter": [
           {
            "marker": {
             "line": {
              "color": "#283442"
             }
            },
            "type": "scatter"
           }
          ],
          "scatter3d": [
           {
            "line": {
             "colorbar": {
              "outlinewidth": 0,
              "ticks": ""
             }
            },
            "marker": {
             "colorbar": {
              "outlinewidth": 0,
              "ticks": ""
             }
            },
            "type": "scatter3d"
           }
          ],
          "scattercarpet": [
           {
            "marker": {
             "colorbar": {
              "outlinewidth": 0,
              "ticks": ""
             }
            },
            "type": "scattercarpet"
           }
          ],
          "scattergeo": [
           {
            "marker": {
             "colorbar": {
              "outlinewidth": 0,
              "ticks": ""
             }
            },
            "type": "scattergeo"
           }
          ],
          "scattergl": [
           {
            "marker": {
             "line": {
              "color": "#283442"
             }
            },
            "type": "scattergl"
           }
          ],
          "scattermapbox": [
           {
            "marker": {
             "colorbar": {
              "outlinewidth": 0,
              "ticks": ""
             }
            },
            "type": "scattermapbox"
           }
          ],
          "scatterpolar": [
           {
            "marker": {
             "colorbar": {
              "outlinewidth": 0,
              "ticks": ""
             }
            },
            "type": "scatterpolar"
           }
          ],
          "scatterpolargl": [
           {
            "marker": {
             "colorbar": {
              "outlinewidth": 0,
              "ticks": ""
             }
            },
            "type": "scatterpolargl"
           }
          ],
          "scatterternary": [
           {
            "marker": {
             "colorbar": {
              "outlinewidth": 0,
              "ticks": ""
             }
            },
            "type": "scatterternary"
           }
          ],
          "surface": [
           {
            "colorbar": {
             "outlinewidth": 0,
             "ticks": ""
            },
            "colorscale": [
             [
              0,
              "#0d0887"
             ],
             [
              0.1111111111111111,
              "#46039f"
             ],
             [
              0.2222222222222222,
              "#7201a8"
             ],
             [
              0.3333333333333333,
              "#9c179e"
             ],
             [
              0.4444444444444444,
              "#bd3786"
             ],
             [
              0.5555555555555556,
              "#d8576b"
             ],
             [
              0.6666666666666666,
              "#ed7953"
             ],
             [
              0.7777777777777778,
              "#fb9f3a"
             ],
             [
              0.8888888888888888,
              "#fdca26"
             ],
             [
              1,
              "#f0f921"
             ]
            ],
            "type": "surface"
           }
          ],
          "table": [
           {
            "cells": {
             "fill": {
              "color": "#506784"
             },
             "line": {
              "color": "rgb(17,17,17)"
             }
            },
            "header": {
             "fill": {
              "color": "#2a3f5f"
             },
             "line": {
              "color": "rgb(17,17,17)"
             }
            },
            "type": "table"
           }
          ]
         },
         "layout": {
          "annotationdefaults": {
           "arrowcolor": "#f2f5fa",
           "arrowhead": 0,
           "arrowwidth": 1
          },
          "autotypenumbers": "strict",
          "coloraxis": {
           "colorbar": {
            "outlinewidth": 0,
            "ticks": ""
           }
          },
          "colorscale": {
           "diverging": [
            [
             0,
             "#8e0152"
            ],
            [
             0.1,
             "#c51b7d"
            ],
            [
             0.2,
             "#de77ae"
            ],
            [
             0.3,
             "#f1b6da"
            ],
            [
             0.4,
             "#fde0ef"
            ],
            [
             0.5,
             "#f7f7f7"
            ],
            [
             0.6,
             "#e6f5d0"
            ],
            [
             0.7,
             "#b8e186"
            ],
            [
             0.8,
             "#7fbc41"
            ],
            [
             0.9,
             "#4d9221"
            ],
            [
             1,
             "#276419"
            ]
           ],
           "sequential": [
            [
             0,
             "#0d0887"
            ],
            [
             0.1111111111111111,
             "#46039f"
            ],
            [
             0.2222222222222222,
             "#7201a8"
            ],
            [
             0.3333333333333333,
             "#9c179e"
            ],
            [
             0.4444444444444444,
             "#bd3786"
            ],
            [
             0.5555555555555556,
             "#d8576b"
            ],
            [
             0.6666666666666666,
             "#ed7953"
            ],
            [
             0.7777777777777778,
             "#fb9f3a"
            ],
            [
             0.8888888888888888,
             "#fdca26"
            ],
            [
             1,
             "#f0f921"
            ]
           ],
           "sequentialminus": [
            [
             0,
             "#0d0887"
            ],
            [
             0.1111111111111111,
             "#46039f"
            ],
            [
             0.2222222222222222,
             "#7201a8"
            ],
            [
             0.3333333333333333,
             "#9c179e"
            ],
            [
             0.4444444444444444,
             "#bd3786"
            ],
            [
             0.5555555555555556,
             "#d8576b"
            ],
            [
             0.6666666666666666,
             "#ed7953"
            ],
            [
             0.7777777777777778,
             "#fb9f3a"
            ],
            [
             0.8888888888888888,
             "#fdca26"
            ],
            [
             1,
             "#f0f921"
            ]
           ]
          },
          "colorway": [
           "#636efa",
           "#EF553B",
           "#00cc96",
           "#ab63fa",
           "#FFA15A",
           "#19d3f3",
           "#FF6692",
           "#B6E880",
           "#FF97FF",
           "#FECB52"
          ],
          "font": {
           "color": "#f2f5fa"
          },
          "geo": {
           "bgcolor": "rgb(17,17,17)",
           "lakecolor": "rgb(17,17,17)",
           "landcolor": "rgb(17,17,17)",
           "showlakes": true,
           "showland": true,
           "subunitcolor": "#506784"
          },
          "hoverlabel": {
           "align": "left"
          },
          "hovermode": "closest",
          "mapbox": {
           "style": "dark"
          },
          "paper_bgcolor": "rgb(17,17,17)",
          "plot_bgcolor": "rgb(17,17,17)",
          "polar": {
           "angularaxis": {
            "gridcolor": "#506784",
            "linecolor": "#506784",
            "ticks": ""
           },
           "bgcolor": "rgb(17,17,17)",
           "radialaxis": {
            "gridcolor": "#506784",
            "linecolor": "#506784",
            "ticks": ""
           }
          },
          "scene": {
           "xaxis": {
            "backgroundcolor": "rgb(17,17,17)",
            "gridcolor": "#506784",
            "gridwidth": 2,
            "linecolor": "#506784",
            "showbackground": true,
            "ticks": "",
            "zerolinecolor": "#C8D4E3"
           },
           "yaxis": {
            "backgroundcolor": "rgb(17,17,17)",
            "gridcolor": "#506784",
            "gridwidth": 2,
            "linecolor": "#506784",
            "showbackground": true,
            "ticks": "",
            "zerolinecolor": "#C8D4E3"
           },
           "zaxis": {
            "backgroundcolor": "rgb(17,17,17)",
            "gridcolor": "#506784",
            "gridwidth": 2,
            "linecolor": "#506784",
            "showbackground": true,
            "ticks": "",
            "zerolinecolor": "#C8D4E3"
           }
          },
          "shapedefaults": {
           "line": {
            "color": "#f2f5fa"
           }
          },
          "sliderdefaults": {
           "bgcolor": "#C8D4E3",
           "bordercolor": "rgb(17,17,17)",
           "borderwidth": 1,
           "tickwidth": 0
          },
          "ternary": {
           "aaxis": {
            "gridcolor": "#506784",
            "linecolor": "#506784",
            "ticks": ""
           },
           "baxis": {
            "gridcolor": "#506784",
            "linecolor": "#506784",
            "ticks": ""
           },
           "bgcolor": "rgb(17,17,17)",
           "caxis": {
            "gridcolor": "#506784",
            "linecolor": "#506784",
            "ticks": ""
           }
          },
          "title": {
           "x": 0.05
          },
          "updatemenudefaults": {
           "bgcolor": "#506784",
           "borderwidth": 0
          },
          "xaxis": {
           "automargin": true,
           "gridcolor": "#283442",
           "linecolor": "#506784",
           "ticks": "",
           "title": {
            "standoff": 15
           },
           "zerolinecolor": "#283442",
           "zerolinewidth": 2
          },
          "yaxis": {
           "automargin": true,
           "gridcolor": "#283442",
           "linecolor": "#506784",
           "ticks": "",
           "title": {
            "standoff": 15
           },
           "zerolinecolor": "#283442",
           "zerolinewidth": 2
          }
         }
        },
        "title": {
         "font": {
          "size": 20
         },
         "text": "Top 15 Game Genres Distribution"
        },
        "xaxis": {
         "anchor": "y",
         "domain": [
          0,
          1
         ],
         "tickangle": -45,
         "tickfont": {
          "size": 12
         },
         "title": {
          "font": {
           "size": 14
          },
          "text": "Genre"
         }
        },
        "yaxis": {
         "anchor": "x",
         "domain": [
          0,
          1
         ],
         "title": {
          "font": {
           "size": 14
          },
          "text": "Number of Games"
         }
        }
       }
      },
      "text/html": [
       "<div>                            <div id=\"0dd633ac-9482-452a-9d19-11c2fe3397ef\" class=\"plotly-graph-div\" style=\"height:525px; width:100%;\"></div>            <script type=\"text/javascript\">                require([\"plotly\"], function(Plotly) {                    window.PLOTLYENV=window.PLOTLYENV || {};                                    if (document.getElementById(\"0dd633ac-9482-452a-9d19-11c2fe3397ef\")) {                    Plotly.newPlot(                        \"0dd633ac-9482-452a-9d19-11c2fe3397ef\",                        [{\"alignmentgroup\":\"True\",\"hovertemplate\":\"Genre=%{x}\\u003cbr\\u003eNumber of Games=%{text}\\u003cextra\\u003e\\u003c\\u002fextra\\u003e\",\"legendgroup\":\"\",\"marker\":{\"color\":\"cyan\",\"pattern\":{\"shape\":\"\"}},\"name\":\"\",\"offsetgroup\":\"\",\"orientation\":\"v\",\"showlegend\":false,\"text\":[215.0,182.0,147.0,118.0,111.0,105.0,100.0,91.0,86.0,77.0,76.0,74.0,72.0,72.0,70.0],\"textposition\":\"outside\",\"x\":[\"'Singleplayer'\",\"'Multiplayer'\",\"'Action'\",\"'Simulation'\",\"'Adventure'\",\"'Co-op'\",\"'Open World'\",\"'First-Person'\",\"'Atmospheric'\",\"'PvP'\",\"'Online Co-Op'\",\"'RPG'\",\"'Realistic'\",\"'Sandbox'\",\"'Third Person'\"],\"xaxis\":\"x\",\"y\":[215,182,147,118,111,105,100,91,86,77,76,74,72,72,70],\"yaxis\":\"y\",\"type\":\"bar\"}],                        {\"template\":{\"data\":{\"barpolar\":[{\"marker\":{\"line\":{\"color\":\"rgb(17,17,17)\",\"width\":0.5},\"pattern\":{\"fillmode\":\"overlay\",\"size\":10,\"solidity\":0.2}},\"type\":\"barpolar\"}],\"bar\":[{\"error_x\":{\"color\":\"#f2f5fa\"},\"error_y\":{\"color\":\"#f2f5fa\"},\"marker\":{\"line\":{\"color\":\"rgb(17,17,17)\",\"width\":0.5},\"pattern\":{\"fillmode\":\"overlay\",\"size\":10,\"solidity\":0.2}},\"type\":\"bar\"}],\"carpet\":[{\"aaxis\":{\"endlinecolor\":\"#A2B1C6\",\"gridcolor\":\"#506784\",\"linecolor\":\"#506784\",\"minorgridcolor\":\"#506784\",\"startlinecolor\":\"#A2B1C6\"},\"baxis\":{\"endlinecolor\":\"#A2B1C6\",\"gridcolor\":\"#506784\",\"linecolor\":\"#506784\",\"minorgridcolor\":\"#506784\",\"startlinecolor\":\"#A2B1C6\"},\"type\":\"carpet\"}],\"choropleth\":[{\"colorbar\":{\"outlinewidth\":0,\"ticks\":\"\"},\"type\":\"choropleth\"}],\"contourcarpet\":[{\"colorbar\":{\"outlinewidth\":0,\"ticks\":\"\"},\"type\":\"contourcarpet\"}],\"contour\":[{\"colorbar\":{\"outlinewidth\":0,\"ticks\":\"\"},\"colorscale\":[[0.0,\"#0d0887\"],[0.1111111111111111,\"#46039f\"],[0.2222222222222222,\"#7201a8\"],[0.3333333333333333,\"#9c179e\"],[0.4444444444444444,\"#bd3786\"],[0.5555555555555556,\"#d8576b\"],[0.6666666666666666,\"#ed7953\"],[0.7777777777777778,\"#fb9f3a\"],[0.8888888888888888,\"#fdca26\"],[1.0,\"#f0f921\"]],\"type\":\"contour\"}],\"heatmapgl\":[{\"colorbar\":{\"outlinewidth\":0,\"ticks\":\"\"},\"colorscale\":[[0.0,\"#0d0887\"],[0.1111111111111111,\"#46039f\"],[0.2222222222222222,\"#7201a8\"],[0.3333333333333333,\"#9c179e\"],[0.4444444444444444,\"#bd3786\"],[0.5555555555555556,\"#d8576b\"],[0.6666666666666666,\"#ed7953\"],[0.7777777777777778,\"#fb9f3a\"],[0.8888888888888888,\"#fdca26\"],[1.0,\"#f0f921\"]],\"type\":\"heatmapgl\"}],\"heatmap\":[{\"colorbar\":{\"outlinewidth\":0,\"ticks\":\"\"},\"colorscale\":[[0.0,\"#0d0887\"],[0.1111111111111111,\"#46039f\"],[0.2222222222222222,\"#7201a8\"],[0.3333333333333333,\"#9c179e\"],[0.4444444444444444,\"#bd3786\"],[0.5555555555555556,\"#d8576b\"],[0.6666666666666666,\"#ed7953\"],[0.7777777777777778,\"#fb9f3a\"],[0.8888888888888888,\"#fdca26\"],[1.0,\"#f0f921\"]],\"type\":\"heatmap\"}],\"histogram2dcontour\":[{\"colorbar\":{\"outlinewidth\":0,\"ticks\":\"\"},\"colorscale\":[[0.0,\"#0d0887\"],[0.1111111111111111,\"#46039f\"],[0.2222222222222222,\"#7201a8\"],[0.3333333333333333,\"#9c179e\"],[0.4444444444444444,\"#bd3786\"],[0.5555555555555556,\"#d8576b\"],[0.6666666666666666,\"#ed7953\"],[0.7777777777777778,\"#fb9f3a\"],[0.8888888888888888,\"#fdca26\"],[1.0,\"#f0f921\"]],\"type\":\"histogram2dcontour\"}],\"histogram2d\":[{\"colorbar\":{\"outlinewidth\":0,\"ticks\":\"\"},\"colorscale\":[[0.0,\"#0d0887\"],[0.1111111111111111,\"#46039f\"],[0.2222222222222222,\"#7201a8\"],[0.3333333333333333,\"#9c179e\"],[0.4444444444444444,\"#bd3786\"],[0.5555555555555556,\"#d8576b\"],[0.6666666666666666,\"#ed7953\"],[0.7777777777777778,\"#fb9f3a\"],[0.8888888888888888,\"#fdca26\"],[1.0,\"#f0f921\"]],\"type\":\"histogram2d\"}],\"histogram\":[{\"marker\":{\"pattern\":{\"fillmode\":\"overlay\",\"size\":10,\"solidity\":0.2}},\"type\":\"histogram\"}],\"mesh3d\":[{\"colorbar\":{\"outlinewidth\":0,\"ticks\":\"\"},\"type\":\"mesh3d\"}],\"parcoords\":[{\"line\":{\"colorbar\":{\"outlinewidth\":0,\"ticks\":\"\"}},\"type\":\"parcoords\"}],\"pie\":[{\"automargin\":true,\"type\":\"pie\"}],\"scatter3d\":[{\"line\":{\"colorbar\":{\"outlinewidth\":0,\"ticks\":\"\"}},\"marker\":{\"colorbar\":{\"outlinewidth\":0,\"ticks\":\"\"}},\"type\":\"scatter3d\"}],\"scattercarpet\":[{\"marker\":{\"colorbar\":{\"outlinewidth\":0,\"ticks\":\"\"}},\"type\":\"scattercarpet\"}],\"scattergeo\":[{\"marker\":{\"colorbar\":{\"outlinewidth\":0,\"ticks\":\"\"}},\"type\":\"scattergeo\"}],\"scattergl\":[{\"marker\":{\"line\":{\"color\":\"#283442\"}},\"type\":\"scattergl\"}],\"scattermapbox\":[{\"marker\":{\"colorbar\":{\"outlinewidth\":0,\"ticks\":\"\"}},\"type\":\"scattermapbox\"}],\"scatterpolargl\":[{\"marker\":{\"colorbar\":{\"outlinewidth\":0,\"ticks\":\"\"}},\"type\":\"scatterpolargl\"}],\"scatterpolar\":[{\"marker\":{\"colorbar\":{\"outlinewidth\":0,\"ticks\":\"\"}},\"type\":\"scatterpolar\"}],\"scatter\":[{\"marker\":{\"line\":{\"color\":\"#283442\"}},\"type\":\"scatter\"}],\"scatterternary\":[{\"marker\":{\"colorbar\":{\"outlinewidth\":0,\"ticks\":\"\"}},\"type\":\"scatterternary\"}],\"surface\":[{\"colorbar\":{\"outlinewidth\":0,\"ticks\":\"\"},\"colorscale\":[[0.0,\"#0d0887\"],[0.1111111111111111,\"#46039f\"],[0.2222222222222222,\"#7201a8\"],[0.3333333333333333,\"#9c179e\"],[0.4444444444444444,\"#bd3786\"],[0.5555555555555556,\"#d8576b\"],[0.6666666666666666,\"#ed7953\"],[0.7777777777777778,\"#fb9f3a\"],[0.8888888888888888,\"#fdca26\"],[1.0,\"#f0f921\"]],\"type\":\"surface\"}],\"table\":[{\"cells\":{\"fill\":{\"color\":\"#506784\"},\"line\":{\"color\":\"rgb(17,17,17)\"}},\"header\":{\"fill\":{\"color\":\"#2a3f5f\"},\"line\":{\"color\":\"rgb(17,17,17)\"}},\"type\":\"table\"}]},\"layout\":{\"annotationdefaults\":{\"arrowcolor\":\"#f2f5fa\",\"arrowhead\":0,\"arrowwidth\":1},\"autotypenumbers\":\"strict\",\"coloraxis\":{\"colorbar\":{\"outlinewidth\":0,\"ticks\":\"\"}},\"colorscale\":{\"diverging\":[[0,\"#8e0152\"],[0.1,\"#c51b7d\"],[0.2,\"#de77ae\"],[0.3,\"#f1b6da\"],[0.4,\"#fde0ef\"],[0.5,\"#f7f7f7\"],[0.6,\"#e6f5d0\"],[0.7,\"#b8e186\"],[0.8,\"#7fbc41\"],[0.9,\"#4d9221\"],[1,\"#276419\"]],\"sequential\":[[0.0,\"#0d0887\"],[0.1111111111111111,\"#46039f\"],[0.2222222222222222,\"#7201a8\"],[0.3333333333333333,\"#9c179e\"],[0.4444444444444444,\"#bd3786\"],[0.5555555555555556,\"#d8576b\"],[0.6666666666666666,\"#ed7953\"],[0.7777777777777778,\"#fb9f3a\"],[0.8888888888888888,\"#fdca26\"],[1.0,\"#f0f921\"]],\"sequentialminus\":[[0.0,\"#0d0887\"],[0.1111111111111111,\"#46039f\"],[0.2222222222222222,\"#7201a8\"],[0.3333333333333333,\"#9c179e\"],[0.4444444444444444,\"#bd3786\"],[0.5555555555555556,\"#d8576b\"],[0.6666666666666666,\"#ed7953\"],[0.7777777777777778,\"#fb9f3a\"],[0.8888888888888888,\"#fdca26\"],[1.0,\"#f0f921\"]]},\"colorway\":[\"#636efa\",\"#EF553B\",\"#00cc96\",\"#ab63fa\",\"#FFA15A\",\"#19d3f3\",\"#FF6692\",\"#B6E880\",\"#FF97FF\",\"#FECB52\"],\"font\":{\"color\":\"#f2f5fa\"},\"geo\":{\"bgcolor\":\"rgb(17,17,17)\",\"lakecolor\":\"rgb(17,17,17)\",\"landcolor\":\"rgb(17,17,17)\",\"showlakes\":true,\"showland\":true,\"subunitcolor\":\"#506784\"},\"hoverlabel\":{\"align\":\"left\"},\"hovermode\":\"closest\",\"mapbox\":{\"style\":\"dark\"},\"paper_bgcolor\":\"rgb(17,17,17)\",\"plot_bgcolor\":\"rgb(17,17,17)\",\"polar\":{\"angularaxis\":{\"gridcolor\":\"#506784\",\"linecolor\":\"#506784\",\"ticks\":\"\"},\"bgcolor\":\"rgb(17,17,17)\",\"radialaxis\":{\"gridcolor\":\"#506784\",\"linecolor\":\"#506784\",\"ticks\":\"\"}},\"scene\":{\"xaxis\":{\"backgroundcolor\":\"rgb(17,17,17)\",\"gridcolor\":\"#506784\",\"gridwidth\":2,\"linecolor\":\"#506784\",\"showbackground\":true,\"ticks\":\"\",\"zerolinecolor\":\"#C8D4E3\"},\"yaxis\":{\"backgroundcolor\":\"rgb(17,17,17)\",\"gridcolor\":\"#506784\",\"gridwidth\":2,\"linecolor\":\"#506784\",\"showbackground\":true,\"ticks\":\"\",\"zerolinecolor\":\"#C8D4E3\"},\"zaxis\":{\"backgroundcolor\":\"rgb(17,17,17)\",\"gridcolor\":\"#506784\",\"gridwidth\":2,\"linecolor\":\"#506784\",\"showbackground\":true,\"ticks\":\"\",\"zerolinecolor\":\"#C8D4E3\"}},\"shapedefaults\":{\"line\":{\"color\":\"#f2f5fa\"}},\"sliderdefaults\":{\"bgcolor\":\"#C8D4E3\",\"bordercolor\":\"rgb(17,17,17)\",\"borderwidth\":1,\"tickwidth\":0},\"ternary\":{\"aaxis\":{\"gridcolor\":\"#506784\",\"linecolor\":\"#506784\",\"ticks\":\"\"},\"baxis\":{\"gridcolor\":\"#506784\",\"linecolor\":\"#506784\",\"ticks\":\"\"},\"bgcolor\":\"rgb(17,17,17)\",\"caxis\":{\"gridcolor\":\"#506784\",\"linecolor\":\"#506784\",\"ticks\":\"\"}},\"title\":{\"x\":0.05},\"updatemenudefaults\":{\"bgcolor\":\"#506784\",\"borderwidth\":0},\"xaxis\":{\"automargin\":true,\"gridcolor\":\"#283442\",\"linecolor\":\"#506784\",\"ticks\":\"\",\"title\":{\"standoff\":15},\"zerolinecolor\":\"#283442\",\"zerolinewidth\":2},\"yaxis\":{\"automargin\":true,\"gridcolor\":\"#283442\",\"linecolor\":\"#506784\",\"ticks\":\"\",\"title\":{\"standoff\":15},\"zerolinecolor\":\"#283442\",\"zerolinewidth\":2}}},\"xaxis\":{\"anchor\":\"y\",\"domain\":[0.0,1.0],\"title\":{\"text\":\"Genre\",\"font\":{\"size\":14}},\"tickfont\":{\"size\":12},\"tickangle\":-45},\"yaxis\":{\"anchor\":\"x\",\"domain\":[0.0,1.0],\"title\":{\"text\":\"Number of Games\",\"font\":{\"size\":14}}},\"legend\":{\"tracegroupgap\":0},\"title\":{\"text\":\"Top 15 Game Genres Distribution\",\"font\":{\"size\":20}},\"barmode\":\"relative\"},                        {\"responsive\": true}                    ).then(function(){\n",
       "                            \n",
       "var gd = document.getElementById('0dd633ac-9482-452a-9d19-11c2fe3397ef');\n",
       "var x = new MutationObserver(function (mutations, observer) {{\n",
       "        var display = window.getComputedStyle(gd).display;\n",
       "        if (!display || display === 'none') {{\n",
       "            console.log([gd, 'removed!']);\n",
       "            Plotly.purge(gd);\n",
       "            observer.disconnect();\n",
       "        }}\n",
       "}});\n",
       "\n",
       "// Listen for the removal of the full notebook cells\n",
       "var notebookContainer = gd.closest('#notebook-container');\n",
       "if (notebookContainer) {{\n",
       "    x.observe(notebookContainer, {childList: true});\n",
       "}}\n",
       "\n",
       "// Listen for the clearing of the current output cell\n",
       "var outputEl = gd.closest('.output');\n",
       "if (outputEl) {{\n",
       "    x.observe(outputEl, {childList: true});\n",
       "}}\n",
       "\n",
       "                        })                };                });            </script>        </div>"
      ]
     },
     "metadata": {},
     "output_type": "display_data"
    }
   ],
   "source": [
    "import plotly.express as px\n",
    "\n",
    "# Count the frequency of each genre\n",
    "genres_split = games_description['genres'].str.split(', ', expand=True).stack()\n",
    "genre_counts = genres_split.value_counts().reset_index()\n",
    "genre_counts.columns = ['genre', 'count']\n",
    "\n",
    "# Plot genre distribution as a bar chart\n",
    "fig = px.bar(\n",
    "    genre_counts.head(15),  # Top 15 genres\n",
    "    x='genre',\n",
    "    y='count',\n",
    "    text='count',\n",
    "    title='Top 15 Game Genres Distribution',\n",
    "    labels={'genre': 'Genre', 'count': 'Number of Games'},\n",
    "    template='plotly_dark'\n",
    ")\n",
    "fig.update_traces(marker_color='cyan', textposition='outside')\n",
    "fig.update_layout(\n",
    "    xaxis_tickangle=-45,\n",
    "    title_font_size=20,\n",
    "    xaxis_title_font_size=14,\n",
    "    yaxis_title_font_size=14,\n",
    "    xaxis_tickfont_size=12\n",
    ")\n",
    "fig.show()\n"
   ]
  },
  {
   "cell_type": "markdown",
   "id": "a7faf6b1",
   "metadata": {},
   "source": [
    "This code splits the `genres` column into individual genres, calculates their frequency, and visualizes the top 15 genres using a bar chart. The chart, styled with a dark theme and cyan markers, includes clear labels, a tilted x-axis for readability, and game counts displayed above each bar."
   ]
  },
  {
   "cell_type": "code",
   "execution_count": 68,
   "id": "ee384bb6",
   "metadata": {
    "scrolled": false
   },
   "outputs": [
    {
     "data": {
      "application/vnd.plotly.v1+json": {
       "config": {
        "plotlyServerURL": "https://plot.ly"
       },
       "data": [
        {
         "customdata": [
          [
           0.05405405405405406,
           1
          ],
          [
           1.4431372549019608,
           4
          ],
          [
           0.05405405405405406,
           1
          ],
          [
           0.6021116138763197,
           3
          ],
          [
           2.673234078349168,
           12
          ],
          [
           1.2666666666666666,
           3
          ],
          [
           0.05405405405405406,
           1
          ],
          [
           1.4740245261984393,
           5
          ],
          [
           0.07692307692307693,
           1
          ],
          [
           0.7989688629074818,
           5
          ],
          [
           0.13043478260869565,
           1
          ],
          [
           0.13333333333333333,
           1
          ],
          [
           0.11764705882352941,
           1
          ],
          [
           0.4633484162895927,
           4
          ],
          [
           0.8,
           1
          ],
          [
           0.11764705882352941,
           1
          ],
          [
           2.2629776680927574,
           10
          ],
          [
           0.1111111111111111,
           1
          ],
          [
           0.3333333333333333,
           1
          ],
          [
           0.13043478260869565,
           1
          ],
          [
           0.6,
           1
          ],
          [
           0.13043478260869565,
           1
          ],
          [
           0.05405405405405406,
           1
          ],
          [
           0.11764705882352941,
           1
          ],
          [
           0.6209150326797386,
           3
          ],
          [
           1.1098039215686273,
           3
          ],
          [
           0.3333333333333333,
           1
          ],
          [
           0.1111111111111111,
           1
          ],
          [
           0.11764705882352941,
           1
          ],
          [
           0.05405405405405406,
           1
          ],
          [
           0.1764705882352941,
           1
          ],
          [
           1.4209150326797384,
           4
          ],
          [
           0.6,
           1
          ],
          [
           0.07692307692307693,
           1
          ],
          [
           0.13097713097713098,
           2
          ],
          [
           0.8957008890512727,
           4
          ],
          [
           0.21025641025641026,
           2
          ],
          [
           0.3021358954862791,
           3
          ],
          [
           0.8,
           1
          ],
          [
           0.1111111111111111,
           1
          ],
          [
           0.047619047619047616,
           1
          ],
          [
           0.07692307692307693,
           1
          ],
          [
           0.1111111111111111,
           1
          ],
          [
           0.3069053708439897,
           2
          ],
          [
           0.5025641025641026,
           3
          ],
          [
           0.11764705882352941,
           1
          ],
          [
           0.13333333333333333,
           1
          ],
          [
           0.05405405405405406,
           1
          ],
          [
           0.05405405405405406,
           1
          ],
          [
           0.05405405405405406,
           1
          ],
          [
           0.11764705882352941,
           1
          ],
          [
           0.0923076923076923,
           1
          ],
          [
           0.2099547511312217,
           2
          ],
          [
           0.13333333333333333,
           1
          ],
          [
           0.07692307692307693,
           1
          ],
          [
           0.16923076923076924,
           2
          ],
          [
           0.2549769071508202,
           3
          ],
          [
           0.6476190476190475,
           2
          ],
          [
           0.7304347826086957,
           2
          ],
          [
           0.047619047619047616,
           1
          ],
          [
           2.247593052708142,
           10
          ],
          [
           0.3333333333333333,
           1
          ],
          [
           0.8,
           1
          ],
          [
           0.0923076923076923,
           1
          ],
          [
           0.9704513822160881,
           5
          ],
          [
           0.1111111111111111,
           1
          ],
          [
           0.30980392156862746,
           2
          ],
          [
           0.16923076923076924,
           2
          ],
          [
           0.05405405405405406,
           1
          ],
          [
           0.05405405405405406,
           1
          ],
          [
           0.05405405405405406,
           1
          ],
          [
           0.13333333333333333,
           1
          ],
          [
           0.8923076923076924,
           2
          ],
          [
           1.269539222480399,
           7
          ],
          [
           0.735444947209653,
           4
          ],
          [
           0.1111111111111111,
           1
          ],
          [
           0.13043478260869565,
           1
          ],
          [
           0.1111111111111111,
           1
          ],
          [
           1.4476190476190476,
           3
          ],
          [
           0.13043478260869565,
           1
          ],
          [
           1.0099547511312217,
           3
          ],
          [
           1.1213419146922983,
           6
          ],
          [
           0.13333333333333333,
           1
          ],
          [
           1.8246098885485074,
           8
          ],
          [
           0.3333333333333333,
           1
          ],
          [
           0.8923076923076924,
           2
          ],
          [
           0.49206349206349204,
           3
          ],
          [
           0.13333333333333333,
           1
          ],
          [
           0.7333333333333333,
           2
          ],
          [
           0.19457013574660634,
           2
          ],
          [
           0.07692307692307693,
           1
          ],
          [
           0.8763772175536881,
           4
          ],
          [
           0.7717011128775835,
           3
          ],
          [
           1.6094694734080923,
           6
          ],
          [
           0.047619047619047616,
           1
          ],
          [
           1.0703615225354355,
           4
          ],
          [
           0.6,
           1
          ],
          [
           0.1111111111111111,
           1
          ],
          [
           0.30101271277741865,
           3
          ],
          [
           0.3333333333333333,
           1
          ],
          [
           1.5587301587301587,
           4
          ],
          [
           0.8,
           1
          ],
          [
           0.6,
           1
          ],
          [
           0.07692307692307693,
           1
          ],
          [
           0.05405405405405406,
           1
          ],
          [
           0.6476190476190475,
           2
          ],
          [
           0.2099547511312217,
           2
          ],
          [
           0.3333333333333333,
           1
          ],
          [
           0.13043478260869565,
           1
          ],
          [
           0.1764705882352941,
           1
          ],
          [
           0.1111111111111111,
           1
          ],
          [
           0.13333333333333333,
           1
          ],
          [
           0.8,
           1
          ]
         ],
         "hovertemplate": "<b>%{hovertext}</b><br><br>Average Recommendation Score=%{x}<br>Genres=%{y}<br>popularity_score=%{customdata[0]}<br>game_count=%{marker.color}<extra></extra>",
         "hovertext": [
          "'3D Fighter'",
          "'3D'",
          "'4 Player Local'",
          "'Action RPG'",
          "'Action'",
          "'Action-Adventure'",
          "'Action-Adventure']",
          "'Adventure'",
          "'Anime'",
          "'Atmospheric'",
          "'Automobile Sim'",
          "'Base Building'",
          "'Battle Royale'",
          "'Character Customization'",
          "'Cinematic'",
          "'Cinematic']",
          "'Co-op'",
          "'Colorful'",
          "'Combat'",
          "'Comedy'",
          "'Competitive'",
          "'Crime'",
          "'Cute'",
          "'Cyberpunk'",
          "'Dark Fantasy'",
          "'Difficult'",
          "'Drama'",
          "'Dwarf'",
          "'FPS'",
          "'Family Friendly'",
          "'Family Friendly']",
          "'Fantasy'",
          "'Fast-Paced'",
          "'Female Protagonist'",
          "'Fighting'",
          "'First-Person'",
          "'Free to Play'",
          "'Funny'",
          "'Futuristic']",
          "'Games Workshop'",
          "'Gore'",
          "'Gore']",
          "'Grand Strategy'",
          "'Great Soundtrack'",
          "'Hack and Slash'",
          "'Hero Shooter'",
          "'Horror'",
          "'Indie'",
          "'Local Co-Op'",
          "'Local Multiplayer'",
          "'Loot'",
          "'Looter Shooter'",
          "'Lore-Rich'",
          "'MMORPG'",
          "'Martial Arts'",
          "'Massively Multiplayer'",
          "'Mature'",
          "'Military'",
          "'Moddable']",
          "'Modern'",
          "'Multiplayer'",
          "'Music'",
          "'Narration'",
          "'Ninja']",
          "'Online Co-Op'",
          "'Online Co-Op']",
          "'Open World'",
          "'Parkour'",
          "'Party Game'",
          "'Party'",
          "'Physics'",
          "'Post-apocalyptic'",
          "'PvE'",
          "'PvP'",
          "'RPG'",
          "'RTS'",
          "'Racing'",
          "'Real Time Tactics'",
          "'Realistic'",
          "'Sandbox'",
          "'Sci-fi'",
          "'Shooter'",
          "'Simulation'",
          "'Singleplayer'",
          "'Souls-like'",
          "'Space'",
          "'Story Rich'",
          "'Strategy RPG']",
          "'Strategy'",
          "'Survival'",
          "'Swordplay'",
          "'Tactical'",
          "'Team-Based'",
          "'Third Person'",
          "'Third Person']",
          "'Third-Person Shooter'",
          "'Trading'",
          "'Turn-Based Strategy'",
          "'Violent'",
          "'Violent']",
          "'War'",
          "'Wargame'",
          "'eSports'",
          "['Battle Royale'",
          "['Casual'",
          "['FPS'",
          "['Free to Play'",
          "['Mythology'",
          "['Open World'",
          "['Souls-like'",
          "['Strategy'",
          "['Survival'",
          "['Warhammer 40K'"
         ],
         "legendgroup": "",
         "marker": {
          "color": [
           1,
           4,
           1,
           3,
           12,
           3,
           1,
           5,
           1,
           5,
           1,
           1,
           1,
           4,
           1,
           1,
           10,
           1,
           1,
           1,
           1,
           1,
           1,
           1,
           3,
           3,
           1,
           1,
           1,
           1,
           1,
           4,
           1,
           1,
           2,
           4,
           2,
           3,
           1,
           1,
           1,
           1,
           1,
           2,
           3,
           1,
           1,
           1,
           1,
           1,
           1,
           1,
           2,
           1,
           1,
           2,
           3,
           2,
           2,
           1,
           10,
           1,
           1,
           1,
           5,
           1,
           2,
           2,
           1,
           1,
           1,
           1,
           2,
           7,
           4,
           1,
           1,
           1,
           3,
           1,
           3,
           6,
           1,
           8,
           1,
           2,
           3,
           1,
           2,
           2,
           1,
           4,
           3,
           6,
           1,
           4,
           1,
           1,
           3,
           1,
           4,
           1,
           1,
           1,
           1,
           2,
           2,
           1,
           1,
           1,
           1,
           1,
           1
          ],
          "coloraxis": "coloraxis",
          "line": {
           "color": "DarkSlateGrey",
           "width": 1
          },
          "opacity": 0.7,
          "size": [
           0.05405405405405406,
           1.4431372549019608,
           0.05405405405405406,
           0.6021116138763197,
           2.673234078349168,
           1.2666666666666666,
           0.05405405405405406,
           1.4740245261984393,
           0.07692307692307693,
           0.7989688629074818,
           0.13043478260869565,
           0.13333333333333333,
           0.11764705882352941,
           0.4633484162895927,
           0.8,
           0.11764705882352941,
           2.2629776680927574,
           0.1111111111111111,
           0.3333333333333333,
           0.13043478260869565,
           0.6,
           0.13043478260869565,
           0.05405405405405406,
           0.11764705882352941,
           0.6209150326797386,
           1.1098039215686273,
           0.3333333333333333,
           0.1111111111111111,
           0.11764705882352941,
           0.05405405405405406,
           0.1764705882352941,
           1.4209150326797384,
           0.6,
           0.07692307692307693,
           0.13097713097713098,
           0.8957008890512727,
           0.21025641025641026,
           0.3021358954862791,
           0.8,
           0.1111111111111111,
           0.047619047619047616,
           0.07692307692307693,
           0.1111111111111111,
           0.3069053708439897,
           0.5025641025641026,
           0.11764705882352941,
           0.13333333333333333,
           0.05405405405405406,
           0.05405405405405406,
           0.05405405405405406,
           0.11764705882352941,
           0.0923076923076923,
           0.2099547511312217,
           0.13333333333333333,
           0.07692307692307693,
           0.16923076923076924,
           0.2549769071508202,
           0.6476190476190475,
           0.7304347826086957,
           0.047619047619047616,
           2.247593052708142,
           0.3333333333333333,
           0.8,
           0.0923076923076923,
           0.9704513822160881,
           0.1111111111111111,
           0.30980392156862746,
           0.16923076923076924,
           0.05405405405405406,
           0.05405405405405406,
           0.05405405405405406,
           0.13333333333333333,
           0.8923076923076924,
           1.269539222480399,
           0.735444947209653,
           0.1111111111111111,
           0.13043478260869565,
           0.1111111111111111,
           1.4476190476190476,
           0.13043478260869565,
           1.0099547511312217,
           1.1213419146922983,
           0.13333333333333333,
           1.8246098885485074,
           0.3333333333333333,
           0.8923076923076924,
           0.49206349206349204,
           0.13333333333333333,
           0.7333333333333333,
           0.19457013574660634,
           0.07692307692307693,
           0.8763772175536881,
           0.7717011128775835,
           1.6094694734080923,
           0.047619047619047616,
           1.0703615225354355,
           0.6,
           0.1111111111111111,
           0.30101271277741865,
           0.3333333333333333,
           1.5587301587301587,
           0.8,
           0.6,
           0.07692307692307693,
           0.05405405405405406,
           0.6476190476190475,
           0.2099547511312217,
           0.3333333333333333,
           0.13043478260869565,
           0.1764705882352941,
           0.1111111111111111,
           0.13333333333333333,
           0.8
          ],
          "sizemode": "area",
          "sizeref": 0.002970260087054631,
          "symbol": "circle"
         },
         "mode": "markers",
         "name": "",
         "orientation": "h",
         "showlegend": false,
         "type": "scatter",
         "x": [
          0.08755427573691972,
          0.06588355358817015,
          0.08755427573691972,
          0.07380628502318651,
          0.059403900789281976,
          0.0663399413949251,
          0.08755427573691972,
          0.0628573167224167,
          0.0692059081020027,
          0.04640067228637933,
          0.046060851325305525,
          0.07015659702029968,
          0.055075498129264294,
          0.06946102298592827,
          0.06100705780736219,
          0.055075498129264294,
          0.057578473201226756,
          0.046075215955555054,
          0.06785616935711346,
          0.046060851325305525,
          0.048795815699097696,
          0.046060851325305525,
          0.08755427573691972,
          0.055075498129264294,
          0.05948192516019126,
          0.060388791741372135,
          0.06785616935711346,
          0.046075215955555054,
          0.055075498129264294,
          0.08755427573691972,
          0.06451439016790526,
          0.05986320832198399,
          0.048795815699097696,
          0.0692059081020027,
          0.07838009191946121,
          0.039357224944921214,
          0.06968125256115118,
          0.06289687506382985,
          0.06100705780736219,
          0.046075215955555054,
          0.007496734626017334,
          0.0692059081020027,
          0.046075215955555054,
          0.0552876207466054,
          0.07537012433455231,
          0.055075498129264294,
          0.07015659702029968,
          0.08755427573691972,
          0.08755427573691972,
          0.08755427573691972,
          0.055075498129264294,
          0.0890482955445408,
          0.07206189683690255,
          0.07015659702029968,
          0.0692059081020027,
          0.07912710182327175,
          0.04092116468444185,
          0.028146275162557514,
          0.04742833351220161,
          0.007496734626017334,
          0.055594234456972945,
          0.06785616935711346,
          0.06100705780736219,
          0.0890482955445408,
          0.059481902354896164,
          0.046075215955555054,
          0.06733549359410247,
          0.07912710182327175,
          0.08755427573691972,
          0.08755427573691972,
          0.08755427573691972,
          0.07015659702029968,
          0.07502767667595149,
          0.06305395725872062,
          0.0728938630224648,
          0.046075215955555054,
          0.046060851325305525,
          0.046075215955555054,
          0.03909986937749241,
          0.046060851325305525,
          0.06837695049372243,
          0.052772298724087556,
          0.07015659702029968,
          0.05652691397551241,
          0.06785616935711346,
          0.07502767667595149,
          0.04047603997956195,
          0.07015659702029968,
          0.05947620635969869,
          0.062140703115633494,
          0.0692059081020027,
          0.0393608161024836,
          0.0638085298550939,
          0.06628211205070499,
          0.007496734626017334,
          0.050903234825806463,
          0.048795815699097696,
          0.046075215955555054,
          0.047072344298641766,
          0.06785616935711346,
          0.04084370602200807,
          0.06100705780736219,
          0.048795815699097696,
          0.0692059081020027,
          0.08755427573691972,
          0.028146275162557514,
          0.07206189683690255,
          0.06785616935711346,
          0.046060851325305525,
          0.06451439016790526,
          0.046075215955555054,
          0.07015659702029968,
          0.06100705780736219
         ],
         "xaxis": "x",
         "y": [
          "'3D Fighter'",
          "'3D'",
          "'4 Player Local'",
          "'Action RPG'",
          "'Action'",
          "'Action-Adventure'",
          "'Action-Adventure']",
          "'Adventure'",
          "'Anime'",
          "'Atmospheric'",
          "'Automobile Sim'",
          "'Base Building'",
          "'Battle Royale'",
          "'Character Customization'",
          "'Cinematic'",
          "'Cinematic']",
          "'Co-op'",
          "'Colorful'",
          "'Combat'",
          "'Comedy'",
          "'Competitive'",
          "'Crime'",
          "'Cute'",
          "'Cyberpunk'",
          "'Dark Fantasy'",
          "'Difficult'",
          "'Drama'",
          "'Dwarf'",
          "'FPS'",
          "'Family Friendly'",
          "'Family Friendly']",
          "'Fantasy'",
          "'Fast-Paced'",
          "'Female Protagonist'",
          "'Fighting'",
          "'First-Person'",
          "'Free to Play'",
          "'Funny'",
          "'Futuristic']",
          "'Games Workshop'",
          "'Gore'",
          "'Gore']",
          "'Grand Strategy'",
          "'Great Soundtrack'",
          "'Hack and Slash'",
          "'Hero Shooter'",
          "'Horror'",
          "'Indie'",
          "'Local Co-Op'",
          "'Local Multiplayer'",
          "'Loot'",
          "'Looter Shooter'",
          "'Lore-Rich'",
          "'MMORPG'",
          "'Martial Arts'",
          "'Massively Multiplayer'",
          "'Mature'",
          "'Military'",
          "'Moddable']",
          "'Modern'",
          "'Multiplayer'",
          "'Music'",
          "'Narration'",
          "'Ninja']",
          "'Online Co-Op'",
          "'Online Co-Op']",
          "'Open World'",
          "'Parkour'",
          "'Party Game'",
          "'Party'",
          "'Physics'",
          "'Post-apocalyptic'",
          "'PvE'",
          "'PvP'",
          "'RPG'",
          "'RTS'",
          "'Racing'",
          "'Real Time Tactics'",
          "'Realistic'",
          "'Sandbox'",
          "'Sci-fi'",
          "'Shooter'",
          "'Simulation'",
          "'Singleplayer'",
          "'Souls-like'",
          "'Space'",
          "'Story Rich'",
          "'Strategy RPG']",
          "'Strategy'",
          "'Survival'",
          "'Swordplay'",
          "'Tactical'",
          "'Team-Based'",
          "'Third Person'",
          "'Third Person']",
          "'Third-Person Shooter'",
          "'Trading'",
          "'Turn-Based Strategy'",
          "'Violent'",
          "'Violent']",
          "'War'",
          "'Wargame'",
          "'eSports'",
          "['Battle Royale'",
          "['Casual'",
          "['FPS'",
          "['Free to Play'",
          "['Mythology'",
          "['Open World'",
          "['Souls-like'",
          "['Strategy'",
          "['Survival'",
          "['Warhammer 40K'"
         ],
         "yaxis": "y"
        }
       ],
       "layout": {
        "coloraxis": {
         "colorbar": {
          "title": {
           "text": "game_count"
          }
         },
         "colorscale": [
          [
           0,
           "#0d0887"
          ],
          [
           0.1111111111111111,
           "#46039f"
          ],
          [
           0.2222222222222222,
           "#7201a8"
          ],
          [
           0.3333333333333333,
           "#9c179e"
          ],
          [
           0.4444444444444444,
           "#bd3786"
          ],
          [
           0.5555555555555556,
           "#d8576b"
          ],
          [
           0.6666666666666666,
           "#ed7953"
          ],
          [
           0.7777777777777778,
           "#fb9f3a"
          ],
          [
           0.8888888888888888,
           "#fdca26"
          ],
          [
           1,
           "#f0f921"
          ]
         ]
        },
        "legend": {
         "itemsizing": "constant",
         "title": {
          "font": {
           "size": 14
          }
         },
         "tracegroupgap": 0
        },
        "template": {
         "data": {
          "bar": [
           {
            "error_x": {
             "color": "#f2f5fa"
            },
            "error_y": {
             "color": "#f2f5fa"
            },
            "marker": {
             "line": {
              "color": "rgb(17,17,17)",
              "width": 0.5
             },
             "pattern": {
              "fillmode": "overlay",
              "size": 10,
              "solidity": 0.2
             }
            },
            "type": "bar"
           }
          ],
          "barpolar": [
           {
            "marker": {
             "line": {
              "color": "rgb(17,17,17)",
              "width": 0.5
             },
             "pattern": {
              "fillmode": "overlay",
              "size": 10,
              "solidity": 0.2
             }
            },
            "type": "barpolar"
           }
          ],
          "carpet": [
           {
            "aaxis": {
             "endlinecolor": "#A2B1C6",
             "gridcolor": "#506784",
             "linecolor": "#506784",
             "minorgridcolor": "#506784",
             "startlinecolor": "#A2B1C6"
            },
            "baxis": {
             "endlinecolor": "#A2B1C6",
             "gridcolor": "#506784",
             "linecolor": "#506784",
             "minorgridcolor": "#506784",
             "startlinecolor": "#A2B1C6"
            },
            "type": "carpet"
           }
          ],
          "choropleth": [
           {
            "colorbar": {
             "outlinewidth": 0,
             "ticks": ""
            },
            "type": "choropleth"
           }
          ],
          "contour": [
           {
            "colorbar": {
             "outlinewidth": 0,
             "ticks": ""
            },
            "colorscale": [
             [
              0,
              "#0d0887"
             ],
             [
              0.1111111111111111,
              "#46039f"
             ],
             [
              0.2222222222222222,
              "#7201a8"
             ],
             [
              0.3333333333333333,
              "#9c179e"
             ],
             [
              0.4444444444444444,
              "#bd3786"
             ],
             [
              0.5555555555555556,
              "#d8576b"
             ],
             [
              0.6666666666666666,
              "#ed7953"
             ],
             [
              0.7777777777777778,
              "#fb9f3a"
             ],
             [
              0.8888888888888888,
              "#fdca26"
             ],
             [
              1,
              "#f0f921"
             ]
            ],
            "type": "contour"
           }
          ],
          "contourcarpet": [
           {
            "colorbar": {
             "outlinewidth": 0,
             "ticks": ""
            },
            "type": "contourcarpet"
           }
          ],
          "heatmap": [
           {
            "colorbar": {
             "outlinewidth": 0,
             "ticks": ""
            },
            "colorscale": [
             [
              0,
              "#0d0887"
             ],
             [
              0.1111111111111111,
              "#46039f"
             ],
             [
              0.2222222222222222,
              "#7201a8"
             ],
             [
              0.3333333333333333,
              "#9c179e"
             ],
             [
              0.4444444444444444,
              "#bd3786"
             ],
             [
              0.5555555555555556,
              "#d8576b"
             ],
             [
              0.6666666666666666,
              "#ed7953"
             ],
             [
              0.7777777777777778,
              "#fb9f3a"
             ],
             [
              0.8888888888888888,
              "#fdca26"
             ],
             [
              1,
              "#f0f921"
             ]
            ],
            "type": "heatmap"
           }
          ],
          "heatmapgl": [
           {
            "colorbar": {
             "outlinewidth": 0,
             "ticks": ""
            },
            "colorscale": [
             [
              0,
              "#0d0887"
             ],
             [
              0.1111111111111111,
              "#46039f"
             ],
             [
              0.2222222222222222,
              "#7201a8"
             ],
             [
              0.3333333333333333,
              "#9c179e"
             ],
             [
              0.4444444444444444,
              "#bd3786"
             ],
             [
              0.5555555555555556,
              "#d8576b"
             ],
             [
              0.6666666666666666,
              "#ed7953"
             ],
             [
              0.7777777777777778,
              "#fb9f3a"
             ],
             [
              0.8888888888888888,
              "#fdca26"
             ],
             [
              1,
              "#f0f921"
             ]
            ],
            "type": "heatmapgl"
           }
          ],
          "histogram": [
           {
            "marker": {
             "pattern": {
              "fillmode": "overlay",
              "size": 10,
              "solidity": 0.2
             }
            },
            "type": "histogram"
           }
          ],
          "histogram2d": [
           {
            "colorbar": {
             "outlinewidth": 0,
             "ticks": ""
            },
            "colorscale": [
             [
              0,
              "#0d0887"
             ],
             [
              0.1111111111111111,
              "#46039f"
             ],
             [
              0.2222222222222222,
              "#7201a8"
             ],
             [
              0.3333333333333333,
              "#9c179e"
             ],
             [
              0.4444444444444444,
              "#bd3786"
             ],
             [
              0.5555555555555556,
              "#d8576b"
             ],
             [
              0.6666666666666666,
              "#ed7953"
             ],
             [
              0.7777777777777778,
              "#fb9f3a"
             ],
             [
              0.8888888888888888,
              "#fdca26"
             ],
             [
              1,
              "#f0f921"
             ]
            ],
            "type": "histogram2d"
           }
          ],
          "histogram2dcontour": [
           {
            "colorbar": {
             "outlinewidth": 0,
             "ticks": ""
            },
            "colorscale": [
             [
              0,
              "#0d0887"
             ],
             [
              0.1111111111111111,
              "#46039f"
             ],
             [
              0.2222222222222222,
              "#7201a8"
             ],
             [
              0.3333333333333333,
              "#9c179e"
             ],
             [
              0.4444444444444444,
              "#bd3786"
             ],
             [
              0.5555555555555556,
              "#d8576b"
             ],
             [
              0.6666666666666666,
              "#ed7953"
             ],
             [
              0.7777777777777778,
              "#fb9f3a"
             ],
             [
              0.8888888888888888,
              "#fdca26"
             ],
             [
              1,
              "#f0f921"
             ]
            ],
            "type": "histogram2dcontour"
           }
          ],
          "mesh3d": [
           {
            "colorbar": {
             "outlinewidth": 0,
             "ticks": ""
            },
            "type": "mesh3d"
           }
          ],
          "parcoords": [
           {
            "line": {
             "colorbar": {
              "outlinewidth": 0,
              "ticks": ""
             }
            },
            "type": "parcoords"
           }
          ],
          "pie": [
           {
            "automargin": true,
            "type": "pie"
           }
          ],
          "scatter": [
           {
            "marker": {
             "line": {
              "color": "#283442"
             }
            },
            "type": "scatter"
           }
          ],
          "scatter3d": [
           {
            "line": {
             "colorbar": {
              "outlinewidth": 0,
              "ticks": ""
             }
            },
            "marker": {
             "colorbar": {
              "outlinewidth": 0,
              "ticks": ""
             }
            },
            "type": "scatter3d"
           }
          ],
          "scattercarpet": [
           {
            "marker": {
             "colorbar": {
              "outlinewidth": 0,
              "ticks": ""
             }
            },
            "type": "scattercarpet"
           }
          ],
          "scattergeo": [
           {
            "marker": {
             "colorbar": {
              "outlinewidth": 0,
              "ticks": ""
             }
            },
            "type": "scattergeo"
           }
          ],
          "scattergl": [
           {
            "marker": {
             "line": {
              "color": "#283442"
             }
            },
            "type": "scattergl"
           }
          ],
          "scattermapbox": [
           {
            "marker": {
             "colorbar": {
              "outlinewidth": 0,
              "ticks": ""
             }
            },
            "type": "scattermapbox"
           }
          ],
          "scatterpolar": [
           {
            "marker": {
             "colorbar": {
              "outlinewidth": 0,
              "ticks": ""
             }
            },
            "type": "scatterpolar"
           }
          ],
          "scatterpolargl": [
           {
            "marker": {
             "colorbar": {
              "outlinewidth": 0,
              "ticks": ""
             }
            },
            "type": "scatterpolargl"
           }
          ],
          "scatterternary": [
           {
            "marker": {
             "colorbar": {
              "outlinewidth": 0,
              "ticks": ""
             }
            },
            "type": "scatterternary"
           }
          ],
          "surface": [
           {
            "colorbar": {
             "outlinewidth": 0,
             "ticks": ""
            },
            "colorscale": [
             [
              0,
              "#0d0887"
             ],
             [
              0.1111111111111111,
              "#46039f"
             ],
             [
              0.2222222222222222,
              "#7201a8"
             ],
             [
              0.3333333333333333,
              "#9c179e"
             ],
             [
              0.4444444444444444,
              "#bd3786"
             ],
             [
              0.5555555555555556,
              "#d8576b"
             ],
             [
              0.6666666666666666,
              "#ed7953"
             ],
             [
              0.7777777777777778,
              "#fb9f3a"
             ],
             [
              0.8888888888888888,
              "#fdca26"
             ],
             [
              1,
              "#f0f921"
             ]
            ],
            "type": "surface"
           }
          ],
          "table": [
           {
            "cells": {
             "fill": {
              "color": "#506784"
             },
             "line": {
              "color": "rgb(17,17,17)"
             }
            },
            "header": {
             "fill": {
              "color": "#2a3f5f"
             },
             "line": {
              "color": "rgb(17,17,17)"
             }
            },
            "type": "table"
           }
          ]
         },
         "layout": {
          "annotationdefaults": {
           "arrowcolor": "#f2f5fa",
           "arrowhead": 0,
           "arrowwidth": 1
          },
          "autotypenumbers": "strict",
          "coloraxis": {
           "colorbar": {
            "outlinewidth": 0,
            "ticks": ""
           }
          },
          "colorscale": {
           "diverging": [
            [
             0,
             "#8e0152"
            ],
            [
             0.1,
             "#c51b7d"
            ],
            [
             0.2,
             "#de77ae"
            ],
            [
             0.3,
             "#f1b6da"
            ],
            [
             0.4,
             "#fde0ef"
            ],
            [
             0.5,
             "#f7f7f7"
            ],
            [
             0.6,
             "#e6f5d0"
            ],
            [
             0.7,
             "#b8e186"
            ],
            [
             0.8,
             "#7fbc41"
            ],
            [
             0.9,
             "#4d9221"
            ],
            [
             1,
             "#276419"
            ]
           ],
           "sequential": [
            [
             0,
             "#0d0887"
            ],
            [
             0.1111111111111111,
             "#46039f"
            ],
            [
             0.2222222222222222,
             "#7201a8"
            ],
            [
             0.3333333333333333,
             "#9c179e"
            ],
            [
             0.4444444444444444,
             "#bd3786"
            ],
            [
             0.5555555555555556,
             "#d8576b"
            ],
            [
             0.6666666666666666,
             "#ed7953"
            ],
            [
             0.7777777777777778,
             "#fb9f3a"
            ],
            [
             0.8888888888888888,
             "#fdca26"
            ],
            [
             1,
             "#f0f921"
            ]
           ],
           "sequentialminus": [
            [
             0,
             "#0d0887"
            ],
            [
             0.1111111111111111,
             "#46039f"
            ],
            [
             0.2222222222222222,
             "#7201a8"
            ],
            [
             0.3333333333333333,
             "#9c179e"
            ],
            [
             0.4444444444444444,
             "#bd3786"
            ],
            [
             0.5555555555555556,
             "#d8576b"
            ],
            [
             0.6666666666666666,
             "#ed7953"
            ],
            [
             0.7777777777777778,
             "#fb9f3a"
            ],
            [
             0.8888888888888888,
             "#fdca26"
            ],
            [
             1,
             "#f0f921"
            ]
           ]
          },
          "colorway": [
           "#636efa",
           "#EF553B",
           "#00cc96",
           "#ab63fa",
           "#FFA15A",
           "#19d3f3",
           "#FF6692",
           "#B6E880",
           "#FF97FF",
           "#FECB52"
          ],
          "font": {
           "color": "#f2f5fa"
          },
          "geo": {
           "bgcolor": "rgb(17,17,17)",
           "lakecolor": "rgb(17,17,17)",
           "landcolor": "rgb(17,17,17)",
           "showlakes": true,
           "showland": true,
           "subunitcolor": "#506784"
          },
          "hoverlabel": {
           "align": "left"
          },
          "hovermode": "closest",
          "mapbox": {
           "style": "dark"
          },
          "paper_bgcolor": "rgb(17,17,17)",
          "plot_bgcolor": "rgb(17,17,17)",
          "polar": {
           "angularaxis": {
            "gridcolor": "#506784",
            "linecolor": "#506784",
            "ticks": ""
           },
           "bgcolor": "rgb(17,17,17)",
           "radialaxis": {
            "gridcolor": "#506784",
            "linecolor": "#506784",
            "ticks": ""
           }
          },
          "scene": {
           "xaxis": {
            "backgroundcolor": "rgb(17,17,17)",
            "gridcolor": "#506784",
            "gridwidth": 2,
            "linecolor": "#506784",
            "showbackground": true,
            "ticks": "",
            "zerolinecolor": "#C8D4E3"
           },
           "yaxis": {
            "backgroundcolor": "rgb(17,17,17)",
            "gridcolor": "#506784",
            "gridwidth": 2,
            "linecolor": "#506784",
            "showbackground": true,
            "ticks": "",
            "zerolinecolor": "#C8D4E3"
           },
           "zaxis": {
            "backgroundcolor": "rgb(17,17,17)",
            "gridcolor": "#506784",
            "gridwidth": 2,
            "linecolor": "#506784",
            "showbackground": true,
            "ticks": "",
            "zerolinecolor": "#C8D4E3"
           }
          },
          "shapedefaults": {
           "line": {
            "color": "#f2f5fa"
           }
          },
          "sliderdefaults": {
           "bgcolor": "#C8D4E3",
           "bordercolor": "rgb(17,17,17)",
           "borderwidth": 1,
           "tickwidth": 0
          },
          "ternary": {
           "aaxis": {
            "gridcolor": "#506784",
            "linecolor": "#506784",
            "ticks": ""
           },
           "baxis": {
            "gridcolor": "#506784",
            "linecolor": "#506784",
            "ticks": ""
           },
           "bgcolor": "rgb(17,17,17)",
           "caxis": {
            "gridcolor": "#506784",
            "linecolor": "#506784",
            "ticks": ""
           }
          },
          "title": {
           "x": 0.05
          },
          "updatemenudefaults": {
           "bgcolor": "#506784",
           "borderwidth": 0
          },
          "xaxis": {
           "automargin": true,
           "gridcolor": "#283442",
           "linecolor": "#506784",
           "ticks": "",
           "title": {
            "standoff": 15
           },
           "zerolinecolor": "#283442",
           "zerolinewidth": 2
          },
          "yaxis": {
           "automargin": true,
           "gridcolor": "#283442",
           "linecolor": "#506784",
           "ticks": "",
           "title": {
            "standoff": 15
           },
           "zerolinecolor": "#283442",
           "zerolinewidth": 2
          }
         }
        },
        "title": {
         "font": {
          "size": 20
         },
         "text": "Interactive Genre vs. Average Recommendation Score"
        },
        "xaxis": {
         "anchor": "y",
         "domain": [
          0,
          1
         ],
         "tickfont": {
          "size": 12
         },
         "title": {
          "font": {
           "size": 14
          },
          "text": "Average Recommendation Score"
         }
        },
        "yaxis": {
         "anchor": "x",
         "domain": [
          0,
          1
         ],
         "tickfont": {
          "size": 12
         },
         "title": {
          "font": {
           "size": 14
          },
          "text": "Genres"
         }
        }
       }
      },
      "text/html": [
       "<div>                            <div id=\"b80e08d1-df67-43d4-98d1-c2e49782d869\" class=\"plotly-graph-div\" style=\"height:525px; width:100%;\"></div>            <script type=\"text/javascript\">                require([\"plotly\"], function(Plotly) {                    window.PLOTLYENV=window.PLOTLYENV || {};                                    if (document.getElementById(\"b80e08d1-df67-43d4-98d1-c2e49782d869\")) {                    Plotly.newPlot(                        \"b80e08d1-df67-43d4-98d1-c2e49782d869\",                        [{\"customdata\":[[0.05405405405405406,1.0],[1.4431372549019608,4.0],[0.05405405405405406,1.0],[0.6021116138763197,3.0],[2.673234078349168,12.0],[1.2666666666666666,3.0],[0.05405405405405406,1.0],[1.4740245261984393,5.0],[0.07692307692307693,1.0],[0.7989688629074818,5.0],[0.13043478260869565,1.0],[0.13333333333333333,1.0],[0.11764705882352941,1.0],[0.4633484162895927,4.0],[0.8,1.0],[0.11764705882352941,1.0],[2.2629776680927574,10.0],[0.1111111111111111,1.0],[0.3333333333333333,1.0],[0.13043478260869565,1.0],[0.6,1.0],[0.13043478260869565,1.0],[0.05405405405405406,1.0],[0.11764705882352941,1.0],[0.6209150326797386,3.0],[1.1098039215686273,3.0],[0.3333333333333333,1.0],[0.1111111111111111,1.0],[0.11764705882352941,1.0],[0.05405405405405406,1.0],[0.1764705882352941,1.0],[1.4209150326797384,4.0],[0.6,1.0],[0.07692307692307693,1.0],[0.13097713097713098,2.0],[0.8957008890512727,4.0],[0.21025641025641026,2.0],[0.3021358954862791,3.0],[0.8,1.0],[0.1111111111111111,1.0],[0.047619047619047616,1.0],[0.07692307692307693,1.0],[0.1111111111111111,1.0],[0.3069053708439897,2.0],[0.5025641025641026,3.0],[0.11764705882352941,1.0],[0.13333333333333333,1.0],[0.05405405405405406,1.0],[0.05405405405405406,1.0],[0.05405405405405406,1.0],[0.11764705882352941,1.0],[0.0923076923076923,1.0],[0.2099547511312217,2.0],[0.13333333333333333,1.0],[0.07692307692307693,1.0],[0.16923076923076924,2.0],[0.2549769071508202,3.0],[0.6476190476190475,2.0],[0.7304347826086957,2.0],[0.047619047619047616,1.0],[2.247593052708142,10.0],[0.3333333333333333,1.0],[0.8,1.0],[0.0923076923076923,1.0],[0.9704513822160881,5.0],[0.1111111111111111,1.0],[0.30980392156862746,2.0],[0.16923076923076924,2.0],[0.05405405405405406,1.0],[0.05405405405405406,1.0],[0.05405405405405406,1.0],[0.13333333333333333,1.0],[0.8923076923076924,2.0],[1.269539222480399,7.0],[0.735444947209653,4.0],[0.1111111111111111,1.0],[0.13043478260869565,1.0],[0.1111111111111111,1.0],[1.4476190476190476,3.0],[0.13043478260869565,1.0],[1.0099547511312217,3.0],[1.1213419146922983,6.0],[0.13333333333333333,1.0],[1.8246098885485074,8.0],[0.3333333333333333,1.0],[0.8923076923076924,2.0],[0.49206349206349204,3.0],[0.13333333333333333,1.0],[0.7333333333333333,2.0],[0.19457013574660634,2.0],[0.07692307692307693,1.0],[0.8763772175536881,4.0],[0.7717011128775835,3.0],[1.6094694734080923,6.0],[0.047619047619047616,1.0],[1.0703615225354355,4.0],[0.6,1.0],[0.1111111111111111,1.0],[0.30101271277741865,3.0],[0.3333333333333333,1.0],[1.5587301587301587,4.0],[0.8,1.0],[0.6,1.0],[0.07692307692307693,1.0],[0.05405405405405406,1.0],[0.6476190476190475,2.0],[0.2099547511312217,2.0],[0.3333333333333333,1.0],[0.13043478260869565,1.0],[0.1764705882352941,1.0],[0.1111111111111111,1.0],[0.13333333333333333,1.0],[0.8,1.0]],\"hovertemplate\":\"\\u003cb\\u003e%{hovertext}\\u003c\\u002fb\\u003e\\u003cbr\\u003e\\u003cbr\\u003eAverage Recommendation Score=%{x}\\u003cbr\\u003eGenres=%{y}\\u003cbr\\u003epopularity_score=%{customdata[0]}\\u003cbr\\u003egame_count=%{marker.color}\\u003cextra\\u003e\\u003c\\u002fextra\\u003e\",\"hovertext\":[\"'3D Fighter'\",\"'3D'\",\"'4 Player Local'\",\"'Action RPG'\",\"'Action'\",\"'Action-Adventure'\",\"'Action-Adventure']\",\"'Adventure'\",\"'Anime'\",\"'Atmospheric'\",\"'Automobile Sim'\",\"'Base Building'\",\"'Battle Royale'\",\"'Character Customization'\",\"'Cinematic'\",\"'Cinematic']\",\"'Co-op'\",\"'Colorful'\",\"'Combat'\",\"'Comedy'\",\"'Competitive'\",\"'Crime'\",\"'Cute'\",\"'Cyberpunk'\",\"'Dark Fantasy'\",\"'Difficult'\",\"'Drama'\",\"'Dwarf'\",\"'FPS'\",\"'Family Friendly'\",\"'Family Friendly']\",\"'Fantasy'\",\"'Fast-Paced'\",\"'Female Protagonist'\",\"'Fighting'\",\"'First-Person'\",\"'Free to Play'\",\"'Funny'\",\"'Futuristic']\",\"'Games Workshop'\",\"'Gore'\",\"'Gore']\",\"'Grand Strategy'\",\"'Great Soundtrack'\",\"'Hack and Slash'\",\"'Hero Shooter'\",\"'Horror'\",\"'Indie'\",\"'Local Co-Op'\",\"'Local Multiplayer'\",\"'Loot'\",\"'Looter Shooter'\",\"'Lore-Rich'\",\"'MMORPG'\",\"'Martial Arts'\",\"'Massively Multiplayer'\",\"'Mature'\",\"'Military'\",\"'Moddable']\",\"'Modern'\",\"'Multiplayer'\",\"'Music'\",\"'Narration'\",\"'Ninja']\",\"'Online Co-Op'\",\"'Online Co-Op']\",\"'Open World'\",\"'Parkour'\",\"'Party Game'\",\"'Party'\",\"'Physics'\",\"'Post-apocalyptic'\",\"'PvE'\",\"'PvP'\",\"'RPG'\",\"'RTS'\",\"'Racing'\",\"'Real Time Tactics'\",\"'Realistic'\",\"'Sandbox'\",\"'Sci-fi'\",\"'Shooter'\",\"'Simulation'\",\"'Singleplayer'\",\"'Souls-like'\",\"'Space'\",\"'Story Rich'\",\"'Strategy RPG']\",\"'Strategy'\",\"'Survival'\",\"'Swordplay'\",\"'Tactical'\",\"'Team-Based'\",\"'Third Person'\",\"'Third Person']\",\"'Third-Person Shooter'\",\"'Trading'\",\"'Turn-Based Strategy'\",\"'Violent'\",\"'Violent']\",\"'War'\",\"'Wargame'\",\"'eSports'\",\"['Battle Royale'\",\"['Casual'\",\"['FPS'\",\"['Free to Play'\",\"['Mythology'\",\"['Open World'\",\"['Souls-like'\",\"['Strategy'\",\"['Survival'\",\"['Warhammer 40K'\"],\"legendgroup\":\"\",\"marker\":{\"color\":[1,4,1,3,12,3,1,5,1,5,1,1,1,4,1,1,10,1,1,1,1,1,1,1,3,3,1,1,1,1,1,4,1,1,2,4,2,3,1,1,1,1,1,2,3,1,1,1,1,1,1,1,2,1,1,2,3,2,2,1,10,1,1,1,5,1,2,2,1,1,1,1,2,7,4,1,1,1,3,1,3,6,1,8,1,2,3,1,2,2,1,4,3,6,1,4,1,1,3,1,4,1,1,1,1,2,2,1,1,1,1,1,1],\"coloraxis\":\"coloraxis\",\"size\":[0.05405405405405406,1.4431372549019608,0.05405405405405406,0.6021116138763197,2.673234078349168,1.2666666666666666,0.05405405405405406,1.4740245261984393,0.07692307692307693,0.7989688629074818,0.13043478260869565,0.13333333333333333,0.11764705882352941,0.4633484162895927,0.8,0.11764705882352941,2.2629776680927574,0.1111111111111111,0.3333333333333333,0.13043478260869565,0.6,0.13043478260869565,0.05405405405405406,0.11764705882352941,0.6209150326797386,1.1098039215686273,0.3333333333333333,0.1111111111111111,0.11764705882352941,0.05405405405405406,0.1764705882352941,1.4209150326797384,0.6,0.07692307692307693,0.13097713097713098,0.8957008890512727,0.21025641025641026,0.3021358954862791,0.8,0.1111111111111111,0.047619047619047616,0.07692307692307693,0.1111111111111111,0.3069053708439897,0.5025641025641026,0.11764705882352941,0.13333333333333333,0.05405405405405406,0.05405405405405406,0.05405405405405406,0.11764705882352941,0.0923076923076923,0.2099547511312217,0.13333333333333333,0.07692307692307693,0.16923076923076924,0.2549769071508202,0.6476190476190475,0.7304347826086957,0.047619047619047616,2.247593052708142,0.3333333333333333,0.8,0.0923076923076923,0.9704513822160881,0.1111111111111111,0.30980392156862746,0.16923076923076924,0.05405405405405406,0.05405405405405406,0.05405405405405406,0.13333333333333333,0.8923076923076924,1.269539222480399,0.735444947209653,0.1111111111111111,0.13043478260869565,0.1111111111111111,1.4476190476190476,0.13043478260869565,1.0099547511312217,1.1213419146922983,0.13333333333333333,1.8246098885485074,0.3333333333333333,0.8923076923076924,0.49206349206349204,0.13333333333333333,0.7333333333333333,0.19457013574660634,0.07692307692307693,0.8763772175536881,0.7717011128775835,1.6094694734080923,0.047619047619047616,1.0703615225354355,0.6,0.1111111111111111,0.30101271277741865,0.3333333333333333,1.5587301587301587,0.8,0.6,0.07692307692307693,0.05405405405405406,0.6476190476190475,0.2099547511312217,0.3333333333333333,0.13043478260869565,0.1764705882352941,0.1111111111111111,0.13333333333333333,0.8],\"sizemode\":\"area\",\"sizeref\":0.002970260087054631,\"symbol\":\"circle\",\"line\":{\"color\":\"DarkSlateGrey\",\"width\":1},\"opacity\":0.7},\"mode\":\"markers\",\"name\":\"\",\"orientation\":\"h\",\"showlegend\":false,\"x\":[0.08755427573691972,0.06588355358817015,0.08755427573691972,0.07380628502318651,0.059403900789281976,0.0663399413949251,0.08755427573691972,0.0628573167224167,0.0692059081020027,0.04640067228637933,0.046060851325305525,0.07015659702029968,0.055075498129264294,0.06946102298592827,0.06100705780736219,0.055075498129264294,0.057578473201226756,0.046075215955555054,0.06785616935711346,0.046060851325305525,0.048795815699097696,0.046060851325305525,0.08755427573691972,0.055075498129264294,0.05948192516019126,0.060388791741372135,0.06785616935711346,0.046075215955555054,0.055075498129264294,0.08755427573691972,0.06451439016790526,0.05986320832198399,0.048795815699097696,0.0692059081020027,0.07838009191946121,0.039357224944921214,0.06968125256115118,0.06289687506382985,0.06100705780736219,0.046075215955555054,0.007496734626017334,0.0692059081020027,0.046075215955555054,0.0552876207466054,0.07537012433455231,0.055075498129264294,0.07015659702029968,0.08755427573691972,0.08755427573691972,0.08755427573691972,0.055075498129264294,0.0890482955445408,0.07206189683690255,0.07015659702029968,0.0692059081020027,0.07912710182327175,0.04092116468444185,0.028146275162557514,0.04742833351220161,0.007496734626017334,0.055594234456972945,0.06785616935711346,0.06100705780736219,0.0890482955445408,0.059481902354896164,0.046075215955555054,0.06733549359410247,0.07912710182327175,0.08755427573691972,0.08755427573691972,0.08755427573691972,0.07015659702029968,0.07502767667595149,0.06305395725872062,0.0728938630224648,0.046075215955555054,0.046060851325305525,0.046075215955555054,0.03909986937749241,0.046060851325305525,0.06837695049372243,0.052772298724087556,0.07015659702029968,0.05652691397551241,0.06785616935711346,0.07502767667595149,0.04047603997956195,0.07015659702029968,0.05947620635969869,0.062140703115633494,0.0692059081020027,0.0393608161024836,0.0638085298550939,0.06628211205070499,0.007496734626017334,0.050903234825806463,0.048795815699097696,0.046075215955555054,0.047072344298641766,0.06785616935711346,0.04084370602200807,0.06100705780736219,0.048795815699097696,0.0692059081020027,0.08755427573691972,0.028146275162557514,0.07206189683690255,0.06785616935711346,0.046060851325305525,0.06451439016790526,0.046075215955555054,0.07015659702029968,0.06100705780736219],\"xaxis\":\"x\",\"y\":[\"'3D Fighter'\",\"'3D'\",\"'4 Player Local'\",\"'Action RPG'\",\"'Action'\",\"'Action-Adventure'\",\"'Action-Adventure']\",\"'Adventure'\",\"'Anime'\",\"'Atmospheric'\",\"'Automobile Sim'\",\"'Base Building'\",\"'Battle Royale'\",\"'Character Customization'\",\"'Cinematic'\",\"'Cinematic']\",\"'Co-op'\",\"'Colorful'\",\"'Combat'\",\"'Comedy'\",\"'Competitive'\",\"'Crime'\",\"'Cute'\",\"'Cyberpunk'\",\"'Dark Fantasy'\",\"'Difficult'\",\"'Drama'\",\"'Dwarf'\",\"'FPS'\",\"'Family Friendly'\",\"'Family Friendly']\",\"'Fantasy'\",\"'Fast-Paced'\",\"'Female Protagonist'\",\"'Fighting'\",\"'First-Person'\",\"'Free to Play'\",\"'Funny'\",\"'Futuristic']\",\"'Games Workshop'\",\"'Gore'\",\"'Gore']\",\"'Grand Strategy'\",\"'Great Soundtrack'\",\"'Hack and Slash'\",\"'Hero Shooter'\",\"'Horror'\",\"'Indie'\",\"'Local Co-Op'\",\"'Local Multiplayer'\",\"'Loot'\",\"'Looter Shooter'\",\"'Lore-Rich'\",\"'MMORPG'\",\"'Martial Arts'\",\"'Massively Multiplayer'\",\"'Mature'\",\"'Military'\",\"'Moddable']\",\"'Modern'\",\"'Multiplayer'\",\"'Music'\",\"'Narration'\",\"'Ninja']\",\"'Online Co-Op'\",\"'Online Co-Op']\",\"'Open World'\",\"'Parkour'\",\"'Party Game'\",\"'Party'\",\"'Physics'\",\"'Post-apocalyptic'\",\"'PvE'\",\"'PvP'\",\"'RPG'\",\"'RTS'\",\"'Racing'\",\"'Real Time Tactics'\",\"'Realistic'\",\"'Sandbox'\",\"'Sci-fi'\",\"'Shooter'\",\"'Simulation'\",\"'Singleplayer'\",\"'Souls-like'\",\"'Space'\",\"'Story Rich'\",\"'Strategy RPG']\",\"'Strategy'\",\"'Survival'\",\"'Swordplay'\",\"'Tactical'\",\"'Team-Based'\",\"'Third Person'\",\"'Third Person']\",\"'Third-Person Shooter'\",\"'Trading'\",\"'Turn-Based Strategy'\",\"'Violent'\",\"'Violent']\",\"'War'\",\"'Wargame'\",\"'eSports'\",\"['Battle Royale'\",\"['Casual'\",\"['FPS'\",\"['Free to Play'\",\"['Mythology'\",\"['Open World'\",\"['Souls-like'\",\"['Strategy'\",\"['Survival'\",\"['Warhammer 40K'\"],\"yaxis\":\"y\",\"type\":\"scatter\"}],                        {\"template\":{\"data\":{\"barpolar\":[{\"marker\":{\"line\":{\"color\":\"rgb(17,17,17)\",\"width\":0.5},\"pattern\":{\"fillmode\":\"overlay\",\"size\":10,\"solidity\":0.2}},\"type\":\"barpolar\"}],\"bar\":[{\"error_x\":{\"color\":\"#f2f5fa\"},\"error_y\":{\"color\":\"#f2f5fa\"},\"marker\":{\"line\":{\"color\":\"rgb(17,17,17)\",\"width\":0.5},\"pattern\":{\"fillmode\":\"overlay\",\"size\":10,\"solidity\":0.2}},\"type\":\"bar\"}],\"carpet\":[{\"aaxis\":{\"endlinecolor\":\"#A2B1C6\",\"gridcolor\":\"#506784\",\"linecolor\":\"#506784\",\"minorgridcolor\":\"#506784\",\"startlinecolor\":\"#A2B1C6\"},\"baxis\":{\"endlinecolor\":\"#A2B1C6\",\"gridcolor\":\"#506784\",\"linecolor\":\"#506784\",\"minorgridcolor\":\"#506784\",\"startlinecolor\":\"#A2B1C6\"},\"type\":\"carpet\"}],\"choropleth\":[{\"colorbar\":{\"outlinewidth\":0,\"ticks\":\"\"},\"type\":\"choropleth\"}],\"contourcarpet\":[{\"colorbar\":{\"outlinewidth\":0,\"ticks\":\"\"},\"type\":\"contourcarpet\"}],\"contour\":[{\"colorbar\":{\"outlinewidth\":0,\"ticks\":\"\"},\"colorscale\":[[0.0,\"#0d0887\"],[0.1111111111111111,\"#46039f\"],[0.2222222222222222,\"#7201a8\"],[0.3333333333333333,\"#9c179e\"],[0.4444444444444444,\"#bd3786\"],[0.5555555555555556,\"#d8576b\"],[0.6666666666666666,\"#ed7953\"],[0.7777777777777778,\"#fb9f3a\"],[0.8888888888888888,\"#fdca26\"],[1.0,\"#f0f921\"]],\"type\":\"contour\"}],\"heatmapgl\":[{\"colorbar\":{\"outlinewidth\":0,\"ticks\":\"\"},\"colorscale\":[[0.0,\"#0d0887\"],[0.1111111111111111,\"#46039f\"],[0.2222222222222222,\"#7201a8\"],[0.3333333333333333,\"#9c179e\"],[0.4444444444444444,\"#bd3786\"],[0.5555555555555556,\"#d8576b\"],[0.6666666666666666,\"#ed7953\"],[0.7777777777777778,\"#fb9f3a\"],[0.8888888888888888,\"#fdca26\"],[1.0,\"#f0f921\"]],\"type\":\"heatmapgl\"}],\"heatmap\":[{\"colorbar\":{\"outlinewidth\":0,\"ticks\":\"\"},\"colorscale\":[[0.0,\"#0d0887\"],[0.1111111111111111,\"#46039f\"],[0.2222222222222222,\"#7201a8\"],[0.3333333333333333,\"#9c179e\"],[0.4444444444444444,\"#bd3786\"],[0.5555555555555556,\"#d8576b\"],[0.6666666666666666,\"#ed7953\"],[0.7777777777777778,\"#fb9f3a\"],[0.8888888888888888,\"#fdca26\"],[1.0,\"#f0f921\"]],\"type\":\"heatmap\"}],\"histogram2dcontour\":[{\"colorbar\":{\"outlinewidth\":0,\"ticks\":\"\"},\"colorscale\":[[0.0,\"#0d0887\"],[0.1111111111111111,\"#46039f\"],[0.2222222222222222,\"#7201a8\"],[0.3333333333333333,\"#9c179e\"],[0.4444444444444444,\"#bd3786\"],[0.5555555555555556,\"#d8576b\"],[0.6666666666666666,\"#ed7953\"],[0.7777777777777778,\"#fb9f3a\"],[0.8888888888888888,\"#fdca26\"],[1.0,\"#f0f921\"]],\"type\":\"histogram2dcontour\"}],\"histogram2d\":[{\"colorbar\":{\"outlinewidth\":0,\"ticks\":\"\"},\"colorscale\":[[0.0,\"#0d0887\"],[0.1111111111111111,\"#46039f\"],[0.2222222222222222,\"#7201a8\"],[0.3333333333333333,\"#9c179e\"],[0.4444444444444444,\"#bd3786\"],[0.5555555555555556,\"#d8576b\"],[0.6666666666666666,\"#ed7953\"],[0.7777777777777778,\"#fb9f3a\"],[0.8888888888888888,\"#fdca26\"],[1.0,\"#f0f921\"]],\"type\":\"histogram2d\"}],\"histogram\":[{\"marker\":{\"pattern\":{\"fillmode\":\"overlay\",\"size\":10,\"solidity\":0.2}},\"type\":\"histogram\"}],\"mesh3d\":[{\"colorbar\":{\"outlinewidth\":0,\"ticks\":\"\"},\"type\":\"mesh3d\"}],\"parcoords\":[{\"line\":{\"colorbar\":{\"outlinewidth\":0,\"ticks\":\"\"}},\"type\":\"parcoords\"}],\"pie\":[{\"automargin\":true,\"type\":\"pie\"}],\"scatter3d\":[{\"line\":{\"colorbar\":{\"outlinewidth\":0,\"ticks\":\"\"}},\"marker\":{\"colorbar\":{\"outlinewidth\":0,\"ticks\":\"\"}},\"type\":\"scatter3d\"}],\"scattercarpet\":[{\"marker\":{\"colorbar\":{\"outlinewidth\":0,\"ticks\":\"\"}},\"type\":\"scattercarpet\"}],\"scattergeo\":[{\"marker\":{\"colorbar\":{\"outlinewidth\":0,\"ticks\":\"\"}},\"type\":\"scattergeo\"}],\"scattergl\":[{\"marker\":{\"line\":{\"color\":\"#283442\"}},\"type\":\"scattergl\"}],\"scattermapbox\":[{\"marker\":{\"colorbar\":{\"outlinewidth\":0,\"ticks\":\"\"}},\"type\":\"scattermapbox\"}],\"scatterpolargl\":[{\"marker\":{\"colorbar\":{\"outlinewidth\":0,\"ticks\":\"\"}},\"type\":\"scatterpolargl\"}],\"scatterpolar\":[{\"marker\":{\"colorbar\":{\"outlinewidth\":0,\"ticks\":\"\"}},\"type\":\"scatterpolar\"}],\"scatter\":[{\"marker\":{\"line\":{\"color\":\"#283442\"}},\"type\":\"scatter\"}],\"scatterternary\":[{\"marker\":{\"colorbar\":{\"outlinewidth\":0,\"ticks\":\"\"}},\"type\":\"scatterternary\"}],\"surface\":[{\"colorbar\":{\"outlinewidth\":0,\"ticks\":\"\"},\"colorscale\":[[0.0,\"#0d0887\"],[0.1111111111111111,\"#46039f\"],[0.2222222222222222,\"#7201a8\"],[0.3333333333333333,\"#9c179e\"],[0.4444444444444444,\"#bd3786\"],[0.5555555555555556,\"#d8576b\"],[0.6666666666666666,\"#ed7953\"],[0.7777777777777778,\"#fb9f3a\"],[0.8888888888888888,\"#fdca26\"],[1.0,\"#f0f921\"]],\"type\":\"surface\"}],\"table\":[{\"cells\":{\"fill\":{\"color\":\"#506784\"},\"line\":{\"color\":\"rgb(17,17,17)\"}},\"header\":{\"fill\":{\"color\":\"#2a3f5f\"},\"line\":{\"color\":\"rgb(17,17,17)\"}},\"type\":\"table\"}]},\"layout\":{\"annotationdefaults\":{\"arrowcolor\":\"#f2f5fa\",\"arrowhead\":0,\"arrowwidth\":1},\"autotypenumbers\":\"strict\",\"coloraxis\":{\"colorbar\":{\"outlinewidth\":0,\"ticks\":\"\"}},\"colorscale\":{\"diverging\":[[0,\"#8e0152\"],[0.1,\"#c51b7d\"],[0.2,\"#de77ae\"],[0.3,\"#f1b6da\"],[0.4,\"#fde0ef\"],[0.5,\"#f7f7f7\"],[0.6,\"#e6f5d0\"],[0.7,\"#b8e186\"],[0.8,\"#7fbc41\"],[0.9,\"#4d9221\"],[1,\"#276419\"]],\"sequential\":[[0.0,\"#0d0887\"],[0.1111111111111111,\"#46039f\"],[0.2222222222222222,\"#7201a8\"],[0.3333333333333333,\"#9c179e\"],[0.4444444444444444,\"#bd3786\"],[0.5555555555555556,\"#d8576b\"],[0.6666666666666666,\"#ed7953\"],[0.7777777777777778,\"#fb9f3a\"],[0.8888888888888888,\"#fdca26\"],[1.0,\"#f0f921\"]],\"sequentialminus\":[[0.0,\"#0d0887\"],[0.1111111111111111,\"#46039f\"],[0.2222222222222222,\"#7201a8\"],[0.3333333333333333,\"#9c179e\"],[0.4444444444444444,\"#bd3786\"],[0.5555555555555556,\"#d8576b\"],[0.6666666666666666,\"#ed7953\"],[0.7777777777777778,\"#fb9f3a\"],[0.8888888888888888,\"#fdca26\"],[1.0,\"#f0f921\"]]},\"colorway\":[\"#636efa\",\"#EF553B\",\"#00cc96\",\"#ab63fa\",\"#FFA15A\",\"#19d3f3\",\"#FF6692\",\"#B6E880\",\"#FF97FF\",\"#FECB52\"],\"font\":{\"color\":\"#f2f5fa\"},\"geo\":{\"bgcolor\":\"rgb(17,17,17)\",\"lakecolor\":\"rgb(17,17,17)\",\"landcolor\":\"rgb(17,17,17)\",\"showlakes\":true,\"showland\":true,\"subunitcolor\":\"#506784\"},\"hoverlabel\":{\"align\":\"left\"},\"hovermode\":\"closest\",\"mapbox\":{\"style\":\"dark\"},\"paper_bgcolor\":\"rgb(17,17,17)\",\"plot_bgcolor\":\"rgb(17,17,17)\",\"polar\":{\"angularaxis\":{\"gridcolor\":\"#506784\",\"linecolor\":\"#506784\",\"ticks\":\"\"},\"bgcolor\":\"rgb(17,17,17)\",\"radialaxis\":{\"gridcolor\":\"#506784\",\"linecolor\":\"#506784\",\"ticks\":\"\"}},\"scene\":{\"xaxis\":{\"backgroundcolor\":\"rgb(17,17,17)\",\"gridcolor\":\"#506784\",\"gridwidth\":2,\"linecolor\":\"#506784\",\"showbackground\":true,\"ticks\":\"\",\"zerolinecolor\":\"#C8D4E3\"},\"yaxis\":{\"backgroundcolor\":\"rgb(17,17,17)\",\"gridcolor\":\"#506784\",\"gridwidth\":2,\"linecolor\":\"#506784\",\"showbackground\":true,\"ticks\":\"\",\"zerolinecolor\":\"#C8D4E3\"},\"zaxis\":{\"backgroundcolor\":\"rgb(17,17,17)\",\"gridcolor\":\"#506784\",\"gridwidth\":2,\"linecolor\":\"#506784\",\"showbackground\":true,\"ticks\":\"\",\"zerolinecolor\":\"#C8D4E3\"}},\"shapedefaults\":{\"line\":{\"color\":\"#f2f5fa\"}},\"sliderdefaults\":{\"bgcolor\":\"#C8D4E3\",\"bordercolor\":\"rgb(17,17,17)\",\"borderwidth\":1,\"tickwidth\":0},\"ternary\":{\"aaxis\":{\"gridcolor\":\"#506784\",\"linecolor\":\"#506784\",\"ticks\":\"\"},\"baxis\":{\"gridcolor\":\"#506784\",\"linecolor\":\"#506784\",\"ticks\":\"\"},\"bgcolor\":\"rgb(17,17,17)\",\"caxis\":{\"gridcolor\":\"#506784\",\"linecolor\":\"#506784\",\"ticks\":\"\"}},\"title\":{\"x\":0.05},\"updatemenudefaults\":{\"bgcolor\":\"#506784\",\"borderwidth\":0},\"xaxis\":{\"automargin\":true,\"gridcolor\":\"#283442\",\"linecolor\":\"#506784\",\"ticks\":\"\",\"title\":{\"standoff\":15},\"zerolinecolor\":\"#283442\",\"zerolinewidth\":2},\"yaxis\":{\"automargin\":true,\"gridcolor\":\"#283442\",\"linecolor\":\"#506784\",\"ticks\":\"\",\"title\":{\"standoff\":15},\"zerolinecolor\":\"#283442\",\"zerolinewidth\":2}}},\"xaxis\":{\"anchor\":\"y\",\"domain\":[0.0,1.0],\"title\":{\"text\":\"Average Recommendation Score\",\"font\":{\"size\":14}},\"tickfont\":{\"size\":12}},\"yaxis\":{\"anchor\":\"x\",\"domain\":[0.0,1.0],\"title\":{\"text\":\"Genres\",\"font\":{\"size\":14}},\"tickfont\":{\"size\":12}},\"coloraxis\":{\"colorbar\":{\"title\":{\"text\":\"game_count\"}},\"colorscale\":[[0.0,\"#0d0887\"],[0.1111111111111111,\"#46039f\"],[0.2222222222222222,\"#7201a8\"],[0.3333333333333333,\"#9c179e\"],[0.4444444444444444,\"#bd3786\"],[0.5555555555555556,\"#d8576b\"],[0.6666666666666666,\"#ed7953\"],[0.7777777777777778,\"#fb9f3a\"],[0.8888888888888888,\"#fdca26\"],[1.0,\"#f0f921\"]]},\"legend\":{\"tracegroupgap\":0,\"itemsizing\":\"constant\",\"title\":{\"font\":{\"size\":14}}},\"title\":{\"text\":\"Interactive Genre vs. Average Recommendation Score\",\"font\":{\"size\":20}}},                        {\"responsive\": true}                    ).then(function(){\n",
       "                            \n",
       "var gd = document.getElementById('b80e08d1-df67-43d4-98d1-c2e49782d869');\n",
       "var x = new MutationObserver(function (mutations, observer) {{\n",
       "        var display = window.getComputedStyle(gd).display;\n",
       "        if (!display || display === 'none') {{\n",
       "            console.log([gd, 'removed!']);\n",
       "            Plotly.purge(gd);\n",
       "            observer.disconnect();\n",
       "        }}\n",
       "}});\n",
       "\n",
       "// Listen for the removal of the full notebook cells\n",
       "var notebookContainer = gd.closest('#notebook-container');\n",
       "if (notebookContainer) {{\n",
       "    x.observe(notebookContainer, {childList: true});\n",
       "}}\n",
       "\n",
       "// Listen for the clearing of the current output cell\n",
       "var outputEl = gd.closest('.output');\n",
       "if (outputEl) {{\n",
       "    x.observe(outputEl, {childList: true});\n",
       "}}\n",
       "\n",
       "                        })                };                });            </script>        </div>"
      ]
     },
     "metadata": {},
     "output_type": "display_data"
    }
   ],
   "source": [
    "import plotly.express as px\n",
    "\n",
    "# Prepare the data by exploding genres\n",
    "exploded_genres = games_description.assign(genres=games_description['genres'].str.split(', ')).explode('genres')\n",
    "\n",
    "# Calculate the average recommendation scores from preds_df\n",
    "average_recommendations = preds_df.drop(columns='cluster', errors='ignore').mean(axis=0).reset_index(name='avg_recommendation')\n",
    "average_recommendations.rename(columns={'index': 'game_name'}, inplace=True)\n",
    "\n",
    "# Merge with exploded genres and group by genre\n",
    "genre_recommendation = exploded_genres.merge(\n",
    "    average_recommendations,\n",
    "    left_on='name',  # 'name' in games_description\n",
    "    right_on='game_name',  # 'game_name' in average_recommendations\n",
    "    how='inner'\n",
    ")\n",
    "genre_summary = genre_recommendation.groupby('genres').agg(\n",
    "    avg_recommendation=('avg_recommendation', 'mean'),\n",
    "    popularity_score=('popularity_score', 'sum'),\n",
    "    game_count=('name', 'count')\n",
    ").reset_index()\n",
    "\n",
    "# Create the interactive bubble plot\n",
    "fig = px.scatter(\n",
    "    genre_summary,\n",
    "    x='avg_recommendation',\n",
    "    y='genres',\n",
    "    size='popularity_score',\n",
    "    color='game_count',\n",
    "    hover_name='genres',\n",
    "    hover_data={'avg_recommendation': True, 'popularity_score': True, 'game_count': True},\n",
    "    title='Interactive Genre vs. Average Recommendation Score',\n",
    "    labels={'avg_recommendation': 'Average Recommendation Score', 'genres': 'Genres'},\n",
    "    template='plotly_dark',\n",
    "    size_max=30\n",
    ")\n",
    "\n",
    "# Customize the plot aesthetics\n",
    "fig.update_traces(\n",
    "    marker=dict(opacity=0.7, line=dict(width=1, color='DarkSlateGrey'))\n",
    ")\n",
    "fig.update_layout(\n",
    "    title_font_size=20,\n",
    "    legend_title_font_size=14,\n",
    "    xaxis_title_font_size=14,\n",
    "    yaxis_title_font_size=14,\n",
    "    xaxis_tickfont_size=12,\n",
    "    yaxis_tickfont_size=12,\n",
    ")\n",
    "fig.show()\n"
   ]
  },
  {
   "cell_type": "markdown",
   "id": "2060c2e0",
   "metadata": {},
   "source": [
    "This code prepares a dataset by exploding game genres, calculates average recommendation scores and popularity for each genre, and visualizes them in an interactive bubble plot. The plot maps average recommendation scores to genres, with bubble sizes representing popularity and colors indicating the number of games per genre, styled with a dark theme for clarity and appeal."
   ]
  },
  {
   "cell_type": "code",
   "execution_count": 69,
   "id": "bc4757b8",
   "metadata": {},
   "outputs": [
    {
     "name": "stdout",
     "output_type": "stream",
     "text": [
      "Analyzing Sentiments for Game Reviews...\n",
      "Calculating Average Sentiment for Each Game...\n",
      "Merging Sentiment Data with Game Descriptions...\n",
      "\n",
      "Sample Sentiment Analysis Results:\n",
      "                               name  avg_sentiment\n",
      "0                Black Myth: Wukong       0.096284\n",
      "1                  Counter-Strike 2       0.060337\n",
      "2  Warhammer 40,000: Space Marine 2       0.081683\n",
      "3                    Cyberpunk 2077       0.000000\n",
      "4                        ELDEN RING       0.068336\n",
      "5               PUBG: BATTLEGROUNDS       0.000000\n",
      "6                     Apex Legends™       0.016510\n",
      "7                            Dota 2       0.000000\n",
      "8                     Party Animals       0.089762\n",
      "9          Total War: WARHAMMER III       0.032950\n",
      "\n",
      "Top 5 Most Positively Reviewed Games:\n",
      "                                name  avg_sentiment\n",
      "13                          Warframe       0.106424\n",
      "0                 Black Myth: Wukong       0.096284\n",
      "8                      Party Animals       0.089762\n",
      "2   Warhammer 40,000: Space Marine 2       0.081683\n",
      "12                NARAKA: BLADEPOINT       0.072570\n",
      "\n",
      "Top 5 Most Negatively Reviewed Games:\n",
      "                                     name  avg_sentiment\n",
      "20                          Call of Duty®      -0.026481\n",
      "144                       Shawarma Legend       0.000000\n",
      "195                           Manor Lords       0.000000\n",
      "194                           Bloons TD 6       0.000000\n",
      "193  Total War: ROME II - Emperor Edition       0.000000\n"
     ]
    }
   ],
   "source": [
    "from textblob import TextBlob\n",
    "\n",
    "# Ensure 'review' column has no NaN values\n",
    "steam_game_reviews['review'] = steam_game_reviews['review'].fillna('')\n",
    "\n",
    "# Sentiment Analysis on Reviews\n",
    "print(\"Analyzing Sentiments for Game Reviews...\")\n",
    "steam_game_reviews['sentiment'] = steam_game_reviews['review'].apply(lambda x: TextBlob(x).sentiment.polarity)\n",
    "\n",
    "# Calculate Average Sentiment for Each Game\n",
    "print(\"Calculating Average Sentiment for Each Game...\")\n",
    "game_sentiments = steam_game_reviews.groupby('game_name')['sentiment'].mean().reset_index()\n",
    "game_sentiments.columns = ['name', 'avg_sentiment']\n",
    "\n",
    "# Merge with games_description\n",
    "print(\"Merging Sentiment Data with Game Descriptions...\")\n",
    "games_with_sentiment = games_description.merge(game_sentiments, on='name', how='left')\n",
    "games_with_sentiment['avg_sentiment'].fillna(0, inplace=True)  # Fill missing sentiments with 0\n",
    "\n",
    "# Display Sample Output\n",
    "print(\"\\nSample Sentiment Analysis Results:\")\n",
    "print(games_with_sentiment[['name', 'avg_sentiment']].head(10))\n",
    "\n",
    "# Top 5 Most Positively Reviewed Games\n",
    "top_positive_games = games_with_sentiment.sort_values(by='avg_sentiment', ascending=False).head(5)\n",
    "print(\"\\nTop 5 Most Positively Reviewed Games:\")\n",
    "print(top_positive_games[['name', 'avg_sentiment']])\n",
    "\n",
    "# Top 5 Most Negatively Reviewed Games\n",
    "top_negative_games = games_with_sentiment.sort_values(by='avg_sentiment', ascending=True).head(5)\n",
    "print(\"\\nTop 5 Most Negatively Reviewed Games:\")\n",
    "print(top_negative_games[['name', 'avg_sentiment']])\n"
   ]
  },
  {
   "cell_type": "markdown",
   "id": "db0f8c66",
   "metadata": {},
   "source": [
    "This code performs sentiment analysis on game reviews using TextBlob to calculate polarity scores, computes average sentiment for each game, and merges the results with game descriptions. It identifies the top 5 most positively and negatively reviewed games based on average sentiment, displaying the results for analysis."
   ]
  },
  {
   "cell_type": "code",
   "execution_count": 73,
   "id": "b0ba4720",
   "metadata": {},
   "outputs": [
    {
     "name": "stdout",
     "output_type": "stream",
     "text": [
      "Top 10 Games by Bayesian Sentiment:\n",
      "                                name  bayesian_sentiment\n",
      "13                          Warframe            0.105968\n",
      "0                 Black Myth: Wukong            0.095779\n",
      "8                      Party Animals            0.089490\n",
      "2   Warhammer 40,000: Space Marine 2            0.081402\n",
      "12                NARAKA: BLADEPOINT            0.072472\n",
      "4                         ELDEN RING            0.068251\n",
      "1                   Counter-Strike 2            0.060378\n",
      "11                        Once Human            0.059563\n",
      "16                Grand Theft Auto V            0.052357\n",
      "9           Total War: WARHAMMER III            0.033255\n"
     ]
    }
   ],
   "source": [
    "# Ensure sentiment exists in reviews\n",
    "if 'sentiment' not in steam_game_reviews.columns:\n",
    "    from textblob import TextBlob\n",
    "    steam_game_reviews['sentiment'] = steam_game_reviews['review'].apply(lambda x: TextBlob(str(x)).sentiment.polarity)\n",
    "\n",
    "# Calculate Bayesian Sentiment\n",
    "sentiment_mean = steam_game_reviews['sentiment'].mean()\n",
    "sentiment_count = steam_game_reviews.groupby('game_name')['sentiment'].count()\n",
    "sentiment_avg = steam_game_reviews.groupby('game_name')['sentiment'].mean()\n",
    "\n",
    "bayesian_sentiment = (sentiment_avg * sentiment_count + sentiment_mean * 50) / (sentiment_count + 50)\n",
    "bayesian_sentiment = bayesian_sentiment.reset_index()\n",
    "bayesian_sentiment.columns = ['name', 'bayesian_sentiment']\n",
    "\n",
    "# Merge with games_description\n",
    "games_description = games_description.merge(bayesian_sentiment, on='name', how='left')\n",
    "\n",
    "# Verify the top 10 games by Bayesian Sentiment\n",
    "print(\"Top 10 Games by Bayesian Sentiment:\")\n",
    "print(games_description[['name', 'bayesian_sentiment']].sort_values(by='bayesian_sentiment', ascending=False).head(10))\n"
   ]
  },
  {
   "cell_type": "markdown",
   "id": "155268d5",
   "metadata": {},
   "source": [
    "Bayesian Sentiment Adjustment:-\n",
    "1. Stabilizes sentiment scores for games with few reviews.\n",
    "2. Highlights games with consistently positive sentiment."
   ]
  },
  {
   "cell_type": "code",
   "execution_count": 71,
   "id": "96b603be",
   "metadata": {},
   "outputs": [
    {
     "data": {
      "application/vnd.plotly.v1+json": {
       "config": {
        "plotlyServerURL": "https://plot.ly"
       },
       "data": [
        {
         "hoverinfo": "none",
         "line": {
          "color": "gray",
          "width": 0.5
         },
         "mode": "lines",
         "type": "scatter",
         "x": [
          "EA SPORTS FC™ 25",
          "EA SPORTS FC™ 25",
          "EA SPORTS FC™ 25",
          "EA SPORTS FC™ 25",
          "EA SPORTS FC™ 25",
          "EA SPORTS FC™ 25",
          "EA SPORTS FC™ 25",
          "EA SPORTS FC™ 25",
          "EA SPORTS FC™ 25",
          "EA SPORTS FC™ 25",
          "EA SPORTS FC™ 25",
          "EA SPORTS FC™ 25",
          "EA SPORTS FC™ 25",
          "EA SPORTS FC™ 25",
          "EA SPORTS FC™ 25",
          "EA SPORTS FC™ 25",
          "EA SPORTS FC™ 25",
          "EA SPORTS FC™ 25",
          "EA SPORTS FC™ 25",
          "Garry's Mod",
          "Garry's Mod",
          "Garry's Mod",
          "Garry's Mod",
          "Garry's Mod",
          "Garry's Mod",
          "Garry's Mod",
          "Garry's Mod",
          "Garry's Mod",
          "Garry's Mod",
          "Garry's Mod",
          "Garry's Mod",
          "Garry's Mod",
          "Garry's Mod",
          "Garry's Mod",
          "Garry's Mod",
          "Garry's Mod",
          "Garry's Mod",
          "Warhammer 40,000: Space Marine 2",
          "Warhammer 40,000: Space Marine 2",
          "Warhammer 40,000: Space Marine 2",
          "Warhammer 40,000: Space Marine 2",
          "Warhammer 40,000: Space Marine 2",
          "Warhammer 40,000: Space Marine 2",
          "Warhammer 40,000: Space Marine 2",
          "Warhammer 40,000: Space Marine 2",
          "Warhammer 40,000: Space Marine 2",
          "Warhammer 40,000: Space Marine 2",
          "Warhammer 40,000: Space Marine 2",
          "Warhammer 40,000: Space Marine 2",
          "Warhammer 40,000: Space Marine 2",
          "Warhammer 40,000: Space Marine 2",
          "Warhammer 40,000: Space Marine 2",
          "Warhammer 40,000: Space Marine 2",
          "Warhammer 40,000: Space Marine 2",
          "Counter-Strike 2",
          "Counter-Strike 2",
          "Counter-Strike 2",
          "Counter-Strike 2",
          "Counter-Strike 2",
          "Counter-Strike 2",
          "Counter-Strike 2",
          "Counter-Strike 2",
          "Counter-Strike 2",
          "Counter-Strike 2",
          "Counter-Strike 2",
          "Counter-Strike 2",
          "Counter-Strike 2",
          "Counter-Strike 2",
          "Counter-Strike 2",
          "Frostpunk 2",
          "Frostpunk 2",
          "Frostpunk 2",
          "Frostpunk 2",
          "Frostpunk 2",
          "Frostpunk 2",
          "Frostpunk 2",
          "Frostpunk 2",
          "Frostpunk 2",
          "Frostpunk 2",
          "Frostpunk 2",
          "Frostpunk 2",
          "Frostpunk 2",
          "Terraria",
          "Terraria",
          "Terraria",
          "Terraria",
          "Terraria",
          "Terraria",
          "Terraria",
          "Terraria",
          "Terraria",
          "Terraria",
          "Terraria",
          "Terraria",
          "Terraria",
          "Terraria",
          "Sid Meier's Civilization® V",
          "Sid Meier's Civilization® V",
          "Sid Meier's Civilization® V",
          "Sid Meier's Civilization® V",
          "Sid Meier's Civilization® V",
          "Sid Meier's Civilization® V",
          "Sid Meier's Civilization® V",
          "Sid Meier's Civilization® V",
          "Sid Meier's Civilization® V",
          "Sid Meier's Civilization® V",
          "Sid Meier's Civilization® V",
          "Sid Meier's Civilization® V",
          "Sid Meier's Civilization® V",
          "Black Myth: Wukong",
          "Black Myth: Wukong",
          "Black Myth: Wukong",
          "Black Myth: Wukong",
          "Black Myth: Wukong",
          "Black Myth: Wukong",
          "Black Myth: Wukong",
          "Black Myth: Wukong",
          "Black Myth: Wukong",
          "Black Myth: Wukong",
          "Black Myth: Wukong",
          "Black Myth: Wukong",
          "NBA 2K25",
          "NBA 2K25",
          "NBA 2K25",
          "NBA 2K25",
          "NBA 2K25",
          "NBA 2K25",
          "NBA 2K25",
          "NBA 2K25",
          "NBA 2K25",
          "NBA 2K25",
          "NBA 2K25",
          "TCG Card Shop Simulator",
          "TCG Card Shop Simulator",
          "TCG Card Shop Simulator",
          "TCG Card Shop Simulator",
          "TCG Card Shop Simulator",
          "TCG Card Shop Simulator",
          "TCG Card Shop Simulator",
          "TCG Card Shop Simulator",
          "Dota 2",
          "Dota 2",
          "Dota 2",
          "Dota 2",
          "Dota 2",
          "Dota 2",
          "Dota 2",
          "Dota 2",
          "Dota 2",
          "Baldur's Gate 3",
          "Baldur's Gate 3",
          "Baldur's Gate 3",
          "Baldur's Gate 3",
          "Baldur's Gate 3",
          "Baldur's Gate 3",
          "Baldur's Gate 3",
          "Baldur's Gate 3",
          "The Crew Motorfest",
          "The Crew Motorfest",
          "The Crew Motorfest",
          "The Crew Motorfest",
          "The Crew Motorfest",
          "The Crew Motorfest",
          "The Crew Motorfest",
          "PUBG: BATTLEGROUNDS",
          "PUBG: BATTLEGROUNDS",
          "PUBG: BATTLEGROUNDS",
          "PUBG: BATTLEGROUNDS",
          "PUBG: BATTLEGROUNDS",
          "PUBG: BATTLEGROUNDS",
          "Satisfactory",
          "Satisfactory",
          "Satisfactory",
          "Satisfactory",
          "Satisfactory",
          "ELDEN RING",
          "ELDEN RING",
          "ELDEN RING",
          "ELDEN RING",
          "People Playground",
          "People Playground",
          "People Playground",
          "All-In-One Sports VR"
         ],
         "y": [
          "Garry's Mod",
          "Frostpunk 2",
          "Sid Meier's Civilization® V",
          "NBA 2K25",
          "TCG Card Shop Simulator",
          "The Crew Motorfest",
          "People Playground",
          "All-In-One Sports VR",
          "War Thunder",
          "Warhammer 40,000: Space Marine 2",
          "Counter-Strike 2",
          "Terraria",
          "Black Myth: Wukong",
          "Dota 2",
          "Baldur's Gate 3",
          "PUBG: BATTLEGROUNDS",
          "Satisfactory",
          "ELDEN RING",
          "Divinity: Original Sin 2 - Definitive Edition",
          "Sid Meier's Civilization® V",
          "The Crew Motorfest",
          "People Playground",
          "All-In-One Sports VR",
          "Warhammer 40,000: Space Marine 2",
          "Counter-Strike 2",
          "Frostpunk 2",
          "Terraria",
          "Black Myth: Wukong",
          "NBA 2K25",
          "TCG Card Shop Simulator",
          "Dota 2",
          "Baldur's Gate 3",
          "PUBG: BATTLEGROUNDS",
          "Satisfactory",
          "ELDEN RING",
          "Divinity: Original Sin 2 - Definitive Edition",
          "War Thunder",
          "Frostpunk 2",
          "Terraria",
          "Sid Meier's Civilization® V",
          "NBA 2K25",
          "TCG Card Shop Simulator",
          "Dota 2",
          "Baldur's Gate 3",
          "The Crew Motorfest",
          "PUBG: BATTLEGROUNDS",
          "Satisfactory",
          "ELDEN RING",
          "People Playground",
          "All-In-One Sports VR",
          "Divinity: Original Sin 2 - Definitive Edition",
          "War Thunder",
          "Counter-Strike 2",
          "Black Myth: Wukong",
          "Terraria",
          "Sid Meier's Civilization® V",
          "NBA 2K25",
          "TCG Card Shop Simulator",
          "Dota 2",
          "Baldur's Gate 3",
          "The Crew Motorfest",
          "PUBG: BATTLEGROUNDS",
          "Satisfactory",
          "ELDEN RING",
          "People Playground",
          "All-In-One Sports VR",
          "Divinity: Original Sin 2 - Definitive Edition",
          "War Thunder",
          "Black Myth: Wukong",
          "Sid Meier's Civilization® V",
          "NBA 2K25",
          "TCG Card Shop Simulator",
          "The Crew Motorfest",
          "People Playground",
          "All-In-One Sports VR",
          "Terraria",
          "Black Myth: Wukong",
          "Baldur's Gate 3",
          "PUBG: BATTLEGROUNDS",
          "Satisfactory",
          "ELDEN RING",
          "Divinity: Original Sin 2 - Definitive Edition",
          "Sid Meier's Civilization® V",
          "NBA 2K25",
          "TCG Card Shop Simulator",
          "Baldur's Gate 3",
          "The Crew Motorfest",
          "Satisfactory",
          "People Playground",
          "All-In-One Sports VR",
          "Divinity: Original Sin 2 - Definitive Edition",
          "War Thunder",
          "Black Myth: Wukong",
          "Dota 2",
          "PUBG: BATTLEGROUNDS",
          "ELDEN RING",
          "The Crew Motorfest",
          "All-In-One Sports VR",
          "Black Myth: Wukong",
          "NBA 2K25",
          "TCG Card Shop Simulator",
          "Dota 2",
          "Baldur's Gate 3",
          "PUBG: BATTLEGROUNDS",
          "Satisfactory",
          "ELDEN RING",
          "People Playground",
          "Divinity: Original Sin 2 - Definitive Edition",
          "War Thunder",
          "NBA 2K25",
          "TCG Card Shop Simulator",
          "Dota 2",
          "Baldur's Gate 3",
          "The Crew Motorfest",
          "PUBG: BATTLEGROUNDS",
          "Satisfactory",
          "ELDEN RING",
          "People Playground",
          "All-In-One Sports VR",
          "Divinity: Original Sin 2 - Definitive Edition",
          "War Thunder",
          "TCG Card Shop Simulator",
          "The Crew Motorfest",
          "People Playground",
          "All-In-One Sports VR",
          "War Thunder",
          "Dota 2",
          "Baldur's Gate 3",
          "PUBG: BATTLEGROUNDS",
          "Satisfactory",
          "ELDEN RING",
          "Divinity: Original Sin 2 - Definitive Edition",
          "The Crew Motorfest",
          "People Playground",
          "All-In-One Sports VR",
          "War Thunder",
          "Baldur's Gate 3",
          "PUBG: BATTLEGROUNDS",
          "Satisfactory",
          "ELDEN RING",
          "Baldur's Gate 3",
          "The Crew Motorfest",
          "Satisfactory",
          "People Playground",
          "All-In-One Sports VR",
          "Divinity: Original Sin 2 - Definitive Edition",
          "War Thunder",
          "PUBG: BATTLEGROUNDS",
          "ELDEN RING",
          "The Crew Motorfest",
          "People Playground",
          "All-In-One Sports VR",
          "Divinity: Original Sin 2 - Definitive Edition",
          "War Thunder",
          "PUBG: BATTLEGROUNDS",
          "Satisfactory",
          "ELDEN RING",
          "All-In-One Sports VR",
          "PUBG: BATTLEGROUNDS",
          "Satisfactory",
          "ELDEN RING",
          "People Playground",
          "Divinity: Original Sin 2 - Definitive Edition",
          "War Thunder",
          "Satisfactory",
          "People Playground",
          "All-In-One Sports VR",
          "Divinity: Original Sin 2 - Definitive Edition",
          "War Thunder",
          "ELDEN RING",
          "People Playground",
          "All-In-One Sports VR",
          "Divinity: Original Sin 2 - Definitive Edition",
          "War Thunder",
          "ELDEN RING",
          "People Playground",
          "All-In-One Sports VR",
          "Divinity: Original Sin 2 - Definitive Edition",
          "War Thunder",
          "All-In-One Sports VR",
          "Divinity: Original Sin 2 - Definitive Edition",
          "War Thunder",
          "War Thunder"
         ]
        },
        {
         "hoverinfo": "text",
         "marker": {
          "color": [
           0,
           0,
           0.08168307434911085,
           0.06033692923013829,
           0,
           0,
           0,
           0.09628418480289505,
           0,
           0,
           0,
           0,
           0,
           0,
           0,
           0.06833617457922458,
           0,
           0,
           0,
           0
          ],
          "colorbar": {
           "title": {
            "text": "Avg Sentiment"
           }
          },
          "colorscale": [
           [
            0,
            "rgb(165,0,38)"
           ],
           [
            0.1,
            "rgb(215,48,39)"
           ],
           [
            0.2,
            "rgb(244,109,67)"
           ],
           [
            0.3,
            "rgb(253,174,97)"
           ],
           [
            0.4,
            "rgb(254,224,139)"
           ],
           [
            0.5,
            "rgb(255,255,191)"
           ],
           [
            0.6,
            "rgb(217,239,139)"
           ],
           [
            0.7,
            "rgb(166,217,106)"
           ],
           [
            0.8,
            "rgb(102,189,99)"
           ],
           [
            0.9,
            "rgb(26,152,80)"
           ],
           [
            1,
            "rgb(0,104,55)"
           ]
          ],
          "line": {
           "width": 2
          },
          "size": [
           50,
           50,
           40,
           30,
           22.22222222222222,
           20,
           16.666666666666664,
           16.666666666666664,
           15.384615384615385,
           14.285714285714285,
           10.975609756097562,
           9.67741935483871,
           9.090909090909092,
           9.090909090909092,
           8.928571428571429,
           8.823529411764705,
           8.333333333333332,
           8.333333333333332,
           7.6923076923076925,
           7.142857142857142
          ]
         },
         "mode": "markers",
         "text": [
          "EA SPORTS FC™ 25<br>Popularity: 1.00<br>Avg Sentiment: 0.00",
          "Garry's Mod<br>Popularity: 1.00<br>Avg Sentiment: 0.00",
          "Warhammer 40,000: Space Marine 2<br>Popularity: 0.80<br>Avg Sentiment: 0.08",
          "Counter-Strike 2<br>Popularity: 0.60<br>Avg Sentiment: 0.06",
          "Frostpunk 2<br>Popularity: 0.44<br>Avg Sentiment: 0.00",
          "Terraria<br>Popularity: 0.40<br>Avg Sentiment: 0.00",
          "Sid Meier's Civilization® V<br>Popularity: 0.33<br>Avg Sentiment: 0.00",
          "Black Myth: Wukong<br>Popularity: 0.33<br>Avg Sentiment: 0.10",
          "NBA 2K25<br>Popularity: 0.31<br>Avg Sentiment: 0.00",
          "TCG Card Shop Simulator<br>Popularity: 0.29<br>Avg Sentiment: 0.00",
          "Dota 2<br>Popularity: 0.22<br>Avg Sentiment: 0.00",
          "Baldur's Gate 3<br>Popularity: 0.19<br>Avg Sentiment: 0.00",
          "The Crew Motorfest<br>Popularity: 0.18<br>Avg Sentiment: 0.00",
          "PUBG: BATTLEGROUNDS<br>Popularity: 0.18<br>Avg Sentiment: 0.00",
          "Satisfactory<br>Popularity: 0.18<br>Avg Sentiment: 0.00",
          "ELDEN RING<br>Popularity: 0.18<br>Avg Sentiment: 0.07",
          "People Playground<br>Popularity: 0.17<br>Avg Sentiment: 0.00",
          "All-In-One Sports VR<br>Popularity: 0.17<br>Avg Sentiment: 0.00",
          "Divinity: Original Sin 2 - Definitive Edition<br>Popularity: 0.15<br>Avg Sentiment: 0.00",
          "War Thunder<br>Popularity: 0.14<br>Avg Sentiment: 0.00"
         ],
         "type": "scatter",
         "x": [
          "EA SPORTS FC™ 25",
          "Garry's Mod",
          "Warhammer 40,000: Space Marine 2",
          "Counter-Strike 2",
          "Frostpunk 2",
          "Terraria",
          "Sid Meier's Civilization® V",
          "Black Myth: Wukong",
          "NBA 2K25",
          "TCG Card Shop Simulator",
          "Dota 2",
          "Baldur's Gate 3",
          "The Crew Motorfest",
          "PUBG: BATTLEGROUNDS",
          "Satisfactory",
          "ELDEN RING",
          "People Playground",
          "All-In-One Sports VR",
          "Divinity: Original Sin 2 - Definitive Edition",
          "War Thunder"
         ],
         "y": [
          {
           "avg_sentiment": 0,
           "popularity": 1
          },
          {
           "avg_sentiment": 0,
           "popularity": 1
          },
          {
           "avg_sentiment": 0.08168307434911085,
           "popularity": 0.8
          },
          {
           "avg_sentiment": 0.06033692923013829,
           "popularity": 0.6
          },
          {
           "avg_sentiment": 0,
           "popularity": 0.4444444444444444
          },
          {
           "avg_sentiment": 0,
           "popularity": 0.4
          },
          {
           "avg_sentiment": 0,
           "popularity": 0.3333333333333333
          },
          {
           "avg_sentiment": 0.09628418480289505,
           "popularity": 0.3333333333333333
          },
          {
           "avg_sentiment": 0,
           "popularity": 0.3076923076923077
          },
          {
           "avg_sentiment": 0,
           "popularity": 0.2857142857142857
          },
          {
           "avg_sentiment": 0,
           "popularity": 0.21951219512195122
          },
          {
           "avg_sentiment": 0,
           "popularity": 0.1935483870967742
          },
          {
           "avg_sentiment": 0,
           "popularity": 0.18181818181818182
          },
          {
           "avg_sentiment": 0,
           "popularity": 0.18181818181818182
          },
          {
           "avg_sentiment": 0,
           "popularity": 0.17857142857142858
          },
          {
           "avg_sentiment": 0.06833617457922458,
           "popularity": 0.1764705882352941
          },
          {
           "avg_sentiment": 0,
           "popularity": 0.16666666666666666
          },
          {
           "avg_sentiment": 0,
           "popularity": 0.16666666666666666
          },
          {
           "avg_sentiment": 0,
           "popularity": 0.15384615384615385
          },
          {
           "avg_sentiment": 0,
           "popularity": 0.14285714285714285
          }
         ]
        }
       ],
       "layout": {
        "margin": {
         "b": 0,
         "l": 0,
         "r": 0,
         "t": 40
        },
        "showlegend": false,
        "template": {
         "data": {
          "bar": [
           {
            "error_x": {
             "color": "#2a3f5f"
            },
            "error_y": {
             "color": "#2a3f5f"
            },
            "marker": {
             "line": {
              "color": "#E5ECF6",
              "width": 0.5
             },
             "pattern": {
              "fillmode": "overlay",
              "size": 10,
              "solidity": 0.2
             }
            },
            "type": "bar"
           }
          ],
          "barpolar": [
           {
            "marker": {
             "line": {
              "color": "#E5ECF6",
              "width": 0.5
             },
             "pattern": {
              "fillmode": "overlay",
              "size": 10,
              "solidity": 0.2
             }
            },
            "type": "barpolar"
           }
          ],
          "carpet": [
           {
            "aaxis": {
             "endlinecolor": "#2a3f5f",
             "gridcolor": "white",
             "linecolor": "white",
             "minorgridcolor": "white",
             "startlinecolor": "#2a3f5f"
            },
            "baxis": {
             "endlinecolor": "#2a3f5f",
             "gridcolor": "white",
             "linecolor": "white",
             "minorgridcolor": "white",
             "startlinecolor": "#2a3f5f"
            },
            "type": "carpet"
           }
          ],
          "choropleth": [
           {
            "colorbar": {
             "outlinewidth": 0,
             "ticks": ""
            },
            "type": "choropleth"
           }
          ],
          "contour": [
           {
            "colorbar": {
             "outlinewidth": 0,
             "ticks": ""
            },
            "colorscale": [
             [
              0,
              "#0d0887"
             ],
             [
              0.1111111111111111,
              "#46039f"
             ],
             [
              0.2222222222222222,
              "#7201a8"
             ],
             [
              0.3333333333333333,
              "#9c179e"
             ],
             [
              0.4444444444444444,
              "#bd3786"
             ],
             [
              0.5555555555555556,
              "#d8576b"
             ],
             [
              0.6666666666666666,
              "#ed7953"
             ],
             [
              0.7777777777777778,
              "#fb9f3a"
             ],
             [
              0.8888888888888888,
              "#fdca26"
             ],
             [
              1,
              "#f0f921"
             ]
            ],
            "type": "contour"
           }
          ],
          "contourcarpet": [
           {
            "colorbar": {
             "outlinewidth": 0,
             "ticks": ""
            },
            "type": "contourcarpet"
           }
          ],
          "heatmap": [
           {
            "colorbar": {
             "outlinewidth": 0,
             "ticks": ""
            },
            "colorscale": [
             [
              0,
              "#0d0887"
             ],
             [
              0.1111111111111111,
              "#46039f"
             ],
             [
              0.2222222222222222,
              "#7201a8"
             ],
             [
              0.3333333333333333,
              "#9c179e"
             ],
             [
              0.4444444444444444,
              "#bd3786"
             ],
             [
              0.5555555555555556,
              "#d8576b"
             ],
             [
              0.6666666666666666,
              "#ed7953"
             ],
             [
              0.7777777777777778,
              "#fb9f3a"
             ],
             [
              0.8888888888888888,
              "#fdca26"
             ],
             [
              1,
              "#f0f921"
             ]
            ],
            "type": "heatmap"
           }
          ],
          "heatmapgl": [
           {
            "colorbar": {
             "outlinewidth": 0,
             "ticks": ""
            },
            "colorscale": [
             [
              0,
              "#0d0887"
             ],
             [
              0.1111111111111111,
              "#46039f"
             ],
             [
              0.2222222222222222,
              "#7201a8"
             ],
             [
              0.3333333333333333,
              "#9c179e"
             ],
             [
              0.4444444444444444,
              "#bd3786"
             ],
             [
              0.5555555555555556,
              "#d8576b"
             ],
             [
              0.6666666666666666,
              "#ed7953"
             ],
             [
              0.7777777777777778,
              "#fb9f3a"
             ],
             [
              0.8888888888888888,
              "#fdca26"
             ],
             [
              1,
              "#f0f921"
             ]
            ],
            "type": "heatmapgl"
           }
          ],
          "histogram": [
           {
            "marker": {
             "pattern": {
              "fillmode": "overlay",
              "size": 10,
              "solidity": 0.2
             }
            },
            "type": "histogram"
           }
          ],
          "histogram2d": [
           {
            "colorbar": {
             "outlinewidth": 0,
             "ticks": ""
            },
            "colorscale": [
             [
              0,
              "#0d0887"
             ],
             [
              0.1111111111111111,
              "#46039f"
             ],
             [
              0.2222222222222222,
              "#7201a8"
             ],
             [
              0.3333333333333333,
              "#9c179e"
             ],
             [
              0.4444444444444444,
              "#bd3786"
             ],
             [
              0.5555555555555556,
              "#d8576b"
             ],
             [
              0.6666666666666666,
              "#ed7953"
             ],
             [
              0.7777777777777778,
              "#fb9f3a"
             ],
             [
              0.8888888888888888,
              "#fdca26"
             ],
             [
              1,
              "#f0f921"
             ]
            ],
            "type": "histogram2d"
           }
          ],
          "histogram2dcontour": [
           {
            "colorbar": {
             "outlinewidth": 0,
             "ticks": ""
            },
            "colorscale": [
             [
              0,
              "#0d0887"
             ],
             [
              0.1111111111111111,
              "#46039f"
             ],
             [
              0.2222222222222222,
              "#7201a8"
             ],
             [
              0.3333333333333333,
              "#9c179e"
             ],
             [
              0.4444444444444444,
              "#bd3786"
             ],
             [
              0.5555555555555556,
              "#d8576b"
             ],
             [
              0.6666666666666666,
              "#ed7953"
             ],
             [
              0.7777777777777778,
              "#fb9f3a"
             ],
             [
              0.8888888888888888,
              "#fdca26"
             ],
             [
              1,
              "#f0f921"
             ]
            ],
            "type": "histogram2dcontour"
           }
          ],
          "mesh3d": [
           {
            "colorbar": {
             "outlinewidth": 0,
             "ticks": ""
            },
            "type": "mesh3d"
           }
          ],
          "parcoords": [
           {
            "line": {
             "colorbar": {
              "outlinewidth": 0,
              "ticks": ""
             }
            },
            "type": "parcoords"
           }
          ],
          "pie": [
           {
            "automargin": true,
            "type": "pie"
           }
          ],
          "scatter": [
           {
            "fillpattern": {
             "fillmode": "overlay",
             "size": 10,
             "solidity": 0.2
            },
            "type": "scatter"
           }
          ],
          "scatter3d": [
           {
            "line": {
             "colorbar": {
              "outlinewidth": 0,
              "ticks": ""
             }
            },
            "marker": {
             "colorbar": {
              "outlinewidth": 0,
              "ticks": ""
             }
            },
            "type": "scatter3d"
           }
          ],
          "scattercarpet": [
           {
            "marker": {
             "colorbar": {
              "outlinewidth": 0,
              "ticks": ""
             }
            },
            "type": "scattercarpet"
           }
          ],
          "scattergeo": [
           {
            "marker": {
             "colorbar": {
              "outlinewidth": 0,
              "ticks": ""
             }
            },
            "type": "scattergeo"
           }
          ],
          "scattergl": [
           {
            "marker": {
             "colorbar": {
              "outlinewidth": 0,
              "ticks": ""
             }
            },
            "type": "scattergl"
           }
          ],
          "scattermapbox": [
           {
            "marker": {
             "colorbar": {
              "outlinewidth": 0,
              "ticks": ""
             }
            },
            "type": "scattermapbox"
           }
          ],
          "scatterpolar": [
           {
            "marker": {
             "colorbar": {
              "outlinewidth": 0,
              "ticks": ""
             }
            },
            "type": "scatterpolar"
           }
          ],
          "scatterpolargl": [
           {
            "marker": {
             "colorbar": {
              "outlinewidth": 0,
              "ticks": ""
             }
            },
            "type": "scatterpolargl"
           }
          ],
          "scatterternary": [
           {
            "marker": {
             "colorbar": {
              "outlinewidth": 0,
              "ticks": ""
             }
            },
            "type": "scatterternary"
           }
          ],
          "surface": [
           {
            "colorbar": {
             "outlinewidth": 0,
             "ticks": ""
            },
            "colorscale": [
             [
              0,
              "#0d0887"
             ],
             [
              0.1111111111111111,
              "#46039f"
             ],
             [
              0.2222222222222222,
              "#7201a8"
             ],
             [
              0.3333333333333333,
              "#9c179e"
             ],
             [
              0.4444444444444444,
              "#bd3786"
             ],
             [
              0.5555555555555556,
              "#d8576b"
             ],
             [
              0.6666666666666666,
              "#ed7953"
             ],
             [
              0.7777777777777778,
              "#fb9f3a"
             ],
             [
              0.8888888888888888,
              "#fdca26"
             ],
             [
              1,
              "#f0f921"
             ]
            ],
            "type": "surface"
           }
          ],
          "table": [
           {
            "cells": {
             "fill": {
              "color": "#EBF0F8"
             },
             "line": {
              "color": "white"
             }
            },
            "header": {
             "fill": {
              "color": "#C8D4E3"
             },
             "line": {
              "color": "white"
             }
            },
            "type": "table"
           }
          ]
         },
         "layout": {
          "annotationdefaults": {
           "arrowcolor": "#2a3f5f",
           "arrowhead": 0,
           "arrowwidth": 1
          },
          "autotypenumbers": "strict",
          "coloraxis": {
           "colorbar": {
            "outlinewidth": 0,
            "ticks": ""
           }
          },
          "colorscale": {
           "diverging": [
            [
             0,
             "#8e0152"
            ],
            [
             0.1,
             "#c51b7d"
            ],
            [
             0.2,
             "#de77ae"
            ],
            [
             0.3,
             "#f1b6da"
            ],
            [
             0.4,
             "#fde0ef"
            ],
            [
             0.5,
             "#f7f7f7"
            ],
            [
             0.6,
             "#e6f5d0"
            ],
            [
             0.7,
             "#b8e186"
            ],
            [
             0.8,
             "#7fbc41"
            ],
            [
             0.9,
             "#4d9221"
            ],
            [
             1,
             "#276419"
            ]
           ],
           "sequential": [
            [
             0,
             "#0d0887"
            ],
            [
             0.1111111111111111,
             "#46039f"
            ],
            [
             0.2222222222222222,
             "#7201a8"
            ],
            [
             0.3333333333333333,
             "#9c179e"
            ],
            [
             0.4444444444444444,
             "#bd3786"
            ],
            [
             0.5555555555555556,
             "#d8576b"
            ],
            [
             0.6666666666666666,
             "#ed7953"
            ],
            [
             0.7777777777777778,
             "#fb9f3a"
            ],
            [
             0.8888888888888888,
             "#fdca26"
            ],
            [
             1,
             "#f0f921"
            ]
           ],
           "sequentialminus": [
            [
             0,
             "#0d0887"
            ],
            [
             0.1111111111111111,
             "#46039f"
            ],
            [
             0.2222222222222222,
             "#7201a8"
            ],
            [
             0.3333333333333333,
             "#9c179e"
            ],
            [
             0.4444444444444444,
             "#bd3786"
            ],
            [
             0.5555555555555556,
             "#d8576b"
            ],
            [
             0.6666666666666666,
             "#ed7953"
            ],
            [
             0.7777777777777778,
             "#fb9f3a"
            ],
            [
             0.8888888888888888,
             "#fdca26"
            ],
            [
             1,
             "#f0f921"
            ]
           ]
          },
          "colorway": [
           "#636efa",
           "#EF553B",
           "#00cc96",
           "#ab63fa",
           "#FFA15A",
           "#19d3f3",
           "#FF6692",
           "#B6E880",
           "#FF97FF",
           "#FECB52"
          ],
          "font": {
           "color": "#2a3f5f"
          },
          "geo": {
           "bgcolor": "white",
           "lakecolor": "white",
           "landcolor": "#E5ECF6",
           "showlakes": true,
           "showland": true,
           "subunitcolor": "white"
          },
          "hoverlabel": {
           "align": "left"
          },
          "hovermode": "closest",
          "mapbox": {
           "style": "light"
          },
          "paper_bgcolor": "white",
          "plot_bgcolor": "#E5ECF6",
          "polar": {
           "angularaxis": {
            "gridcolor": "white",
            "linecolor": "white",
            "ticks": ""
           },
           "bgcolor": "#E5ECF6",
           "radialaxis": {
            "gridcolor": "white",
            "linecolor": "white",
            "ticks": ""
           }
          },
          "scene": {
           "xaxis": {
            "backgroundcolor": "#E5ECF6",
            "gridcolor": "white",
            "gridwidth": 2,
            "linecolor": "white",
            "showbackground": true,
            "ticks": "",
            "zerolinecolor": "white"
           },
           "yaxis": {
            "backgroundcolor": "#E5ECF6",
            "gridcolor": "white",
            "gridwidth": 2,
            "linecolor": "white",
            "showbackground": true,
            "ticks": "",
            "zerolinecolor": "white"
           },
           "zaxis": {
            "backgroundcolor": "#E5ECF6",
            "gridcolor": "white",
            "gridwidth": 2,
            "linecolor": "white",
            "showbackground": true,
            "ticks": "",
            "zerolinecolor": "white"
           }
          },
          "shapedefaults": {
           "line": {
            "color": "#2a3f5f"
           }
          },
          "ternary": {
           "aaxis": {
            "gridcolor": "white",
            "linecolor": "white",
            "ticks": ""
           },
           "baxis": {
            "gridcolor": "white",
            "linecolor": "white",
            "ticks": ""
           },
           "bgcolor": "#E5ECF6",
           "caxis": {
            "gridcolor": "white",
            "linecolor": "white",
            "ticks": ""
           }
          },
          "title": {
           "x": 0.05
          },
          "xaxis": {
           "automargin": true,
           "gridcolor": "white",
           "linecolor": "white",
           "ticks": "",
           "title": {
            "standoff": 15
           },
           "zerolinecolor": "white",
           "zerolinewidth": 2
          },
          "yaxis": {
           "automargin": true,
           "gridcolor": "white",
           "linecolor": "white",
           "ticks": "",
           "title": {
            "standoff": 15
           },
           "zerolinecolor": "white",
           "zerolinewidth": 2
          }
         }
        },
        "title": {
         "text": "Game Relationship Network"
        },
        "xaxis": {
         "showgrid": false,
         "zeroline": false
        },
        "yaxis": {
         "showgrid": false,
         "zeroline": false
        }
       }
      },
      "text/html": [
       "<div>                            <div id=\"bbd1ad07-cd58-42b3-bc35-6e33dff46ad8\" class=\"plotly-graph-div\" style=\"height:525px; width:100%;\"></div>            <script type=\"text/javascript\">                require([\"plotly\"], function(Plotly) {                    window.PLOTLYENV=window.PLOTLYENV || {};                                    if (document.getElementById(\"bbd1ad07-cd58-42b3-bc35-6e33dff46ad8\")) {                    Plotly.newPlot(                        \"bbd1ad07-cd58-42b3-bc35-6e33dff46ad8\",                        [{\"hoverinfo\":\"none\",\"line\":{\"color\":\"gray\",\"width\":0.5},\"mode\":\"lines\",\"x\":[\"EA SPORTS FC\\u2122 25\",\"EA SPORTS FC\\u2122 25\",\"EA SPORTS FC\\u2122 25\",\"EA SPORTS FC\\u2122 25\",\"EA SPORTS FC\\u2122 25\",\"EA SPORTS FC\\u2122 25\",\"EA SPORTS FC\\u2122 25\",\"EA SPORTS FC\\u2122 25\",\"EA SPORTS FC\\u2122 25\",\"EA SPORTS FC\\u2122 25\",\"EA SPORTS FC\\u2122 25\",\"EA SPORTS FC\\u2122 25\",\"EA SPORTS FC\\u2122 25\",\"EA SPORTS FC\\u2122 25\",\"EA SPORTS FC\\u2122 25\",\"EA SPORTS FC\\u2122 25\",\"EA SPORTS FC\\u2122 25\",\"EA SPORTS FC\\u2122 25\",\"EA SPORTS FC\\u2122 25\",\"Garry's Mod\",\"Garry's Mod\",\"Garry's Mod\",\"Garry's Mod\",\"Garry's Mod\",\"Garry's Mod\",\"Garry's Mod\",\"Garry's Mod\",\"Garry's Mod\",\"Garry's Mod\",\"Garry's Mod\",\"Garry's Mod\",\"Garry's Mod\",\"Garry's Mod\",\"Garry's Mod\",\"Garry's Mod\",\"Garry's Mod\",\"Garry's Mod\",\"Warhammer 40,000: Space Marine 2\",\"Warhammer 40,000: Space Marine 2\",\"Warhammer 40,000: Space Marine 2\",\"Warhammer 40,000: Space Marine 2\",\"Warhammer 40,000: Space Marine 2\",\"Warhammer 40,000: Space Marine 2\",\"Warhammer 40,000: Space Marine 2\",\"Warhammer 40,000: Space Marine 2\",\"Warhammer 40,000: Space Marine 2\",\"Warhammer 40,000: Space Marine 2\",\"Warhammer 40,000: Space Marine 2\",\"Warhammer 40,000: Space Marine 2\",\"Warhammer 40,000: Space Marine 2\",\"Warhammer 40,000: Space Marine 2\",\"Warhammer 40,000: Space Marine 2\",\"Warhammer 40,000: Space Marine 2\",\"Warhammer 40,000: Space Marine 2\",\"Counter-Strike 2\",\"Counter-Strike 2\",\"Counter-Strike 2\",\"Counter-Strike 2\",\"Counter-Strike 2\",\"Counter-Strike 2\",\"Counter-Strike 2\",\"Counter-Strike 2\",\"Counter-Strike 2\",\"Counter-Strike 2\",\"Counter-Strike 2\",\"Counter-Strike 2\",\"Counter-Strike 2\",\"Counter-Strike 2\",\"Counter-Strike 2\",\"Frostpunk 2\",\"Frostpunk 2\",\"Frostpunk 2\",\"Frostpunk 2\",\"Frostpunk 2\",\"Frostpunk 2\",\"Frostpunk 2\",\"Frostpunk 2\",\"Frostpunk 2\",\"Frostpunk 2\",\"Frostpunk 2\",\"Frostpunk 2\",\"Frostpunk 2\",\"Terraria\",\"Terraria\",\"Terraria\",\"Terraria\",\"Terraria\",\"Terraria\",\"Terraria\",\"Terraria\",\"Terraria\",\"Terraria\",\"Terraria\",\"Terraria\",\"Terraria\",\"Terraria\",\"Sid Meier's Civilization\\u00ae V\",\"Sid Meier's Civilization\\u00ae V\",\"Sid Meier's Civilization\\u00ae V\",\"Sid Meier's Civilization\\u00ae V\",\"Sid Meier's Civilization\\u00ae V\",\"Sid Meier's Civilization\\u00ae V\",\"Sid Meier's Civilization\\u00ae V\",\"Sid Meier's Civilization\\u00ae V\",\"Sid Meier's Civilization\\u00ae V\",\"Sid Meier's Civilization\\u00ae V\",\"Sid Meier's Civilization\\u00ae V\",\"Sid Meier's Civilization\\u00ae V\",\"Sid Meier's Civilization\\u00ae V\",\"Black Myth: Wukong\",\"Black Myth: Wukong\",\"Black Myth: Wukong\",\"Black Myth: Wukong\",\"Black Myth: Wukong\",\"Black Myth: Wukong\",\"Black Myth: Wukong\",\"Black Myth: Wukong\",\"Black Myth: Wukong\",\"Black Myth: Wukong\",\"Black Myth: Wukong\",\"Black Myth: Wukong\",\"NBA 2K25\",\"NBA 2K25\",\"NBA 2K25\",\"NBA 2K25\",\"NBA 2K25\",\"NBA 2K25\",\"NBA 2K25\",\"NBA 2K25\",\"NBA 2K25\",\"NBA 2K25\",\"NBA 2K25\",\"TCG Card Shop Simulator\",\"TCG Card Shop Simulator\",\"TCG Card Shop Simulator\",\"TCG Card Shop Simulator\",\"TCG Card Shop Simulator\",\"TCG Card Shop Simulator\",\"TCG Card Shop Simulator\",\"TCG Card Shop Simulator\",\"Dota 2\",\"Dota 2\",\"Dota 2\",\"Dota 2\",\"Dota 2\",\"Dota 2\",\"Dota 2\",\"Dota 2\",\"Dota 2\",\"Baldur's Gate 3\",\"Baldur's Gate 3\",\"Baldur's Gate 3\",\"Baldur's Gate 3\",\"Baldur's Gate 3\",\"Baldur's Gate 3\",\"Baldur's Gate 3\",\"Baldur's Gate 3\",\"The Crew Motorfest\",\"The Crew Motorfest\",\"The Crew Motorfest\",\"The Crew Motorfest\",\"The Crew Motorfest\",\"The Crew Motorfest\",\"The Crew Motorfest\",\"PUBG: BATTLEGROUNDS\",\"PUBG: BATTLEGROUNDS\",\"PUBG: BATTLEGROUNDS\",\"PUBG: BATTLEGROUNDS\",\"PUBG: BATTLEGROUNDS\",\"PUBG: BATTLEGROUNDS\",\"Satisfactory\",\"Satisfactory\",\"Satisfactory\",\"Satisfactory\",\"Satisfactory\",\"ELDEN RING\",\"ELDEN RING\",\"ELDEN RING\",\"ELDEN RING\",\"People Playground\",\"People Playground\",\"People Playground\",\"All-In-One Sports VR\"],\"y\":[\"Garry's Mod\",\"Frostpunk 2\",\"Sid Meier's Civilization\\u00ae V\",\"NBA 2K25\",\"TCG Card Shop Simulator\",\"The Crew Motorfest\",\"People Playground\",\"All-In-One Sports VR\",\"War Thunder\",\"Warhammer 40,000: Space Marine 2\",\"Counter-Strike 2\",\"Terraria\",\"Black Myth: Wukong\",\"Dota 2\",\"Baldur's Gate 3\",\"PUBG: BATTLEGROUNDS\",\"Satisfactory\",\"ELDEN RING\",\"Divinity: Original Sin 2 - Definitive Edition\",\"Sid Meier's Civilization\\u00ae V\",\"The Crew Motorfest\",\"People Playground\",\"All-In-One Sports VR\",\"Warhammer 40,000: Space Marine 2\",\"Counter-Strike 2\",\"Frostpunk 2\",\"Terraria\",\"Black Myth: Wukong\",\"NBA 2K25\",\"TCG Card Shop Simulator\",\"Dota 2\",\"Baldur's Gate 3\",\"PUBG: BATTLEGROUNDS\",\"Satisfactory\",\"ELDEN RING\",\"Divinity: Original Sin 2 - Definitive Edition\",\"War Thunder\",\"Frostpunk 2\",\"Terraria\",\"Sid Meier's Civilization\\u00ae V\",\"NBA 2K25\",\"TCG Card Shop Simulator\",\"Dota 2\",\"Baldur's Gate 3\",\"The Crew Motorfest\",\"PUBG: BATTLEGROUNDS\",\"Satisfactory\",\"ELDEN RING\",\"People Playground\",\"All-In-One Sports VR\",\"Divinity: Original Sin 2 - Definitive Edition\",\"War Thunder\",\"Counter-Strike 2\",\"Black Myth: Wukong\",\"Terraria\",\"Sid Meier's Civilization\\u00ae V\",\"NBA 2K25\",\"TCG Card Shop Simulator\",\"Dota 2\",\"Baldur's Gate 3\",\"The Crew Motorfest\",\"PUBG: BATTLEGROUNDS\",\"Satisfactory\",\"ELDEN RING\",\"People Playground\",\"All-In-One Sports VR\",\"Divinity: Original Sin 2 - Definitive Edition\",\"War Thunder\",\"Black Myth: Wukong\",\"Sid Meier's Civilization\\u00ae V\",\"NBA 2K25\",\"TCG Card Shop Simulator\",\"The Crew Motorfest\",\"People Playground\",\"All-In-One Sports VR\",\"Terraria\",\"Black Myth: Wukong\",\"Baldur's Gate 3\",\"PUBG: BATTLEGROUNDS\",\"Satisfactory\",\"ELDEN RING\",\"Divinity: Original Sin 2 - Definitive Edition\",\"Sid Meier's Civilization\\u00ae V\",\"NBA 2K25\",\"TCG Card Shop Simulator\",\"Baldur's Gate 3\",\"The Crew Motorfest\",\"Satisfactory\",\"People Playground\",\"All-In-One Sports VR\",\"Divinity: Original Sin 2 - Definitive Edition\",\"War Thunder\",\"Black Myth: Wukong\",\"Dota 2\",\"PUBG: BATTLEGROUNDS\",\"ELDEN RING\",\"The Crew Motorfest\",\"All-In-One Sports VR\",\"Black Myth: Wukong\",\"NBA 2K25\",\"TCG Card Shop Simulator\",\"Dota 2\",\"Baldur's Gate 3\",\"PUBG: BATTLEGROUNDS\",\"Satisfactory\",\"ELDEN RING\",\"People Playground\",\"Divinity: Original Sin 2 - Definitive Edition\",\"War Thunder\",\"NBA 2K25\",\"TCG Card Shop Simulator\",\"Dota 2\",\"Baldur's Gate 3\",\"The Crew Motorfest\",\"PUBG: BATTLEGROUNDS\",\"Satisfactory\",\"ELDEN RING\",\"People Playground\",\"All-In-One Sports VR\",\"Divinity: Original Sin 2 - Definitive Edition\",\"War Thunder\",\"TCG Card Shop Simulator\",\"The Crew Motorfest\",\"People Playground\",\"All-In-One Sports VR\",\"War Thunder\",\"Dota 2\",\"Baldur's Gate 3\",\"PUBG: BATTLEGROUNDS\",\"Satisfactory\",\"ELDEN RING\",\"Divinity: Original Sin 2 - Definitive Edition\",\"The Crew Motorfest\",\"People Playground\",\"All-In-One Sports VR\",\"War Thunder\",\"Baldur's Gate 3\",\"PUBG: BATTLEGROUNDS\",\"Satisfactory\",\"ELDEN RING\",\"Baldur's Gate 3\",\"The Crew Motorfest\",\"Satisfactory\",\"People Playground\",\"All-In-One Sports VR\",\"Divinity: Original Sin 2 - Definitive Edition\",\"War Thunder\",\"PUBG: BATTLEGROUNDS\",\"ELDEN RING\",\"The Crew Motorfest\",\"People Playground\",\"All-In-One Sports VR\",\"Divinity: Original Sin 2 - Definitive Edition\",\"War Thunder\",\"PUBG: BATTLEGROUNDS\",\"Satisfactory\",\"ELDEN RING\",\"All-In-One Sports VR\",\"PUBG: BATTLEGROUNDS\",\"Satisfactory\",\"ELDEN RING\",\"People Playground\",\"Divinity: Original Sin 2 - Definitive Edition\",\"War Thunder\",\"Satisfactory\",\"People Playground\",\"All-In-One Sports VR\",\"Divinity: Original Sin 2 - Definitive Edition\",\"War Thunder\",\"ELDEN RING\",\"People Playground\",\"All-In-One Sports VR\",\"Divinity: Original Sin 2 - Definitive Edition\",\"War Thunder\",\"ELDEN RING\",\"People Playground\",\"All-In-One Sports VR\",\"Divinity: Original Sin 2 - Definitive Edition\",\"War Thunder\",\"All-In-One Sports VR\",\"Divinity: Original Sin 2 - Definitive Edition\",\"War Thunder\",\"War Thunder\"],\"type\":\"scatter\"},{\"hoverinfo\":\"text\",\"marker\":{\"color\":[0.0,0.0,0.08168307434911085,0.06033692923013829,0.0,0.0,0.0,0.09628418480289505,0.0,0.0,0.0,0.0,0.0,0.0,0.0,0.06833617457922458,0.0,0.0,0.0,0.0],\"colorbar\":{\"title\":{\"text\":\"Avg Sentiment\"}},\"colorscale\":[[0.0,\"rgb(165,0,38)\"],[0.1,\"rgb(215,48,39)\"],[0.2,\"rgb(244,109,67)\"],[0.3,\"rgb(253,174,97)\"],[0.4,\"rgb(254,224,139)\"],[0.5,\"rgb(255,255,191)\"],[0.6,\"rgb(217,239,139)\"],[0.7,\"rgb(166,217,106)\"],[0.8,\"rgb(102,189,99)\"],[0.9,\"rgb(26,152,80)\"],[1.0,\"rgb(0,104,55)\"]],\"line\":{\"width\":2},\"size\":[50.0,50.0,40.0,30.0,22.22222222222222,20.0,16.666666666666664,16.666666666666664,15.384615384615385,14.285714285714285,10.975609756097562,9.67741935483871,9.090909090909092,9.090909090909092,8.928571428571429,8.823529411764705,8.333333333333332,8.333333333333332,7.6923076923076925,7.142857142857142]},\"mode\":\"markers\",\"text\":[\"EA SPORTS FC\\u2122 25\\u003cbr\\u003ePopularity: 1.00\\u003cbr\\u003eAvg Sentiment: 0.00\",\"Garry's Mod\\u003cbr\\u003ePopularity: 1.00\\u003cbr\\u003eAvg Sentiment: 0.00\",\"Warhammer 40,000: Space Marine 2\\u003cbr\\u003ePopularity: 0.80\\u003cbr\\u003eAvg Sentiment: 0.08\",\"Counter-Strike 2\\u003cbr\\u003ePopularity: 0.60\\u003cbr\\u003eAvg Sentiment: 0.06\",\"Frostpunk 2\\u003cbr\\u003ePopularity: 0.44\\u003cbr\\u003eAvg Sentiment: 0.00\",\"Terraria\\u003cbr\\u003ePopularity: 0.40\\u003cbr\\u003eAvg Sentiment: 0.00\",\"Sid Meier's Civilization\\u00ae V\\u003cbr\\u003ePopularity: 0.33\\u003cbr\\u003eAvg Sentiment: 0.00\",\"Black Myth: Wukong\\u003cbr\\u003ePopularity: 0.33\\u003cbr\\u003eAvg Sentiment: 0.10\",\"NBA 2K25\\u003cbr\\u003ePopularity: 0.31\\u003cbr\\u003eAvg Sentiment: 0.00\",\"TCG Card Shop Simulator\\u003cbr\\u003ePopularity: 0.29\\u003cbr\\u003eAvg Sentiment: 0.00\",\"Dota 2\\u003cbr\\u003ePopularity: 0.22\\u003cbr\\u003eAvg Sentiment: 0.00\",\"Baldur's Gate 3\\u003cbr\\u003ePopularity: 0.19\\u003cbr\\u003eAvg Sentiment: 0.00\",\"The Crew Motorfest\\u003cbr\\u003ePopularity: 0.18\\u003cbr\\u003eAvg Sentiment: 0.00\",\"PUBG: BATTLEGROUNDS\\u003cbr\\u003ePopularity: 0.18\\u003cbr\\u003eAvg Sentiment: 0.00\",\"Satisfactory\\u003cbr\\u003ePopularity: 0.18\\u003cbr\\u003eAvg Sentiment: 0.00\",\"ELDEN RING\\u003cbr\\u003ePopularity: 0.18\\u003cbr\\u003eAvg Sentiment: 0.07\",\"People Playground\\u003cbr\\u003ePopularity: 0.17\\u003cbr\\u003eAvg Sentiment: 0.00\",\"All-In-One Sports VR\\u003cbr\\u003ePopularity: 0.17\\u003cbr\\u003eAvg Sentiment: 0.00\",\"Divinity: Original Sin 2 - Definitive Edition\\u003cbr\\u003ePopularity: 0.15\\u003cbr\\u003eAvg Sentiment: 0.00\",\"War Thunder\\u003cbr\\u003ePopularity: 0.14\\u003cbr\\u003eAvg Sentiment: 0.00\"],\"x\":[\"EA SPORTS FC\\u2122 25\",\"Garry's Mod\",\"Warhammer 40,000: Space Marine 2\",\"Counter-Strike 2\",\"Frostpunk 2\",\"Terraria\",\"Sid Meier's Civilization\\u00ae V\",\"Black Myth: Wukong\",\"NBA 2K25\",\"TCG Card Shop Simulator\",\"Dota 2\",\"Baldur's Gate 3\",\"The Crew Motorfest\",\"PUBG: BATTLEGROUNDS\",\"Satisfactory\",\"ELDEN RING\",\"People Playground\",\"All-In-One Sports VR\",\"Divinity: Original Sin 2 - Definitive Edition\",\"War Thunder\"],\"y\":[{\"popularity\":1.0,\"avg_sentiment\":0.0},{\"popularity\":1.0,\"avg_sentiment\":0.0},{\"popularity\":0.8,\"avg_sentiment\":0.08168307434911085},{\"popularity\":0.6,\"avg_sentiment\":0.06033692923013829},{\"popularity\":0.4444444444444444,\"avg_sentiment\":0.0},{\"popularity\":0.4,\"avg_sentiment\":0.0},{\"popularity\":0.3333333333333333,\"avg_sentiment\":0.0},{\"popularity\":0.3333333333333333,\"avg_sentiment\":0.09628418480289505},{\"popularity\":0.3076923076923077,\"avg_sentiment\":0.0},{\"popularity\":0.2857142857142857,\"avg_sentiment\":0.0},{\"popularity\":0.21951219512195122,\"avg_sentiment\":0.0},{\"popularity\":0.1935483870967742,\"avg_sentiment\":0.0},{\"popularity\":0.18181818181818182,\"avg_sentiment\":0.0},{\"popularity\":0.18181818181818182,\"avg_sentiment\":0.0},{\"popularity\":0.17857142857142858,\"avg_sentiment\":0.0},{\"popularity\":0.1764705882352941,\"avg_sentiment\":0.06833617457922458},{\"popularity\":0.16666666666666666,\"avg_sentiment\":0.0},{\"popularity\":0.16666666666666666,\"avg_sentiment\":0.0},{\"popularity\":0.15384615384615385,\"avg_sentiment\":0.0},{\"popularity\":0.14285714285714285,\"avg_sentiment\":0.0}],\"type\":\"scatter\"}],                        {\"template\":{\"data\":{\"histogram2dcontour\":[{\"type\":\"histogram2dcontour\",\"colorbar\":{\"outlinewidth\":0,\"ticks\":\"\"},\"colorscale\":[[0.0,\"#0d0887\"],[0.1111111111111111,\"#46039f\"],[0.2222222222222222,\"#7201a8\"],[0.3333333333333333,\"#9c179e\"],[0.4444444444444444,\"#bd3786\"],[0.5555555555555556,\"#d8576b\"],[0.6666666666666666,\"#ed7953\"],[0.7777777777777778,\"#fb9f3a\"],[0.8888888888888888,\"#fdca26\"],[1.0,\"#f0f921\"]]}],\"choropleth\":[{\"type\":\"choropleth\",\"colorbar\":{\"outlinewidth\":0,\"ticks\":\"\"}}],\"histogram2d\":[{\"type\":\"histogram2d\",\"colorbar\":{\"outlinewidth\":0,\"ticks\":\"\"},\"colorscale\":[[0.0,\"#0d0887\"],[0.1111111111111111,\"#46039f\"],[0.2222222222222222,\"#7201a8\"],[0.3333333333333333,\"#9c179e\"],[0.4444444444444444,\"#bd3786\"],[0.5555555555555556,\"#d8576b\"],[0.6666666666666666,\"#ed7953\"],[0.7777777777777778,\"#fb9f3a\"],[0.8888888888888888,\"#fdca26\"],[1.0,\"#f0f921\"]]}],\"heatmap\":[{\"type\":\"heatmap\",\"colorbar\":{\"outlinewidth\":0,\"ticks\":\"\"},\"colorscale\":[[0.0,\"#0d0887\"],[0.1111111111111111,\"#46039f\"],[0.2222222222222222,\"#7201a8\"],[0.3333333333333333,\"#9c179e\"],[0.4444444444444444,\"#bd3786\"],[0.5555555555555556,\"#d8576b\"],[0.6666666666666666,\"#ed7953\"],[0.7777777777777778,\"#fb9f3a\"],[0.8888888888888888,\"#fdca26\"],[1.0,\"#f0f921\"]]}],\"heatmapgl\":[{\"type\":\"heatmapgl\",\"colorbar\":{\"outlinewidth\":0,\"ticks\":\"\"},\"colorscale\":[[0.0,\"#0d0887\"],[0.1111111111111111,\"#46039f\"],[0.2222222222222222,\"#7201a8\"],[0.3333333333333333,\"#9c179e\"],[0.4444444444444444,\"#bd3786\"],[0.5555555555555556,\"#d8576b\"],[0.6666666666666666,\"#ed7953\"],[0.7777777777777778,\"#fb9f3a\"],[0.8888888888888888,\"#fdca26\"],[1.0,\"#f0f921\"]]}],\"contourcarpet\":[{\"type\":\"contourcarpet\",\"colorbar\":{\"outlinewidth\":0,\"ticks\":\"\"}}],\"contour\":[{\"type\":\"contour\",\"colorbar\":{\"outlinewidth\":0,\"ticks\":\"\"},\"colorscale\":[[0.0,\"#0d0887\"],[0.1111111111111111,\"#46039f\"],[0.2222222222222222,\"#7201a8\"],[0.3333333333333333,\"#9c179e\"],[0.4444444444444444,\"#bd3786\"],[0.5555555555555556,\"#d8576b\"],[0.6666666666666666,\"#ed7953\"],[0.7777777777777778,\"#fb9f3a\"],[0.8888888888888888,\"#fdca26\"],[1.0,\"#f0f921\"]]}],\"surface\":[{\"type\":\"surface\",\"colorbar\":{\"outlinewidth\":0,\"ticks\":\"\"},\"colorscale\":[[0.0,\"#0d0887\"],[0.1111111111111111,\"#46039f\"],[0.2222222222222222,\"#7201a8\"],[0.3333333333333333,\"#9c179e\"],[0.4444444444444444,\"#bd3786\"],[0.5555555555555556,\"#d8576b\"],[0.6666666666666666,\"#ed7953\"],[0.7777777777777778,\"#fb9f3a\"],[0.8888888888888888,\"#fdca26\"],[1.0,\"#f0f921\"]]}],\"mesh3d\":[{\"type\":\"mesh3d\",\"colorbar\":{\"outlinewidth\":0,\"ticks\":\"\"}}],\"scatter\":[{\"fillpattern\":{\"fillmode\":\"overlay\",\"size\":10,\"solidity\":0.2},\"type\":\"scatter\"}],\"parcoords\":[{\"type\":\"parcoords\",\"line\":{\"colorbar\":{\"outlinewidth\":0,\"ticks\":\"\"}}}],\"scatterpolargl\":[{\"type\":\"scatterpolargl\",\"marker\":{\"colorbar\":{\"outlinewidth\":0,\"ticks\":\"\"}}}],\"bar\":[{\"error_x\":{\"color\":\"#2a3f5f\"},\"error_y\":{\"color\":\"#2a3f5f\"},\"marker\":{\"line\":{\"color\":\"#E5ECF6\",\"width\":0.5},\"pattern\":{\"fillmode\":\"overlay\",\"size\":10,\"solidity\":0.2}},\"type\":\"bar\"}],\"scattergeo\":[{\"type\":\"scattergeo\",\"marker\":{\"colorbar\":{\"outlinewidth\":0,\"ticks\":\"\"}}}],\"scatterpolar\":[{\"type\":\"scatterpolar\",\"marker\":{\"colorbar\":{\"outlinewidth\":0,\"ticks\":\"\"}}}],\"histogram\":[{\"marker\":{\"pattern\":{\"fillmode\":\"overlay\",\"size\":10,\"solidity\":0.2}},\"type\":\"histogram\"}],\"scattergl\":[{\"type\":\"scattergl\",\"marker\":{\"colorbar\":{\"outlinewidth\":0,\"ticks\":\"\"}}}],\"scatter3d\":[{\"type\":\"scatter3d\",\"line\":{\"colorbar\":{\"outlinewidth\":0,\"ticks\":\"\"}},\"marker\":{\"colorbar\":{\"outlinewidth\":0,\"ticks\":\"\"}}}],\"scattermapbox\":[{\"type\":\"scattermapbox\",\"marker\":{\"colorbar\":{\"outlinewidth\":0,\"ticks\":\"\"}}}],\"scatterternary\":[{\"type\":\"scatterternary\",\"marker\":{\"colorbar\":{\"outlinewidth\":0,\"ticks\":\"\"}}}],\"scattercarpet\":[{\"type\":\"scattercarpet\",\"marker\":{\"colorbar\":{\"outlinewidth\":0,\"ticks\":\"\"}}}],\"carpet\":[{\"aaxis\":{\"endlinecolor\":\"#2a3f5f\",\"gridcolor\":\"white\",\"linecolor\":\"white\",\"minorgridcolor\":\"white\",\"startlinecolor\":\"#2a3f5f\"},\"baxis\":{\"endlinecolor\":\"#2a3f5f\",\"gridcolor\":\"white\",\"linecolor\":\"white\",\"minorgridcolor\":\"white\",\"startlinecolor\":\"#2a3f5f\"},\"type\":\"carpet\"}],\"table\":[{\"cells\":{\"fill\":{\"color\":\"#EBF0F8\"},\"line\":{\"color\":\"white\"}},\"header\":{\"fill\":{\"color\":\"#C8D4E3\"},\"line\":{\"color\":\"white\"}},\"type\":\"table\"}],\"barpolar\":[{\"marker\":{\"line\":{\"color\":\"#E5ECF6\",\"width\":0.5},\"pattern\":{\"fillmode\":\"overlay\",\"size\":10,\"solidity\":0.2}},\"type\":\"barpolar\"}],\"pie\":[{\"automargin\":true,\"type\":\"pie\"}]},\"layout\":{\"autotypenumbers\":\"strict\",\"colorway\":[\"#636efa\",\"#EF553B\",\"#00cc96\",\"#ab63fa\",\"#FFA15A\",\"#19d3f3\",\"#FF6692\",\"#B6E880\",\"#FF97FF\",\"#FECB52\"],\"font\":{\"color\":\"#2a3f5f\"},\"hovermode\":\"closest\",\"hoverlabel\":{\"align\":\"left\"},\"paper_bgcolor\":\"white\",\"plot_bgcolor\":\"#E5ECF6\",\"polar\":{\"bgcolor\":\"#E5ECF6\",\"angularaxis\":{\"gridcolor\":\"white\",\"linecolor\":\"white\",\"ticks\":\"\"},\"radialaxis\":{\"gridcolor\":\"white\",\"linecolor\":\"white\",\"ticks\":\"\"}},\"ternary\":{\"bgcolor\":\"#E5ECF6\",\"aaxis\":{\"gridcolor\":\"white\",\"linecolor\":\"white\",\"ticks\":\"\"},\"baxis\":{\"gridcolor\":\"white\",\"linecolor\":\"white\",\"ticks\":\"\"},\"caxis\":{\"gridcolor\":\"white\",\"linecolor\":\"white\",\"ticks\":\"\"}},\"coloraxis\":{\"colorbar\":{\"outlinewidth\":0,\"ticks\":\"\"}},\"colorscale\":{\"sequential\":[[0.0,\"#0d0887\"],[0.1111111111111111,\"#46039f\"],[0.2222222222222222,\"#7201a8\"],[0.3333333333333333,\"#9c179e\"],[0.4444444444444444,\"#bd3786\"],[0.5555555555555556,\"#d8576b\"],[0.6666666666666666,\"#ed7953\"],[0.7777777777777778,\"#fb9f3a\"],[0.8888888888888888,\"#fdca26\"],[1.0,\"#f0f921\"]],\"sequentialminus\":[[0.0,\"#0d0887\"],[0.1111111111111111,\"#46039f\"],[0.2222222222222222,\"#7201a8\"],[0.3333333333333333,\"#9c179e\"],[0.4444444444444444,\"#bd3786\"],[0.5555555555555556,\"#d8576b\"],[0.6666666666666666,\"#ed7953\"],[0.7777777777777778,\"#fb9f3a\"],[0.8888888888888888,\"#fdca26\"],[1.0,\"#f0f921\"]],\"diverging\":[[0,\"#8e0152\"],[0.1,\"#c51b7d\"],[0.2,\"#de77ae\"],[0.3,\"#f1b6da\"],[0.4,\"#fde0ef\"],[0.5,\"#f7f7f7\"],[0.6,\"#e6f5d0\"],[0.7,\"#b8e186\"],[0.8,\"#7fbc41\"],[0.9,\"#4d9221\"],[1,\"#276419\"]]},\"xaxis\":{\"gridcolor\":\"white\",\"linecolor\":\"white\",\"ticks\":\"\",\"title\":{\"standoff\":15},\"zerolinecolor\":\"white\",\"automargin\":true,\"zerolinewidth\":2},\"yaxis\":{\"gridcolor\":\"white\",\"linecolor\":\"white\",\"ticks\":\"\",\"title\":{\"standoff\":15},\"zerolinecolor\":\"white\",\"automargin\":true,\"zerolinewidth\":2},\"scene\":{\"xaxis\":{\"backgroundcolor\":\"#E5ECF6\",\"gridcolor\":\"white\",\"linecolor\":\"white\",\"showbackground\":true,\"ticks\":\"\",\"zerolinecolor\":\"white\",\"gridwidth\":2},\"yaxis\":{\"backgroundcolor\":\"#E5ECF6\",\"gridcolor\":\"white\",\"linecolor\":\"white\",\"showbackground\":true,\"ticks\":\"\",\"zerolinecolor\":\"white\",\"gridwidth\":2},\"zaxis\":{\"backgroundcolor\":\"#E5ECF6\",\"gridcolor\":\"white\",\"linecolor\":\"white\",\"showbackground\":true,\"ticks\":\"\",\"zerolinecolor\":\"white\",\"gridwidth\":2}},\"shapedefaults\":{\"line\":{\"color\":\"#2a3f5f\"}},\"annotationdefaults\":{\"arrowcolor\":\"#2a3f5f\",\"arrowhead\":0,\"arrowwidth\":1},\"geo\":{\"bgcolor\":\"white\",\"landcolor\":\"#E5ECF6\",\"subunitcolor\":\"white\",\"showland\":true,\"showlakes\":true,\"lakecolor\":\"white\"},\"title\":{\"x\":0.05},\"mapbox\":{\"style\":\"light\"}}},\"margin\":{\"l\":0,\"r\":0,\"t\":40,\"b\":0},\"xaxis\":{\"showgrid\":false,\"zeroline\":false},\"yaxis\":{\"showgrid\":false,\"zeroline\":false},\"title\":{\"text\":\"Game Relationship Network\"},\"showlegend\":false},                        {\"responsive\": true}                    ).then(function(){\n",
       "                            \n",
       "var gd = document.getElementById('bbd1ad07-cd58-42b3-bc35-6e33dff46ad8');\n",
       "var x = new MutationObserver(function (mutations, observer) {{\n",
       "        var display = window.getComputedStyle(gd).display;\n",
       "        if (!display || display === 'none') {{\n",
       "            console.log([gd, 'removed!']);\n",
       "            Plotly.purge(gd);\n",
       "            observer.disconnect();\n",
       "        }}\n",
       "}});\n",
       "\n",
       "// Listen for the removal of the full notebook cells\n",
       "var notebookContainer = gd.closest('#notebook-container');\n",
       "if (notebookContainer) {{\n",
       "    x.observe(notebookContainer, {childList: true});\n",
       "}}\n",
       "\n",
       "// Listen for the clearing of the current output cell\n",
       "var outputEl = gd.closest('.output');\n",
       "if (outputEl) {{\n",
       "    x.observe(outputEl, {childList: true});\n",
       "}}\n",
       "\n",
       "                        })                };                });            </script>        </div>"
      ]
     },
     "metadata": {},
     "output_type": "display_data"
    }
   ],
   "source": [
    "import networkx as nx\n",
    "import plotly.graph_objects as go\n",
    "\n",
    "# Filter Top Games for Simplicity\n",
    "top_games = games_with_sentiment.sort_values(by='popularity_score', ascending=False).head(20)\n",
    "\n",
    "# Create a Graph\n",
    "G = nx.Graph()\n",
    "\n",
    "# Add Nodes with Attributes\n",
    "for _, row in top_games.iterrows():\n",
    "    G.add_node(row['name'], \n",
    "               popularity=row['popularity_score'], \n",
    "               avg_sentiment=row['avg_sentiment'])\n",
    "\n",
    "# Add Edges Based on Shared Genres\n",
    "for i, game1 in top_games.iterrows():\n",
    "    for j, game2 in top_games.iterrows():\n",
    "        if i < j and set(game1['genres'].split(', ')) & set(game2['genres'].split(', ')):\n",
    "            G.add_edge(game1['name'], game2['name'])\n",
    "\n",
    "# Extract Attributes for Plotting\n",
    "node_x = []\n",
    "node_y = []\n",
    "node_size = []\n",
    "node_color = []\n",
    "\n",
    "for node in G.nodes(data=True):\n",
    "    node_x.append(node[0])\n",
    "    node_y.append(node[1])\n",
    "    node_size.append(node[1]['popularity'] * 50)  # Scale for visualization\n",
    "    node_color.append(node[1]['avg_sentiment'])\n",
    "\n",
    "edge_x = []\n",
    "edge_y = []\n",
    "for edge in G.edges():\n",
    "    x0, y0 = edge[0], edge[1]\n",
    "    edge_x.append(x0)\n",
    "    edge_y.append(y0)\n",
    "\n",
    "# Plot the Graph with Plotly\n",
    "fig = go.Figure()\n",
    "\n",
    "# Add Edges\n",
    "fig.add_trace(go.Scatter(\n",
    "    x=edge_x, y=edge_y,\n",
    "    line=dict(width=0.5, color='gray'),\n",
    "    hoverinfo='none',\n",
    "    mode='lines'\n",
    "))\n",
    "\n",
    "# Add Nodes\n",
    "fig.add_trace(go.Scatter(\n",
    "    x=node_x, y=node_y,\n",
    "    mode='markers',\n",
    "    marker=dict(\n",
    "        size=node_size,\n",
    "        color=node_color,\n",
    "        colorscale='RdYlGn',\n",
    "        colorbar=dict(title='Avg Sentiment'),\n",
    "        line_width=2\n",
    "    ),\n",
    "    text=[f\"{node[0]}<br>Popularity: {node[1]['popularity']:.2f}<br>Avg Sentiment: {node[1]['avg_sentiment']:.2f}\" for node in G.nodes(data=True)],\n",
    "    hoverinfo='text'\n",
    "))\n",
    "\n",
    "# Final Layout Adjustments\n",
    "fig.update_layout(\n",
    "    title=\"Game Relationship Network\",\n",
    "    showlegend=False,\n",
    "    margin=dict(l=0, r=0, t=40, b=0),\n",
    "    xaxis=dict(showgrid=False, zeroline=False),\n",
    "    yaxis=dict(showgrid=False, zeroline=False)\n",
    ")\n",
    "\n",
    "fig.show()\n"
   ]
  },
  {
   "cell_type": "markdown",
   "id": "dc563110",
   "metadata": {},
   "source": [
    "This code constructs a graph using the top 20 games based on popularity, with nodes representing games and edges linking games that share genres. It uses networkx to create the graph and plotly for interactive visualization, where node size reflects popularity, node color represents average sentiment, and edges show genre relationships. The result is a visually intuitive game relationship network."
   ]
  }
 ],
 "metadata": {
  "kernelspec": {
   "display_name": "Python 3 (ipykernel)",
   "language": "python",
   "name": "python3"
  },
  "language_info": {
   "codemirror_mode": {
    "name": "ipython",
    "version": 3
   },
   "file_extension": ".py",
   "mimetype": "text/x-python",
   "name": "python",
   "nbconvert_exporter": "python",
   "pygments_lexer": "ipython3",
   "version": "3.9.7"
  }
 },
 "nbformat": 4,
 "nbformat_minor": 5
}
